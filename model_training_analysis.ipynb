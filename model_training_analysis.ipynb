{
 "cells": [
  {
   "cell_type": "markdown",
   "metadata": {},
   "source": [
    "# Notebook for model training analysis\n",
    "\n",
    "Imports"
   ]
  },
  {
   "cell_type": "code",
   "execution_count": 1,
   "metadata": {},
   "outputs": [],
   "source": [
    "import time\n",
    "import os\n",
    "import importlib\n",
    "\n",
    "from pprint import pprint\n",
    "from collections import defaultdict\n",
    "from pathlib import Path\n",
    "from more_itertools import grouper\n",
    "from itertools import islice, chain, zip_longest, repeat\n",
    "\n",
    "import numpy as np\n",
    "import pandas as pd\n",
    "\n",
    "import matplotlib as mpl\n",
    "from matplotlib import pyplot as plt\n",
    "from matplotlib import gridspec\n",
    "import matplotlib.axes as ax\n",
    "import seaborn as sns\n",
    "\n",
    "import scipy\n",
    "from scipy import io\n",
    "from scipy.signal import convolve\n",
    "from scipy.sparse import coo_matrix, csr_matrix\n",
    "from scipy.stats import pearsonr\n",
    "from scipy.cluster.hierarchy import cut_tree\n",
    "\n",
    "from sklearn.utils import shuffle\n",
    "from sklearn.preprocessing import OneHotEncoder\n",
    "\n",
    "from Modules import utils, plot_utils"
   ]
  },
  {
   "cell_type": "markdown",
   "metadata": {},
   "source": [
    "Useful global variables"
   ]
  },
  {
   "cell_type": "code",
   "execution_count": 2,
   "metadata": {},
   "outputs": [],
   "source": [
    "importlib.reload(utils)\n",
    "data_dir = '../shared_folder'\n",
    "writing_dir = '../shared_folder'\n",
    "# writing_dir='../'\n",
    "prop_cycle = plt.rcParams['axes.prop_cycle']\n",
    "colors = prop_cycle.by_key()['color']"
   ]
  },
  {
   "cell_type": "markdown",
   "metadata": {},
   "source": [
    "Plot test distribution"
   ]
  },
  {
   "cell_type": "code",
   "execution_count": 7,
   "metadata": {},
   "outputs": [
    {
     "data": {
      "image/png": "[encoded data removed]",
      "text/plain": [
       "<Figure size 432x446.4 with 6 Axes>"
      ]
     },
     "metadata": {
      "needs_background": "light"
     },
     "output_type": "display_data"
    }
   ],
   "source": [
    "data = 'RNAPII_quiescence'\n",
    "dataset_name = 'sharded_dataset_6d_2'\n",
    "model_name = 'model_inception_6d_2_1.0'\n",
    "sharded = True\n",
    "part = 'test'\n",
    "thres = None # 0.6  # threshold to visualize in figure\n",
    "# Get predictions and labels\n",
    "with np.load(Path(data_dir, data, 'results', model_name, f'distrib_{model_name}_{part}.npz')) as f:\n",
    "    preds = f['pred']\n",
    "if sharded:\n",
    "    y_part = np.zeros(len(preds), dtype=bool)\n",
    "    y_part[::2] = 1\n",
    "else:\n",
    "    with np.load(Path(data_dir, data, f'{dataset_name}.npz')) as f:\n",
    "        y_part = f[f'y_{part}']\n",
    "# Isolate labels and compute accuracy\n",
    "predIP = preds[y_part == 1]\n",
    "predControl = preds[y_part == 0]\n",
    "accuracy = (len(predIP[predIP > 0.5]) + len(predControl[predControl < 0.5])) / (len(predIP) + len(predControl))\n",
    "# Build histogram\n",
    "n_bins = 100\n",
    "histIP, bins = np.histogram(predIP, bins=n_bins, range=(0, 1))\n",
    "histControl = np.histogram(predControl, bins=n_bins, range=(0, 1))[0]\n",
    "\n",
    "# Build figure\n",
    "widths = [5, 1]\n",
    "heights = [1.2] + [2.5]*2\n",
    "fig = plt.figure(figsize=(np.sum(widths), np.sum(heights)))\n",
    "# fig.suptitle(f\"Distribution of predictions of {model_name} on {data}-{dataset}-{part} for IP and Control reads\")\n",
    "gs = gridspec.GridSpec(ncols=len(widths), nrows=len(heights), width_ratios=widths, height_ratios=heights)\n",
    "# Top labels\n",
    "ax0_top = plt.subplot(gs[0, 0])\n",
    "label_col0 = 'predictions'\n",
    "ax0_top.annotate(label_col0, (0.1, 0.5), xycoords='axes fraction', va='center', fontsize=18)\n",
    "ax0_top.axis('off')\n",
    "\n",
    "ax1_top = plt.subplot(gs[0, 1])\n",
    "label_col1 = 'scale'\n",
    "ax1_top.annotate(label_col1, (0.1, 0.5), xycoords='axes fraction', va='center', fontsize=18)\n",
    "ax1_top.axis('off')\n",
    "\n",
    "for nrow in range(1,3):\n",
    "    ax0 = plt.subplot(gs[nrow, 0])\n",
    "    # Histograms\n",
    "    ax0.bar(bins[:-1], histIP, width=np.diff(bins), label='IP', alpha=0.5)\n",
    "    ax0.bar(bins[:-1], histControl, width=np.diff(bins), label='Control', alpha=0.5)\n",
    "    # Vertical lines\n",
    "    ax0.axvline(x=0.5, color='black')#, label='t0.5')\n",
    "    if thres is not None:\n",
    "        ax0.axvline(x=thres, color='red')#, label=f't{thres}')\n",
    "    # Right labels and scale adjustment\n",
    "    ax1 = plt.subplot(gs[nrow, 1])\n",
    "    if nrow == 1:\n",
    "        label = 'linear'\n",
    "        ax1.annotate(f'accuracy: {round(accuracy, 4)}', (0, 0.4), xycoords='axes fraction', va='center', fontsize=13)\n",
    "    elif nrow == 2:\n",
    "        label = 'log'\n",
    "        ax0.set_yscale('log')\n",
    "    ax1.annotate(label, (0.1, 0.6), xycoords='axes fraction', va='center', fontsize=18)\n",
    "    ax1.axis('off')\n",
    "ax0.set_xlabel(\"predictions\", fontsize=18)\n",
    "ax0.set_ylabel(\"read count\", fontsize=18)\n",
    "handles, labels = ax0.get_legend_handles_labels()\n",
    "ax0_top.legend(handles, labels, loc='right', fontsize=16)\n",
    "# Save figure\n",
    "fig_file = Path(writing_dir, data, 'results', model_name, f'distrib_{model_name}_{part}.png')\n",
    "fig_file = utils.safe_filename(fig_file)\n",
    "plt.savefig(fig_file, bbox_inches='tight')\n",
    "# Save histogram\n",
    "np.savez(Path(writing_dir, data, 'results', model_name, f'distrib_{model_name}_{part}_hist{n_bins}'), IP=histIP, Control=histControl)\n",
    "plt.show()\n",
    "plt.close()"
   ]
  },
  {
   "cell_type": "markdown",
   "metadata": {},
   "source": [
    "Select sequences"
   ]
  },
  {
   "cell_type": "code",
   "execution_count": 5,
   "metadata": {},
   "outputs": [
    {
     "name": "stdout",
     "output_type": "stream",
     "text": [
      "nb of selected reads with thres 0.7: 5105\n"
     ]
    }
   ],
   "source": [
    "if sharded:\n",
    "    with np.load(Path(data_dir, data, dataset_name, 'test_0.npz')) as f:\n",
    "        x_test = f['one_hots']\n",
    "else:\n",
    "    with np.load(Path(data_dir, data, f'{dataset_name}.npz')) as f:\n",
    "        x_test = f['x_test']\n",
    "# thres = 0.6\n",
    "selected_reads = x_test[preds.ravel() > thres, :, :]\n",
    "print(f'nb of selected reads with thres {thres}:', len(selected_reads))"
   ]
  },
  {
   "cell_type": "code",
   "execution_count": null,
   "metadata": {},
   "outputs": [],
   "source": [
    "with np.load(Path(data_dir, data, f'{dataset_name}.npz')) as f:\n",
    "    x_test = f['x_test']\n",
    "thres0 = 0.83\n",
    "thres1 = 0.99\n",
    "preds = preds.ravel()\n",
    "mask = np.logical_and(preds > thres0, preds < thres1)\n",
    "selected_reads = x_test[mask, :, :]\n",
    "print(f'nb of selected reads between {thres0} and {thres1}:', len(selected_reads))"
   ]
  },
  {
   "cell_type": "markdown",
   "metadata": {},
   "source": [
    "Write into fasta file"
   ]
  },
  {
   "cell_type": "code",
   "execution_count": 6,
   "metadata": {},
   "outputs": [],
   "source": [
    "# 3m per 10_000_000 seqs of 101 bp\n",
    "utils.write_fasta(utils.one_hot_to_seq(selected_reads), Path(writing_dir, data, 'results', model_name, f'seqs_{data}_over_{thres}_with_{model_name}.fasta'))"
   ]
  },
  {
   "cell_type": "code",
   "execution_count": null,
   "metadata": {},
   "outputs": [],
   "source": [
    "# 3m per 10_000_000 seqs of 101 bp\n",
    "utils.write_fasta(utils.one_hot_to_seq(selected_reads), Path(writing_dir, data, 'results', model_name, f'seqs_{data}_over_{thres0}_below_{thres1}_with_{model_name}.fasta'))"
   ]
  },
  {
   "cell_type": "markdown",
   "metadata": {},
   "source": [
    "Plot training logs"
   ]
  },
  {
   "cell_type": "code",
   "execution_count": 8,
   "metadata": {},
   "outputs": [
    {
     "data": {
      "image/png": "[encoded data removed]",
      "text/plain": [
       "<Figure size 360x432 with 2 Axes>"
      ]
     },
     "metadata": {
      "needs_background": "light"
     },
     "output_type": "display_data"
    }
   ],
   "source": [
    "logs = pd.read_csv(Path(data_dir, data, 'Trainedmodels', model_name, 'epoch_data.csv'))\n",
    "fig = plt.figure(figsize=(5, 6))\n",
    "fig.suptitle(f'Training logs for {model_name} on {data}')\n",
    "ax0 = plt.subplot(211)\n",
    "ax0.plot(logs['val_accuracy'], label='valid')\n",
    "ax0.plot(logs['accuracy'], label='train')\n",
    "ax0.set_ylabel('accuracy')\n",
    "ax0.legend()\n",
    "\n",
    "ax1 = plt.subplot(212)\n",
    "ax1.plot(logs['val_loss'], label='valid')\n",
    "ax1.plot(logs['loss'], label='train')\n",
    "ax1.set_xlabel('epoch')\n",
    "ax1.set_ylabel('loss')\n",
    "ax1.legend()\n",
    "\n",
    "fig_file = Path(writing_dir, data, 'results', model_name, f'{model_name}_train_log.png')\n",
    "fig_file = utils.safe_filename(fig_file)\n",
    "plt.savefig(fig_file, bbox_inches='tight')\n",
    "plt.show()\n",
    "plt.close()"
   ]
  },
  {
   "cell_type": "code",
   "execution_count": 9,
   "metadata": {},
   "outputs": [
    {
     "name": "stdout",
     "output_type": "stream",
     "text": [
      "accuracy:  0.5428018569946289\n",
      "IP accuracy:  0.476318359375\n",
      "Control accuracy:  0.6092853546142578\n"
     ]
    }
   ],
   "source": [
    "IP_accuracy = len(predIP[predIP > 0.5]) / len(predIP)\n",
    "Control_accuracy = len(predControl[predControl < 0.5]) / len(predControl)\n",
    "print('accuracy: ', accuracy)\n",
    "print('IP accuracy: ', IP_accuracy)\n",
    "print('Control accuracy: ', Control_accuracy)"
   ]
  },
  {
   "cell_type": "markdown",
   "metadata": {},
   "source": [
    "Plot test distribution during epochs"
   ]
  },
  {
   "cell_type": "code",
   "execution_count": 36,
   "metadata": {},
   "outputs": [
    {
     "name": "stdout",
     "output_type": "stream",
     "text": [
      "maximum accuracy of 0.5088714361190796 on epoch 17\n"
     ]
    },
    {
     "data": {
      "image/png": "[encoded data removed]",
      "text/plain": [
       "<Figure size 432x288 with 1 Axes>"
      ]
     },
     "metadata": {
      "needs_background": "light"
     },
     "output_type": "display_data"
    },
    {
     "data": {
      "image/png": "[encoded data removed]",
      "text/plain": [
       "<Figure size 432x1238.4 with 18 Axes>"
      ]
     },
     "metadata": {
      "needs_background": "light"
     },
     "output_type": "display_data"
    }
   ],
   "source": [
    "data = 'H3K9me3-GSE175752'\n",
    "dataset_name = 'sharded_dataset'\n",
    "model_name = 'model_inception3.0'\n",
    "sharded = True\n",
    "preds = np.load(Path(data_dir, data, 'Trainedmodels', model_name, 'eval_epochs.npy'))\n",
    "if sharded:\n",
    "    y_test = np.zeros(preds.shape[1], dtype=bool)\n",
    "    y_test[::2] = 1\n",
    "else:\n",
    "    with np.load(Path(data_dir, data, f'{dataset_name}.npz')) as f:\n",
    "        y_test = f['y_test']\n",
    "\n",
    "predsIP = preds[:, y_test == 1]\n",
    "predsControl = preds[:, y_test == 0]\n",
    "correct_IP = (predsIP > 0.5)\n",
    "correct_Control = (predsControl < 0.5)\n",
    "accuracys = (np.sum(correct_IP, axis=1) + np.sum(correct_Control, axis=1)) / len(y_test)\n",
    "amax = np.argmax(accuracys)\n",
    "print(f'maximum accuracy of {accuracys[amax]} on epoch {amax}')\n",
    "plt.plot(accuracys)\n",
    "plt.show()\n",
    "plt.close()\n",
    "\n",
    "# epochs = range(0, preds.shape[0], 5)\n",
    "epochs = [0, 1, 2, 3, 4, 9, 14, 19]\n",
    "widths = [5, 1]\n",
    "heights = [1.2] + [2]*len(epochs)\n",
    "fig = plt.figure(figsize=(np.sum(widths), np.sum(heights)))\n",
    "# fig.suptitle(f\"Distribution of predictions of {model_name} during epochs on {data} for IP and Control reads\")\n",
    "gs = gridspec.GridSpec(ncols=len(widths), nrows=len(heights), width_ratios=widths, height_ratios=heights)\n",
    "\n",
    "ax0_top = plt.subplot(gs[0, 0])\n",
    "label_col0 = 'prediction'\n",
    "ax0_top.annotate(label_col0, (0.1, 0.5), xycoords='axes fraction', va='center', fontsize=18)\n",
    "ax0_top.axis('off')\n",
    "\n",
    "ax1_top = plt.subplot(gs[0, 1])\n",
    "label_col1 = 'epoch'\n",
    "ax1_top.annotate(label_col1, (0.1, 0.5), xycoords='axes fraction', va='center', fontsize=18)\n",
    "ax1_top.axis('off')\n",
    "\n",
    "nrow = 1\n",
    "for epoch in epochs:\n",
    "    ax0 = plt.subplot(gs[nrow, 0])\n",
    "    ax0.hist(predsIP[epoch], bins=100, label='IP', alpha=0.5, range=(0,1))\n",
    "    ax0.hist(predsControl[epoch], bins=100, label='Control', alpha=0.5, range=(0,1))\n",
    "    ax0.axvline(x=0.5, color='black', label='base thres')\n",
    "    ax0.set_yscale('log')\n",
    "\n",
    "    ax1 = plt.subplot(gs[nrow, 1])\n",
    "    label = f'{epoch+1}'\n",
    "    ax1.annotate(label, (0.1, 0.5), xycoords='axes fraction', va='center', fontsize=18)\n",
    "    ax1.annotate(f'accuracy: {round(accuracys[epoch], 4)}', (0, 0.4), xycoords='axes fraction', va='center', fontsize=13)\n",
    "    ax1.axis('off')\n",
    "\n",
    "    nrow += 1\n",
    "\n",
    "handles, labels = ax0.get_legend_handles_labels()\n",
    "ax0_top.legend(handles, labels, loc='right')\n",
    "ax0.set_xlabel(\"predictions\")\n",
    "ax0.set_ylabel(\"read count\")\n",
    "fig_file = Path(writing_dir, data, 'results', model_name, f'distrib_{model_name}_test_epochs.png')\n",
    "fig_file = utils.safe_filename(fig_file)\n",
    "plt.savefig(fig_file, bbox_inches='tight')\n",
    "plt.show()\n",
    "plt.close()"
   ]
  },
  {
   "cell_type": "markdown",
   "metadata": {},
   "source": [
    "Compare predictions between 2 models"
   ]
  },
  {
   "cell_type": "code",
   "execution_count": null,
   "metadata": {},
   "outputs": [],
   "source": [
    "data = 'Judith-H3K4me3'\n",
    "dataset_name = 'dataset4'\n",
    "model_name = 'model_inception2.2_rel8'\n",
    "model_name2 = 'model_inception2.2'\n",
    "new_labels = 'dataset_rel8'\n",
    "relabeled = True\n",
    "preds = np.load(Path(data_dir, data, 'Trainedmodels', model_name, 'eval_epochs.npy'))\n",
    "preds2 = np.load(Path(data_dir, data, 'Trainedmodels', model_name2, 'eval_epochs.npy'))\n",
    "min_len = min(len(preds), len(preds2))\n",
    "diff = preds[:min_len] - preds2[:min_len]\n",
    "\n",
    "if relabeled:\n",
    "    with np.load(Path(data_dir, data, f'{new_labels}.npz')) as f:\n",
    "        y_test = f['y_test']\n",
    "else:\n",
    "    with np.load(Path(data_dir, data, f'{dataset_name}.npz')) as f:\n",
    "        y_test = f['y_test']\n",
    "\n",
    "diffIP = diff[:, y_test == 1]\n",
    "diffControl = diff[:, y_test == 0]\n",
    "\n",
    "# epochs = range(0, preds.shape[0], 5)\n",
    "epochs = [0, 1, 2, 3, 4, 9, 14, 19]\n",
    "widths = [5, 1]\n",
    "heights = [1.2] + [2]*len(epochs)\n",
    "fig = plt.figure(figsize=(np.sum(widths), np.sum(heights)))\n",
    "# fig.suptitle(f\"Distribution of prediction differences of {model_name} during epochs on {data} for IP and Control reads\")\n",
    "gs = gridspec.GridSpec(ncols=len(widths), nrows=len(heights), width_ratios=widths, height_ratios=heights)\n",
    "\n",
    "ax0_top = plt.subplot(gs[0, 0])\n",
    "label_col0 = 'prediction difference'\n",
    "ax0_top.annotate(label_col0, (0.1, 0.5), xycoords='axes fraction', va='center', fontsize=18)\n",
    "ax0_top.axis('off')\n",
    "\n",
    "ax1_top = plt.subplot(gs[0, 1])\n",
    "label_col1 = 'epoch'\n",
    "ax1_top.annotate(label_col1, (0.1, 0.5), xycoords='axes fraction', va='center', fontsize=18)\n",
    "ax1_top.axis('off')\n",
    "\n",
    "nrow = 1\n",
    "for epoch in epochs:\n",
    "    ax0 = plt.subplot(gs[nrow, 0])\n",
    "    ax0.hist(diffIP[epoch], bins=100, label='IP', alpha=0.5, range=(-1, 1))\n",
    "    ax0.hist(diffControl[epoch], bins=100, label='Control', alpha=0.5, range=(-1, 1))\n",
    "    # ax0.set_yscale('log')\n",
    "\n",
    "    ax1 = plt.subplot(gs[nrow, 1])\n",
    "    label = f'{epoch+1}'\n",
    "    ax1.annotate(label, (0.1, 0.5), xycoords='axes fraction', va='center', fontsize=18)\n",
    "    ax1.axis('off')\n",
    "\n",
    "    nrow += 1\n",
    "\n",
    "handles, labels = ax0.get_legend_handles_labels()\n",
    "ax0_top.legend(handles, labels, loc='right')\n",
    "ax0.set_xlabel(\"difference\")\n",
    "ax0.set_ylabel(\"read count\")\n",
    "fig_file = Path(writing_dir, data, 'results', model_name, f'distrib_{model_name}_vs_{model_name2}_test_epochs.png')\n",
    "fig_file = safe_filename(fig_file)\n",
    "plt.savefig(fig_file, bbox_inches='tight')\n",
    "plt.show()\n",
    "plt.close()"
   ]
  },
  {
   "cell_type": "markdown",
   "metadata": {},
   "source": [
    "## Other analysis on data\n",
    "\n",
    "Plot GC_content distribution"
   ]
  },
  {
   "cell_type": "code",
   "execution_count": 6,
   "metadata": {},
   "outputs": [
    {
     "name": "stdout",
     "output_type": "stream",
     "text": [
      "accuracy : 0.527552604675293\n"
     ]
    },
    {
     "data": {
      "image/png": "[encoded data removed]",
      "text/plain": [
       "<Figure size 432x446.4 with 6 Axes>"
      ]
     },
     "metadata": {
      "needs_background": "light"
     },
     "output_type": "display_data"
    }
   ],
   "source": [
    "data='RNAPII_quiescence'\n",
    "dataset_name='sharded_dataset_expo_2'\n",
    "sharded = True\n",
    "if sharded:\n",
    "    with np.load(Path(data_dir, data, dataset_name, 'test_0.npz')) as f:\n",
    "        x_test = f['one_hots']\n",
    "    y_test = np.zeros(len(x_test), dtype=bool)\n",
    "    y_test[::2] = 1\n",
    "else:\n",
    "    with np.load(Path(data_dir, data, f'{dataset_name}.npz')) as f:\n",
    "        x_test = f['x_test']\n",
    "        y_test = f['y_test']\n",
    "gc_content = utils.GC_content(x_test)\n",
    "\n",
    "bins = np.histogram(gc_content, bins=51, range=(0, 1))[1]\n",
    "accuracy, thres = utils.classify_1D(gc_content, y_test, bins=75)\n",
    "print('accuracy :', accuracy)\n",
    "\n",
    "widths = [5, 1]\n",
    "heights = [1.2] + [2.5]*2\n",
    "fig = plt.figure(figsize=(np.sum(widths), np.sum(heights)))\n",
    "# fig.suptitle(f\"Distribution of predictions of {model_name} on {data} for IP and Control reads\")\n",
    "gs = gridspec.GridSpec(ncols=len(widths), nrows=len(heights), width_ratios=widths, height_ratios=heights)\n",
    "\n",
    "ax0_top = plt.subplot(gs[0, 0])\n",
    "label_col0 = 'GC content'\n",
    "ax0_top.annotate(label_col0, (0.1, 0.5), xycoords='axes fraction', va='center', fontsize=18)\n",
    "ax0_top.axis('off')\n",
    "\n",
    "ax1_top = plt.subplot(gs[0, 1])\n",
    "label_col1 = 'scale'\n",
    "ax1_top.annotate(label_col1, (0.1, 0.5), xycoords='axes fraction', va='center', fontsize=18)\n",
    "ax1_top.axis('off')\n",
    "\n",
    "for nrow in range(1,3):\n",
    "\n",
    "    ax0 = plt.subplot(gs[nrow, 0])\n",
    "    ax0.hist(gc_content[y_test == 1], bins, label='IP', alpha=0.5)\n",
    "    ax0.hist(gc_content[y_test == 0], bins, label='Control', alpha=0.5)\n",
    "    ax0.axvline(x=0.5, color='black', label=f't0.5')\n",
    "    ax0.axvline(x=thres, color='red', label=f't{round(thres, 2)}')\n",
    "    \n",
    "    ax1 = plt.subplot(gs[nrow, 1])\n",
    "    if nrow == 1:\n",
    "        scale_label = 'linear'\n",
    "        ax1.annotate(f'accuracy: {round(accuracy, 4)}', (0, 0.4), xycoords='axes fraction', va='center', fontsize=13)\n",
    "    elif nrow == 2:\n",
    "        scale_label = 'log'\n",
    "        ax0.set_yscale('log')\n",
    "    ax1.annotate(scale_label, (0.1, 0.6), xycoords='axes fraction', va='center', fontsize=18)\n",
    "    ax1.axis('off')\n",
    "ax0.set_xlabel(\"GC content\", fontsize=18)\n",
    "ax0.set_ylabel(\"read count\", fontsize=18)\n",
    "handles, labels = ax0.get_legend_handles_labels()\n",
    "ax0_top.legend(handles, labels, loc='right')\n",
    "\n",
    "fig.suptitle(f'Distribution of GC content in {data} reads', fontsize=18)\n",
    "fig_name = Path(writing_dir, data, 'results', f'gc_content_classification_{dataset_name}.png')\n",
    "plt.savefig(fig_name, bbox_inches='tight')\n",
    "plt.show()\n",
    "plt.close()"
   ]
  },
  {
   "cell_type": "markdown",
   "metadata": {},
   "source": [
    "Old script for plot test distribution (too many cases)"
   ]
  },
  {
   "cell_type": "code",
   "execution_count": null,
   "metadata": {},
   "outputs": [],
   "source": [
    "data = 'Judith-H3K4me3'\n",
    "dataset_name = 'sharded_dataset2'\n",
    "model_name = 'model_inception3.1'\n",
    "load_hist = False\n",
    "hist_file = f'distrib_{model_name}_test_hist100000'\n",
    "relabeled = False\n",
    "new_labels = 'dataset_rel8'\n",
    "single_pred_array = True\n",
    "sharded = True\n",
    "if load_hist:\n",
    "    with np.load(f'{writing_dir}/{data}/results/{model_name}/{hist_file}.npz') as f:\n",
    "        histIP = f['IP']\n",
    "        histControl = f['Control']\n",
    "    bins = np.linspace(0, 1, len(histIP)+1)\n",
    "    win_start = 80000\n",
    "    win_stop = 80100\n",
    "    histIP, histControl, bins = histIP[win_start:win_stop], histControl[win_start:win_stop], bins[win_start:win_stop+1]\n",
    "else:\n",
    "    if single_pred_array:\n",
    "        if relabeled:\n",
    "            with np.load(f'{data_dir}/{data}/results/{model_name}/distrib_{model_name}_test.npz') as f:\n",
    "                preds = f['pred']\n",
    "            with np.load(f'{data_dir}//{data}/{new_labels}.npz') as f:\n",
    "                y_test = f['y_test']\n",
    "        else:\n",
    "            with np.load(f'{data_dir}/{data}/results/{model_name}/distrib_{model_name}_test.npz') as f:\n",
    "                preds = f['pred']\n",
    "            if sharded:\n",
    "                y_test = np.zeros(len(preds), dtype=bool)\n",
    "                y_test[::2] = 1\n",
    "            else:\n",
    "                with np.load(f'{data_dir}/{data}/{dataset_name}.npz') as f:\n",
    "                    y_test = f['y_test']\n",
    "        predIP = preds[y_test == 1]\n",
    "        predControl = preds[y_test == 0]\n",
    "    else:\n",
    "        with np.load(f'{data_dir}/{data}/results/distrib_{model_name}_test.npz') as f:\n",
    "                predIP = f['predIP']\n",
    "                predControl = f['predControl']\n",
    "    accuracy = (len(predIP[predIP > 0.5]) + len(predControl[predControl < 0.5])) / (len(predIP) + len(predControl))\n",
    "    n_bins = 100\n",
    "    histIP, bins = np.histogram(predIP, bins=n_bins, range=(0, 1))\n",
    "    histControl = np.histogram(predControl, bins=n_bins, range=(0, 1))[0]\n",
    "\n",
    "widths = [5, 1]\n",
    "heights = [1.2] + [2.5]*2\n",
    "fig = plt.figure(figsize=(np.sum(widths), np.sum(heights)))\n",
    "# fig.suptitle(f\"Distribution of predictions of {model_name} on {data} for IP and Control reads\")\n",
    "gs = gridspec.GridSpec(ncols=len(widths), nrows=len(heights), width_ratios=widths, height_ratios=heights)\n",
    "\n",
    "ax0_top = plt.subplot(gs[0, 0])\n",
    "label_col0 = 'predictions'\n",
    "ax0_top.annotate(label_col0, (0.1, 0.5), xycoords='axes fraction', va='center', fontsize=18)\n",
    "ax0_top.axis('off')\n",
    "\n",
    "ax1_top = plt.subplot(gs[0, 1])\n",
    "label_col1 = 'scale'\n",
    "ax1_top.annotate(label_col1, (0.1, 0.5), xycoords='axes fraction', va='center', fontsize=18)\n",
    "ax1_top.axis('off')\n",
    "\n",
    "for nrow in range(1,3):\n",
    "\n",
    "    ax0 = plt.subplot(gs[nrow, 0])\n",
    "\n",
    "    ax0.bar(bins[:-1], histIP, width=np.diff(bins), label='IP', alpha=0.5)\n",
    "    ax0.bar(bins[:-1], histControl, width=np.diff(bins), label='Control', alpha=0.5)\n",
    "\n",
    "    if not load_hist:\n",
    "        ax0.axvline(x=0.5, color='black')#, label='t0.5')\n",
    "        thres = 0.6\n",
    "        ax0.axvline(x=thres, color='red')#, label=f't{thres}')\n",
    "    \n",
    "    ax1 = plt.subplot(gs[nrow, 1])\n",
    "    if nrow == 1:\n",
    "        label = 'linear'\n",
    "        if not load_hist:\n",
    "            ax1.annotate(f'accuracy: {round(accuracy, 2)}', (0, 0.4), xycoords='axes fraction', va='center', fontsize=13)\n",
    "    elif nrow == 2:\n",
    "        label = 'log'\n",
    "        ax0.set_yscale('log')\n",
    "    ax1.annotate(label, (0.1, 0.6), xycoords='axes fraction', va='center', fontsize=18)\n",
    "    ax1.axis('off')\n",
    "ax0.set_xlabel(\"predictions\", fontsize=18)\n",
    "ax0.set_ylabel(\"read count\", fontsize=18)\n",
    "handles, labels = ax0.get_legend_handles_labels()\n",
    "ax0_top.legend(handles, labels, loc='right', fontsize=16)\n",
    "\n",
    "if not os.path.isdir(f'{writing_dir}/{data}/results/{model_name}'):\n",
    "    os.makedirs(f'{writing_dir}/{data}/results/{model_name}')\n",
    "fig_start = f'{writing_dir}/{data}/results/{model_name}/distrib_{model_name}_test'\n",
    "fig_name = fig_start + '.png'\n",
    "fig_dups = 0\n",
    "while os.path.exists(fig_name):\n",
    "    fig_dups += 1\n",
    "    fig_name = fig_start + f'({fig_dups}).png'\n",
    "plt.savefig(fig_name, bbox_inches='tight')\n",
    "if not load_hist:\n",
    "    np.savez(f'{writing_dir}/{data}/results/{model_name}/distrib_{model_name}_test_hist{n_bins}', IP=histIP, Control=histControl)\n",
    "plt.show()\n",
    "plt.close()"
   ]
  },
  {
   "cell_type": "markdown",
   "metadata": {},
   "source": [
    "Old script for plot test distribution during epochs"
   ]
  },
  {
   "cell_type": "code",
   "execution_count": null,
   "metadata": {},
   "outputs": [],
   "source": [
    "data = 'H3K9me3-GSE175752'\n",
    "dataset_name = 'sharded_dataset'\n",
    "model_name = 'model_inception3.0'\n",
    "new_labels = 'dataset_rel8'\n",
    "relabeled = False\n",
    "sharded = True\n",
    "preds = np.load(f'{data_dir}/{data}/Trainedmodels/{model_name}/eval_epochs.npy')\n",
    "# Watching for nan predictions\n",
    "# for epoch in range(preds.shape[0]):\n",
    "#     nans = np.count_nonzero(np.isnan(preds[epoch]))\n",
    "#     print(f'Epoch {epoch}: {nans} nan predictions')\n",
    "if relabeled:\n",
    "    with np.load(f'{data_dir}/{data}/{new_labels}.npz') as f:\n",
    "        y_test = f['y_test']\n",
    "else:\n",
    "    if sharded:\n",
    "        y_test = np.zeros(preds.shape[1], dtype=bool)\n",
    "        y_test[::2] = 1\n",
    "    else:\n",
    "        with np.load(f'{data_dir}//{data}/{dataset_name}.npz') as f:\n",
    "            y_test = f['y_test']\n",
    "\n",
    "\n",
    "predsIP = preds[:, y_test == 1]\n",
    "predsControl = preds[:, y_test == 0]\n",
    "correct_IP = (predsIP > 0.5)\n",
    "correct_Control = (predsControl < 0.5)\n",
    "accuracys = (np.sum(correct_IP, axis=1) + np.sum(correct_Control, axis=1)) / len(y_test)\n",
    "amax = np.argmax(accuracys)\n",
    "print(amax)\n",
    "print(accuracys[amax])\n",
    "plt.plot(accuracys)\n",
    "plt.show()\n",
    "plt.close()\n",
    "\n",
    "# epochs = range(0, preds.shape[0], 5)\n",
    "epochs = [0, 1, 2, 3, 4, 9, 14, 19]\n",
    "widths = [5, 1]\n",
    "heights = [1.2] + [2]*len(epochs)\n",
    "fig = plt.figure(figsize=(np.sum(widths), np.sum(heights)))\n",
    "# fig.suptitle(f\"Distribution of predictions of {model_name} during epochs on {data} for IP and Control reads\")\n",
    "gs = gridspec.GridSpec(ncols=len(widths), nrows=len(heights), width_ratios=widths, height_ratios=heights)\n",
    "\n",
    "ax0_top = plt.subplot(gs[0, 0])\n",
    "label_col0 = 'prediction'\n",
    "ax0_top.annotate(label_col0, (0.1, 0.5), xycoords='axes fraction', va='center', fontsize=18)\n",
    "ax0_top.axis('off')\n",
    "\n",
    "ax1_top = plt.subplot(gs[0, 1])\n",
    "label_col1 = 'epoch'\n",
    "ax1_top.annotate(label_col1, (0.1, 0.5), xycoords='axes fraction', va='center', fontsize=18)\n",
    "ax1_top.axis('off')\n",
    "\n",
    "nrow = 1\n",
    "for epoch in epochs:\n",
    "    ax0 = plt.subplot(gs[nrow, 0])\n",
    "    ax0.hist(predsIP[epoch], bins=100, label='IP', alpha=0.5, range=(0,1))\n",
    "    ax0.hist(predsControl[epoch], bins=100, label='Control', alpha=0.5, range=(0,1))\n",
    "    ax0.axvline(x=0.5, color='black', label='base thres')\n",
    "    ax0.set_yscale('log')\n",
    "\n",
    "    ax1 = plt.subplot(gs[nrow, 1])\n",
    "    label = f'{epoch+1}'\n",
    "    ax1.annotate(label, (0.1, 0.5), xycoords='axes fraction', va='center', fontsize=18)\n",
    "    ax1.annotate(f'accuracy: {round(accuracys[epoch], 4)}', (0, 0.4), xycoords='axes fraction', va='center', fontsize=13)\n",
    "    ax1.axis('off')\n",
    "\n",
    "    nrow += 1\n",
    "\n",
    "handles, labels = ax0.get_legend_handles_labels()\n",
    "ax0_top.legend(handles, labels, loc='right')\n",
    "ax0.set_xlabel(\"predictions\")\n",
    "ax0.set_ylabel(\"read count\")\n",
    "if not os.path.isdir(f'{writing_dir}/{data}/results/{model_name}'):\n",
    "    os.makedirs(f'{writing_dir}/{data}/results/{model_name}/')\n",
    "plt.savefig(f'{writing_dir}/{data}/results/{model_name}/distrib_{model_name}_test_epochs.png', bbox_inches='tight')\n",
    "plt.show()\n",
    "plt.close()"
   ]
  },
  {
   "cell_type": "markdown",
   "metadata": {},
   "source": [
    "## Code for selected reads in H3K27me3"
   ]
  },
  {
   "cell_type": "code",
   "execution_count": 65,
   "metadata": {},
   "outputs": [
    {
     "name": "stdout",
     "output_type": "stream",
     "text": [
      "66\n",
      "79\n"
     ]
    }
   ],
   "source": [
    "s = 'ATCGGAAGAGCGTCGTGTAGGGAA (AATGATACGGCGA) CCACCGAGATCTACACCCTT TCGCCGTATCATTAAAAAAAAA'\n",
    "mots = s.split()\n",
    "print(len(mots[0]+mots[2]+mots[3]))\n",
    "print(len(s)-5)"
   ]
  },
  {
   "cell_type": "code",
   "execution_count": 16,
   "metadata": {},
   "outputs": [],
   "source": [
    "with open('../shared_folder/H3K27me3/results/model_inception2.2/seqs_H3K27me3_over_0.8_with_model_inception2.2.fasta') as file:\n",
    "    seqs = []\n",
    "    seq = ''\n",
    "    for line in file:\n",
    "        if line.startswith('>'):\n",
    "            if seq != '':\n",
    "                seqs.append(seq)\n",
    "                seq = ''\n",
    "        else:\n",
    "            seq += line.rstrip()\n",
    "    if seq != '':\n",
    "        seqs.append(seq)"
   ]
  },
  {
   "cell_type": "code",
   "execution_count": 24,
   "metadata": {},
   "outputs": [
    {
     "name": "stdout",
     "output_type": "stream",
     "text": [
      "33539\n"
     ]
    }
   ],
   "source": [
    "selected = []\n",
    "for seq in seqs:\n",
    "    if not('ATCGGAAGAGCGTCGTGTAGG' in seq or 'CGGTGGTCGCCGTATCATTAAAAAAAAA' in seq):\n",
    "        selected.append(seq)\n",
    "print(len(selected))\n",
    "# selected = []\n",
    "# for seq in seqs:\n",
    "#     if 'ATCGGAAGAGC' not in seq or 'GTCGTGTAGG' not in seq or 'CGGTGGTCGCCGTATCATTAAAAAAAAA' not in seq:\n",
    "#         selected.append(seq)\n",
    "# print(len(selected))"
   ]
  },
  {
   "cell_type": "code",
   "execution_count": 22,
   "metadata": {},
   "outputs": [],
   "source": [
    "utils.write_fasta(selected, '../shared_folder/H3K27me3/results/model_inception2.2/seqs_H3K27me3_over_0.8_with_model_inception2.2_filtered.fasta')"
   ]
  }
 ],
 "metadata": {
  "interpreter": {
   "hash": "00e7424330818c90ac25a9eb217b83ab19236ec3c884b7e4b78b97ecfb399601"
  },
  "kernelspec": {
   "display_name": "Python 3.8.0 ('tf2.5': conda)",
   "language": "python",
   "name": "python3"
  },
  "language_info": {
   "codemirror_mode": {
    "name": "ipython",
    "version": 3
   },
   "file_extension": ".py",
   "mimetype": "text/x-python",
   "name": "python",
   "nbconvert_exporter": "python",
   "pygments_lexer": "ipython3",
   "version": "3.8.0"
  },
  "orig_nbformat": 4
 },
 "nbformat": 4,
 "nbformat_minor": 2
}
