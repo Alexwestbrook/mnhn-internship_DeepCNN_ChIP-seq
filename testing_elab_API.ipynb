{
 "cells": [
  {
   "cell_type": "code",
   "execution_count": 1,
   "metadata": {},
   "outputs": [],
   "source": [
    "import elabapi_python\n",
    "from pathlib import Path\n",
    "\n",
    "#########################\n",
    "#         CONFIG        #\n",
    "#########################\n",
    "API_HOST_URL = \"https://string.cle.cnrs.fr/api/v2\"\n",
    "# replace with your api key\n",
    "with open(\"/home/alex/eLab_key_API_1.txt\") as f:\n",
    "    API_KEY = f.readline()\n",
    "#########################\n",
    "#      END CONFIG       #\n",
    "#########################\n",
    "\n",
    "# Configure the api client\n",
    "configuration = elabapi_python.Configuration()\n",
    "configuration.api_key[\"api_key\"] = API_KEY\n",
    "configuration.api_key_prefix[\"api_key\"] = \"Authorization\"\n",
    "configuration.host = API_HOST_URL\n",
    "configuration.debug = False\n",
    "configuration.verify_ssl = True\n",
    "\n",
    "# create an instance of the API class\n",
    "api_client = elabapi_python.ApiClient(configuration)\n",
    "# fix issue with Authorization header not being properly set by the generated lib\n",
    "api_client.set_default_header(header_name=\"Authorization\", header_value=API_KEY)\n",
    "\n",
    "# create an instance of Experiments and another for Uploads\n",
    "experimentsApi = elabapi_python.ExperimentsApi(api_client)\n",
    "uploadsApi = elabapi_python.UploadsApi(api_client)"
   ]
  },
  {
   "cell_type": "code",
   "execution_count": 2,
   "metadata": {},
   "outputs": [
    {
     "name": "stdout",
     "output_type": "stream",
     "text": [
      "158 Génération de séquence de levure avec nucléosomes réguliers et différents GC\n",
      "161 Tests de génération de séquence de levure sans transcription ou pol2 avec le nouveau script kMC_sequence_design_v2\n",
      "155 pkoo_motifs\n",
      "151 sparse_A_0.5_ver0\n",
      "150 mA_gauss15_chem5H_250\n",
      "149 sparse_M_128_ver0\n",
      "148 full_genome_rmdense_compareParams_wsparse_A_16_ver1\n",
      "147 deep_maxpool2_rmlight_0_ver4\n",
      "146 test_subsample01_ver0\n",
      "145 mask_light01_wmaecor_ver2\n",
      "144 heavytraining_ver1\n",
      "143 reverse_monitoring\n",
      "142 mA_gauss15_chem5H_250_rep1\n",
      "141 pred_sparse_A_16_ver1\n",
      "140 sparse_M_16_ver0\n"
     ]
    }
   ],
   "source": [
    "# View experiments\n",
    "for exp in experimentsApi.read_experiments():\n",
    "    print(exp.id, exp.title)"
   ]
  },
  {
   "cell_type": "code",
   "execution_count": 7,
   "metadata": {},
   "outputs": [
    {
     "name": "stdout",
     "output_type": "stream",
     "text": [
      "energy_gc0.2_vs_WT.png\n",
      "592\tenergy_gc0.2_vs_WT.png\tUploaded with APIv2\n",
      "590\tall_profiles_start_end_flankInt6.png\tUploaded with APIv2\n",
      "591\tall_profiles_start_end_flankInt6.png\tUploaded with APIv2\n",
      "589\timage.png\tNone\n",
      "588\timage.png\tNone\n",
      "587\timage.png\tNone\n",
      "586\timage.png\tNone\n"
     ]
    }
   ],
   "source": [
    "# Upload a file to experiment\n",
    "exp_id = 158\n",
    "filenames = [\n",
    "    # \"/home/alex/shared_folder/Judith-H3K9me3/results/alignments/T2T-CHM13v2.0/saturation_analysis/synthetic_data_downsample_enrichment_weird_behavior.png\"\n",
    "    str(filename)\n",
    "    for filename in Path(\"/home/alex/shared_folder/SCerevisiae/results/generated\").glob(\n",
    "        \"4kb_regnuc_*randomflanks/*WT.png\"\n",
    "    )\n",
    "]\n",
    "exp = experimentsApi.get_experiment(exp_id)\n",
    "for filename in filenames:\n",
    "    print(Path(filename).name)\n",
    "    # uploadsApi.post_upload(\n",
    "    #     \"experiments\", exp_id, file=filename, comment=\"Uploaded with APIv2\"\n",
    "    # )\n",
    "# Display uploaded files after new upload\n",
    "for upload in uploadsApi.read_uploads(\"experiments\", exp.id):\n",
    "    print(upload.id, upload.real_name, upload.comment, sep=\"\\t\")"
   ]
  },
  {
   "cell_type": "code",
   "execution_count": 24,
   "metadata": {},
   "outputs": [],
   "source": [
    "# Delete an upload\n",
    "# exp_id = 35\n",
    "upload_id = 150\n",
    "# for upload_id in range(152, 156):\n",
    "# uploadsApi.delete_upload(\"experiments\", exp_id, upload_id)"
   ]
  },
  {
   "cell_type": "code",
   "execution_count": 11,
   "metadata": {},
   "outputs": [
    {
     "data": {
      "text/plain": [
       "'https://string.cle.cnrs.fr/api/v2/experiments/72'"
      ]
     },
     "execution_count": 11,
     "metadata": {},
     "output_type": "execute_result"
    }
   ],
   "source": [
    "# try to post an experiment\n",
    "title = \"mytitle\"\n",
    "res = experimentsApi.post_experiment_with_http_info(\n",
    "    body={\"title\": \"mytitle\", \"body\": \"this is a test\"}, async_req=True\n",
    ")\n",
    "exp_id = res.get()[2][\"Location\"].split(\"/\")[-1]\n",
    "exp_id\n",
    "# res.id"
   ]
  },
  {
   "cell_type": "code",
   "execution_count": 8,
   "metadata": {},
   "outputs": [
    {
     "name": "stdout",
     "output_type": "stream",
     "text": [
      "another time\n",
      "{'_date': '2024-02-23',\n",
      " 'access_key': None,\n",
      " 'body': 'another time',\n",
      " 'body_html': 'another time',\n",
      " 'canread': '{\"base\": 30, \"teams\": [], \"users\": [], \"teamgroups\": []}',\n",
      " 'canwrite': '{\"base\": 20, \"teams\": [], \"users\": [], \"teamgroups\": []}',\n",
      " 'category': None,\n",
      " 'category_color': None,\n",
      " 'category_title': None,\n",
      " 'comments': [],\n",
      " 'content_type': 1,\n",
      " 'created_at': '2024-02-23 15:02:19',\n",
      " 'custom_id': None,\n",
      " 'elabid': '20240223-5df273c9f8709df69337f60757e7a6e1975d83ce',\n",
      " 'experiments_links': [],\n",
      " 'firstname': 'Alex',\n",
      " 'fullname': 'Alex WESTBROOK',\n",
      " 'has_attachement': None,\n",
      " 'has_comment': 0,\n",
      " 'id': 15,\n",
      " 'items_links': [],\n",
      " 'lastchangeby': 15,\n",
      " 'lastname': 'WESTBROOK',\n",
      " 'locked': 0,\n",
      " 'locked_at': None,\n",
      " 'lockedby': None,\n",
      " 'metadata': '{\"elabftw\": {\"display_main_text\": true}}',\n",
      " 'modified_at': '2024-03-25 15:36:00',\n",
      " 'next_step': None,\n",
      " 'orcid': None,\n",
      " 'page': 'experiments',\n",
      " 'rating': 0,\n",
      " 'recent_comment': None,\n",
      " 'related_experiments_links': [],\n",
      " 'related_items_links': [],\n",
      " 'sharelink': 'https://string.cle.cnrs.fr/experiments.php?mode=view&id=15',\n",
      " 'state': 1,\n",
      " 'status': 9,\n",
      " 'status_color': '29AEB9',\n",
      " 'status_title': 'Running',\n",
      " 'steps': [],\n",
      " 'tags': None,\n",
      " 'tags_id': None,\n",
      " 'team': 3,\n",
      " 'timestamped': 1,\n",
      " 'timestamped_at': '2024-03-16 03:01:12',\n",
      " 'timestampedby': 1,\n",
      " 'title': 'testing posting from python API',\n",
      " 'type': 'experiments',\n",
      " 'up_item_id': 15,\n",
      " 'uploads': [],\n",
      " 'userid': 15}\n"
     ]
    }
   ],
   "source": [
    "# try to patch experiment\n",
    "exp_id = 15\n",
    "exp = experimentsApi.get_experiment(exp_id)\n",
    "print(exp.body)\n",
    "print(exp)\n",
    "# res = experimentsApi.patch_experiment(\n",
    "#     exp_id, body={\"body\": \"this body was patched from python API\"}\n",
    "# )\n",
    "# res"
   ]
  },
  {
   "cell_type": "code",
   "execution_count": 51,
   "metadata": {},
   "outputs": [
    {
     "data": {
      "text/plain": [
       "15"
      ]
     },
     "execution_count": 51,
     "metadata": {},
     "output_type": "execute_result"
    }
   ],
   "source": [
    "res.id"
   ]
  }
 ],
 "metadata": {
  "kernelspec": {
   "display_name": "elab",
   "language": "python",
   "name": "python3"
  },
  "language_info": {
   "codemirror_mode": {
    "name": "ipython",
    "version": 3
   },
   "file_extension": ".py",
   "mimetype": "text/x-python",
   "name": "python",
   "nbconvert_exporter": "python",
   "pygments_lexer": "ipython3",
   "version": "3.12.2"
  }
 },
 "nbformat": 4,
 "nbformat_minor": 2
}
