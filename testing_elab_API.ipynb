{
 "cells": [
  {
   "cell_type": "code",
   "execution_count": 1,
   "metadata": {},
   "outputs": [],
   "source": [
    "#!/usr/bin/env python\n",
    "import elabapi_python\n",
    "\n",
    "#########################\n",
    "#         CONFIG        #\n",
    "#########################\n",
    "API_HOST_URL = \"https://string.cle.cnrs.fr/api/v2\"\n",
    "# replace with your api key\n",
    "with open(\"/home/alex/eLab_key_API_1.txt\") as f:\n",
    "    API_KEY = f.readline()\n",
    "#########################\n",
    "#      END CONFIG       #\n",
    "#########################\n",
    "\n",
    "# Configure the api client\n",
    "configuration = elabapi_python.Configuration()\n",
    "configuration.api_key[\"api_key\"] = API_KEY\n",
    "configuration.api_key_prefix[\"api_key\"] = \"Authorization\"\n",
    "configuration.host = API_HOST_URL\n",
    "configuration.debug = False\n",
    "configuration.verify_ssl = True\n",
    "\n",
    "# create an instance of the API class\n",
    "api_client = elabapi_python.ApiClient(configuration)\n",
    "# fix issue with Authorization header not being properly set by the generated lib\n",
    "api_client.set_default_header(header_name=\"Authorization\", header_value=API_KEY)\n",
    "\n",
    "# create an instance of Experiments and another for Uploads\n",
    "experimentsApi = elabapi_python.ExperimentsApi(api_client)\n",
    "uploadsApi = elabapi_python.UploadsApi(api_client)"
   ]
  },
  {
   "cell_type": "code",
   "execution_count": 4,
   "metadata": {},
   "outputs": [
    {
     "name": "stdout",
     "output_type": "stream",
     "text": [
      "36 Analyse de saturation H3K9me3 IP2 vs INPUT powersof10\n",
      "35 Analyse de saturation H3K4me3\n",
      "7 Entrainement réseau mask_light_or_non_mappable_compareParams_wsparse_A_16_ver5\n",
      "6 mutasome mask_light_or_non_mappable_compareParams_wsparse_A_16_ver5\n",
      "26 MutasomeExploration_exploration_lax\n",
      "25 Mutasome_full_genome_rmdense_1\n",
      "24 full_genome_rmdense_3\n",
      "23 full_genome_rmdense_2\n",
      "22 full_genome_rmdense_1\n",
      "17 Identification des positions des primers et gRNA sur T2T\n",
      "15 testing posting from python API\n",
      "8 Réplicat technique: alignement des reads de ChIP-seq H3K9me3 RPE1 de Judith sur T2T\n",
      "5 entrainement model_myco_nuc2\n",
      "4 wmae_wcor_sameParams__mask_light_repeat\n",
      "3 Alignement des reads de ChIP-seq H3K9me3 RPE1 de Judith sur T2T\n"
     ]
    }
   ],
   "source": [
    "# View experiments\n",
    "for exp in experimentsApi.read_experiments():\n",
    "    print(exp.id, exp.title)"
   ]
  },
  {
   "cell_type": "code",
   "execution_count": 5,
   "metadata": {},
   "outputs": [],
   "source": [
    "from pathlib import Path"
   ]
  },
  {
   "cell_type": "code",
   "execution_count": 9,
   "metadata": {},
   "outputs": [
    {
     "name": "stdout",
     "output_type": "stream",
     "text": [
      "107\tsaturation_IP2_vs_INPUT_variousfracs.csv\tUploaded with APIv2\n",
      "108\tsaturation_IP2_vs_INPUT_powersof10_barplot_logscale.png\tUploaded with APIv2\n",
      "109\tsaturation_IP2_vs_INPUT_powersof10_barplot.png\tUploaded with APIv2\n",
      "110\tsaturation_IP2_vs_INPUT_variousfracs_barplot_logscale.png\tUploaded with APIv2\n",
      "111\tsaturation_IP2_vs_INPUT_variousfracs_log.txt\tUploaded with APIv2\n",
      "112\tsaturation_IP2_vs_INPUT_powersof10_log.txt\tUploaded with APIv2\n",
      "113\tsaturation_IP2_vs_INPUT_powersof10.csv\tUploaded with APIv2\n",
      "106\tsaturation_IP2_vs_INPUT_variousfracs_barplot.png\tUploaded with APIv2\n"
     ]
    }
   ],
   "source": [
    "# Upload a file to experiment\n",
    "exp_id = 36\n",
    "filenames = [\n",
    "    # \"/home/alex/shared_folder/Judith-H3K9me3/results/alignments/T2T-CHM13v2.0/saturation_analysis/saturation_H3K4me3_vs_INPUT_powersof10_log.txt\",\n",
    "    # \"/home/alex/shared_folder/Judith-H3K9me3/results/alignments/T2T-CHM13v2.0/saturation_analysis/saturation_H3K4me3_vs_INPUT_powersof10.csv\",\n",
    "    # \"/home/alex/shared_folder/Judith-H3K9me3/results/alignments/T2T-CHM13v2.0/saturation_analysis/saturation_H3K4me3_vs_INPUT_powersof10_barplot.png\",\n",
    "    # \"/home/alex/shared_folder/Judith-H3K9me3/results/alignments/T2T-CHM13v2.0/saturation_analysis/saturation_H3K4me3_vs_INPUT_powersof10_barplot_logscale.png\",\n",
    "    str(filename)\n",
    "    for filename in Path(\n",
    "        \"/home/alex/shared_folder/Judith-H3K9me3/results/alignments/T2T-CHM13v2.0/saturation_analysis\"\n",
    "    ).glob(\"*\")\n",
    "]\n",
    "exp = experimentsApi.get_experiment(exp_id)\n",
    "for filename in filenames:\n",
    "    uploadsApi.post_upload(\n",
    "        \"experiments\", exp_id, file=filename, comment=\"Uploaded with APIv2\"\n",
    "    )\n",
    "# Display uploaded files after new upload\n",
    "for upload in uploadsApi.read_uploads(\"experiments\", exp.id):\n",
    "    print(upload.id, upload.real_name, upload.comment, sep=\"\\t\")"
   ]
  },
  {
   "cell_type": "code",
   "execution_count": 6,
   "metadata": {},
   "outputs": [],
   "source": [
    "# Delete an upload\n",
    "uploadsApi.delete_upload(\"experiments\", 8, 58)"
   ]
  },
  {
   "cell_type": "code",
   "execution_count": 20,
   "metadata": {},
   "outputs": [],
   "source": [
    "# try to post an experiment\n",
    "res = experimentsApi.post_experiment(\n",
    "    body={\"title\": \"testing posting from python API\", \"body\": \"this is a test\"}\n",
    ")\n",
    "res.id"
   ]
  },
  {
   "cell_type": "code",
   "execution_count": 50,
   "metadata": {},
   "outputs": [
    {
     "name": "stdout",
     "output_type": "stream",
     "text": [
      "this is the body\n"
     ]
    },
    {
     "data": {
      "text/plain": [
       "{'_date': '2024-02-23',\n",
       " 'access_key': None,\n",
       " 'body': 'this body was patched experiment from python API',\n",
       " 'body_html': 'this body was patched experiment from python API',\n",
       " 'canread': '{\"base\": 30, \"teams\": [], \"users\": [], \"teamgroups\": []}',\n",
       " 'canwrite': '{\"base\": 20, \"teams\": [], \"users\": [], \"teamgroups\": []}',\n",
       " 'category': None,\n",
       " 'category_color': None,\n",
       " 'category_title': None,\n",
       " 'comments': [],\n",
       " 'content_type': 1,\n",
       " 'created_at': '2024-02-23 15:02:19',\n",
       " 'custom_id': None,\n",
       " 'elabid': '20240223-5df273c9f8709df69337f60757e7a6e1975d83ce',\n",
       " 'experiments_links': [],\n",
       " 'firstname': 'Alex',\n",
       " 'fullname': 'Alex WESTBROOK',\n",
       " 'has_attachement': None,\n",
       " 'has_comment': 0,\n",
       " 'id': 15,\n",
       " 'items_links': [],\n",
       " 'lastchangeby': 15,\n",
       " 'lastname': 'WESTBROOK',\n",
       " 'locked': 0,\n",
       " 'locked_at': None,\n",
       " 'lockedby': None,\n",
       " 'metadata': None,\n",
       " 'modified_at': '2024-02-23 15:09:22',\n",
       " 'next_step': None,\n",
       " 'orcid': None,\n",
       " 'page': 'experiments',\n",
       " 'rating': 0,\n",
       " 'recent_comment': None,\n",
       " 'related_experiments_links': [],\n",
       " 'related_items_links': [],\n",
       " 'sharelink': 'https://string.cle.cnrs.fr/experiments.php?mode=view&id=15',\n",
       " 'state': 1,\n",
       " 'status': 9,\n",
       " 'status_color': '29AEB9',\n",
       " 'status_title': 'Running',\n",
       " 'steps': [],\n",
       " 'tags': None,\n",
       " 'tags_id': None,\n",
       " 'team': None,\n",
       " 'timestamped': 0,\n",
       " 'timestamped_at': None,\n",
       " 'timestampedby': None,\n",
       " 'title': 'testing posting from python API',\n",
       " 'type': 'experiments',\n",
       " 'up_item_id': None,\n",
       " 'uploads': [],\n",
       " 'userid': 15}"
      ]
     },
     "execution_count": 50,
     "metadata": {},
     "output_type": "execute_result"
    }
   ],
   "source": [
    "# try to patch experiment\n",
    "exp_id = 15\n",
    "exp = experimentsApi.get_experiment(exp_id)\n",
    "print(exp.body)\n",
    "# res = experimentsApi.patch_experiment(\n",
    "#     exp_id, body={\"body\": \"this body was patched experiment from python API\"}\n",
    "# )\n",
    "# res"
   ]
  },
  {
   "cell_type": "code",
   "execution_count": 51,
   "metadata": {},
   "outputs": [
    {
     "data": {
      "text/plain": [
       "15"
      ]
     },
     "execution_count": 51,
     "metadata": {},
     "output_type": "execute_result"
    }
   ],
   "source": [
    "res.id"
   ]
  }
 ],
 "metadata": {
  "kernelspec": {
   "display_name": "elab",
   "language": "python",
   "name": "python3"
  },
  "language_info": {
   "codemirror_mode": {
    "name": "ipython",
    "version": 3
   },
   "file_extension": ".py",
   "mimetype": "text/x-python",
   "name": "python",
   "nbconvert_exporter": "python",
   "pygments_lexer": "ipython3",
   "version": "3.12.2"
  }
 },
 "nbformat": 4,
 "nbformat_minor": 2
}
