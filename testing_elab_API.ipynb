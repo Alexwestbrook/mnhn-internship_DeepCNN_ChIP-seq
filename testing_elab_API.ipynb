{
 "cells": [
  {
   "cell_type": "code",
   "execution_count": 1,
   "metadata": {},
   "outputs": [],
   "source": [
    "from pathlib import Path"
   ]
  },
  {
   "cell_type": "code",
   "execution_count": 2,
   "metadata": {},
   "outputs": [],
   "source": [
    "import elabapi_python\n",
    "\n",
    "#########################\n",
    "#         CONFIG        #\n",
    "#########################\n",
    "API_HOST_URL = \"https://string.cle.cnrs.fr/api/v2\"\n",
    "# replace with your api key\n",
    "with open(\"/home/alex/eLab_key_API_1.txt\") as f:\n",
    "    API_KEY = f.readline()\n",
    "#########################\n",
    "#      END CONFIG       #\n",
    "#########################\n",
    "\n",
    "# Configure the api client\n",
    "configuration = elabapi_python.Configuration()\n",
    "configuration.api_key[\"api_key\"] = API_KEY\n",
    "configuration.api_key_prefix[\"api_key\"] = \"Authorization\"\n",
    "configuration.host = API_HOST_URL\n",
    "configuration.debug = False\n",
    "configuration.verify_ssl = True\n",
    "\n",
    "# create an instance of the API class\n",
    "api_client = elabapi_python.ApiClient(configuration)\n",
    "# fix issue with Authorization header not being properly set by the generated lib\n",
    "api_client.set_default_header(header_name=\"Authorization\", header_value=API_KEY)\n",
    "\n",
    "# create an instance of Experiments and another for Uploads\n",
    "experimentsApi = elabapi_python.ExperimentsApi(api_client)\n",
    "uploadsApi = elabapi_python.UploadsApi(api_client)"
   ]
  },
  {
   "cell_type": "code",
   "execution_count": 3,
   "metadata": {},
   "outputs": [
    {
     "name": "stdout",
     "output_type": "stream",
     "text": [
      "62 Sans titre\n",
      "15 testing posting from python API\n",
      "52 deep_maxpool2_rmlight_0_ver4\n",
      "50 Génération de 4kb sans pol2, sans transcription ou avec transcription unidirectionnelle\n",
      "39 Testing saturation analysis on synthetic and real data\n",
      "37 Merging all of Judith's INPUT files\n",
      "36 Analyse de saturation H3K9me3 IP2 vs INPUT\n",
      "35 Analyse de saturation H3K4me3\n",
      "26 MutasomeExploration_exploration_lax\n",
      "25 Mutasome_full_genome_rmdense_1\n",
      "24 full_genome_rmdense_3\n",
      "23 full_genome_rmdense_2\n",
      "22 full_genome_rmdense_1\n",
      "17 Identification des positions des primers et gRNA sur T2T\n",
      "8 Réplicat technique: alignement des reads de ChIP-seq H3K9me3 RPE1 de Judith sur T2T\n"
     ]
    }
   ],
   "source": [
    "# View experiments\n",
    "for exp in experimentsApi.read_experiments():\n",
    "    print(exp.id, exp.title)"
   ]
  },
  {
   "cell_type": "code",
   "execution_count": 14,
   "metadata": {},
   "outputs": [
    {
     "name": "stdout",
     "output_type": "stream",
     "text": [
      "196\tH3K4me3_IP_chr1_distribution_binsize1000.png\tUploaded with APIv2\n",
      "195\tH3K4me3_IP_chr1_distribution_binsize100.png\tUploaded with APIv2\n",
      "192\tH3K4me3_vs_INPUT_downsampling_analysis_chr1_bins100_0.05stepfracs_10rep.png\tUploaded with APIv2\n",
      "193\tH3K4me3_vs_INPUT_downsampling_analysis_chr1_bins100_0.05stepfracs_10rep_qvalue.png\tUploaded with APIv2\n",
      "194\tH3K4me3_vs_INPUT_downsampling_analysis_chr1_bins1000_0.05stepfracs_10rep_qvalue.png\tUploaded with APIv2\n",
      "191\tH3K4me3_vs_INPUT_downsampling_analysis_chr1_bins1000_0.05stepfracs_10rep.png\tUploaded with APIv2\n",
      "189\tsynthetic_data_extra20_downsample_enrichment_weird_behavior.png\tUploaded with APIv2\n",
      "190\tsynthetic_data_extra20_downsample_enrichment_qcorrected_behavior.png\tUploaded with APIv2\n",
      "166\tsynthetic_data_downsample_enrichment_weird_behavior.png\tUploaded with APIv2\n"
     ]
    }
   ],
   "source": [
    "# Upload a file to experiment\n",
    "exp_id = 39\n",
    "filenames = [\n",
    "    # \"/home/alex/shared_folder/Judith-H3K9me3/results/alignments/T2T-CHM13v2.0/saturation_analysis/synthetic_data_downsample_enrichment_weird_behavior.png\"\n",
    "    str(filename)\n",
    "    for filename in Path(\n",
    "        \"/home/alex/shared_folder/Judith-H3K4me3/results/alignments/T2T-CHM13v2.0/saturation_analysis\"\n",
    "    ).glob(\"*distribution*\")\n",
    "]\n",
    "exp = experimentsApi.get_experiment(exp_id)\n",
    "for filename in filenames:\n",
    "    print(Path(filename).name)\n",
    "    # uploadsApi.post_upload(\n",
    "    #     \"experiments\", exp_id, file=filename, comment=\"Uploaded with APIv2\"\n",
    "    # )\n",
    "# Display uploaded files after new upload\n",
    "for upload in uploadsApi.read_uploads(\"experiments\", exp.id):\n",
    "    print(upload.id, upload.real_name, upload.comment, sep=\"\\t\")"
   ]
  },
  {
   "cell_type": "code",
   "execution_count": 24,
   "metadata": {},
   "outputs": [],
   "source": [
    "# Delete an upload\n",
    "# exp_id = 35\n",
    "upload_id = 150\n",
    "# for upload_id in range(152, 156):\n",
    "# uploadsApi.delete_upload(\"experiments\", exp_id, upload_id)"
   ]
  },
  {
   "cell_type": "code",
   "execution_count": 11,
   "metadata": {},
   "outputs": [
    {
     "data": {
      "text/plain": [
       "'https://string.cle.cnrs.fr/api/v2/experiments/72'"
      ]
     },
     "execution_count": 11,
     "metadata": {},
     "output_type": "execute_result"
    }
   ],
   "source": [
    "# try to post an experiment\n",
    "title = \"mytitle\"\n",
    "res = experimentsApi.post_experiment_with_http_info(\n",
    "    body={\"title\": \"mytitle\", \"body\": \"this is a test\"}, async_req=True\n",
    ")\n",
    "exp_id = res.get()[2][\"Location\"].split(\"/\")[-1]\n",
    "exp_id\n",
    "# res.id"
   ]
  },
  {
   "cell_type": "code",
   "execution_count": 8,
   "metadata": {},
   "outputs": [
    {
     "name": "stdout",
     "output_type": "stream",
     "text": [
      "another time\n",
      "{'_date': '2024-02-23',\n",
      " 'access_key': None,\n",
      " 'body': 'another time',\n",
      " 'body_html': 'another time',\n",
      " 'canread': '{\"base\": 30, \"teams\": [], \"users\": [], \"teamgroups\": []}',\n",
      " 'canwrite': '{\"base\": 20, \"teams\": [], \"users\": [], \"teamgroups\": []}',\n",
      " 'category': None,\n",
      " 'category_color': None,\n",
      " 'category_title': None,\n",
      " 'comments': [],\n",
      " 'content_type': 1,\n",
      " 'created_at': '2024-02-23 15:02:19',\n",
      " 'custom_id': None,\n",
      " 'elabid': '20240223-5df273c9f8709df69337f60757e7a6e1975d83ce',\n",
      " 'experiments_links': [],\n",
      " 'firstname': 'Alex',\n",
      " 'fullname': 'Alex WESTBROOK',\n",
      " 'has_attachement': None,\n",
      " 'has_comment': 0,\n",
      " 'id': 15,\n",
      " 'items_links': [],\n",
      " 'lastchangeby': 15,\n",
      " 'lastname': 'WESTBROOK',\n",
      " 'locked': 0,\n",
      " 'locked_at': None,\n",
      " 'lockedby': None,\n",
      " 'metadata': '{\"elabftw\": {\"display_main_text\": true}}',\n",
      " 'modified_at': '2024-03-25 15:36:00',\n",
      " 'next_step': None,\n",
      " 'orcid': None,\n",
      " 'page': 'experiments',\n",
      " 'rating': 0,\n",
      " 'recent_comment': None,\n",
      " 'related_experiments_links': [],\n",
      " 'related_items_links': [],\n",
      " 'sharelink': 'https://string.cle.cnrs.fr/experiments.php?mode=view&id=15',\n",
      " 'state': 1,\n",
      " 'status': 9,\n",
      " 'status_color': '29AEB9',\n",
      " 'status_title': 'Running',\n",
      " 'steps': [],\n",
      " 'tags': None,\n",
      " 'tags_id': None,\n",
      " 'team': 3,\n",
      " 'timestamped': 1,\n",
      " 'timestamped_at': '2024-03-16 03:01:12',\n",
      " 'timestampedby': 1,\n",
      " 'title': 'testing posting from python API',\n",
      " 'type': 'experiments',\n",
      " 'up_item_id': 15,\n",
      " 'uploads': [],\n",
      " 'userid': 15}\n"
     ]
    }
   ],
   "source": [
    "# try to patch experiment\n",
    "exp_id = 15\n",
    "exp = experimentsApi.get_experiment(exp_id)\n",
    "print(exp.body)\n",
    "print(exp)\n",
    "# res = experimentsApi.patch_experiment(\n",
    "#     exp_id, body={\"body\": \"this body was patched from python API\"}\n",
    "# )\n",
    "# res"
   ]
  },
  {
   "cell_type": "code",
   "execution_count": 51,
   "metadata": {},
   "outputs": [
    {
     "data": {
      "text/plain": [
       "15"
      ]
     },
     "execution_count": 51,
     "metadata": {},
     "output_type": "execute_result"
    }
   ],
   "source": [
    "res.id"
   ]
  }
 ],
 "metadata": {
  "kernelspec": {
   "display_name": "elab",
   "language": "python",
   "name": "python3"
  },
  "language_info": {
   "codemirror_mode": {
    "name": "ipython",
    "version": 3
   },
   "file_extension": ".py",
   "mimetype": "text/x-python",
   "name": "python",
   "nbconvert_exporter": "python",
   "pygments_lexer": "ipython3",
   "version": "3.12.2"
  }
 },
 "nbformat": 4,
 "nbformat_minor": 2
}
