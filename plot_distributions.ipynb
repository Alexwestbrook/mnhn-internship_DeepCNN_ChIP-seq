{
 "cells": [
  {
   "cell_type": "code",
   "execution_count": 1,
   "metadata": {},
   "outputs": [
    {
     "name": "stderr",
     "output_type": "stream",
     "text": [
      "2022-07-22 09:54:45.694950: I tensorflow/stream_executor/platform/default/dso_loader.cc:53] Successfully opened dynamic library libcudart.so.11.0\n"
     ]
    }
   ],
   "source": [
    "from matplotlib import pyplot as plt\n",
    "from matplotlib import gridspec\n",
    "import matplotlib.axes as ax \n",
    "import numpy as np\n",
    "import tensorflow as tf\n",
    "from scipy import io\n",
    "from tensorflow.keras.datasets import mnist, fashion_mnist, cifar10\n",
    "from sklearn.utils import shuffle\n",
    "from sklearn.preprocessing import OneHotEncoder\n",
    "import time\n",
    "import os\n",
    "import tensorflow.keras.backend as K\n",
    "import pandas as pd\n",
    "import Modules.utils as utils\n",
    "import importlib"
   ]
  },
  {
   "cell_type": "code",
   "execution_count": 2,
   "metadata": {},
   "outputs": [],
   "source": [
    "importlib.reload(utils)\n",
    "data_dir='../shared_folder'\n",
    "writing_dir='../shared_folder'"
   ]
  },
  {
   "cell_type": "markdown",
   "metadata": {},
   "source": [
    "Read file and datasets checks"
   ]
  },
  {
   "cell_type": "code",
   "execution_count": 82,
   "metadata": {},
   "outputs": [],
   "source": [
    "with np.load(f'{data_dir}/Bombyx/raw_data/X_long.npz') as f:\n",
    "    long = f['reads']\n",
    "with np.load(f'{data_dir}/Bombyx/raw_data/X_reads.npz') as f:\n",
    "    reads = f['reads']"
   ]
  },
  {
   "cell_type": "code",
   "execution_count": 87,
   "metadata": {},
   "outputs": [
    {
     "name": "stdout",
     "output_type": "stream",
     "text": [
      "66785692\n",
      "66785692\n"
     ]
    }
   ],
   "source": [
    "total = 0\n",
    "for i in range(len(long)):\n",
    "    assert(len(long[i]) == len(long[i].rstrip()))\n",
    "    total += len(long[i])\n",
    "print(total)\n",
    "total2 = 0\n",
    "for i in range(len(reads)):\n",
    "    assert(len(reads[i]) == len(reads[i].rstrip()))\n",
    "    total2 += len(reads[i])\n",
    "print(total2)"
   ]
  },
  {
   "cell_type": "code",
   "execution_count": 55,
   "metadata": {},
   "outputs": [
    {
     "name": "stdout",
     "output_type": "stream",
     "text": [
      "(70083315,)\n",
      "69827254\n"
     ]
    }
   ],
   "source": [
    "with np.load(f'{data_dir}/H3K9me3/raw_data/X_long.npz') as f:\n",
    "    reads = f['reads']\n",
    "print(reads.shape)\n",
    "sequences = utils.remove_reads_with_N(reads, tolerance=0)\n",
    "print(len(sequences))"
   ]
  },
  {
   "cell_type": "code",
   "execution_count": 185,
   "metadata": {},
   "outputs": [
    {
     "name": "stdout",
     "output_type": "stream",
     "text": [
      "(4883,)\n",
      "4742\n"
     ]
    }
   ],
   "source": [
    "data = 'CENPT'\n",
    "model_name = 'model_inception2'\n",
    "threshold = 0.75\n",
    "with np.load(f'{data_dir}/{data}/results/{model_name}/seqs_{data}_over_{threshold}_with_{model_name}.npz') as f:\n",
    "    reads = f['reads']\n",
    "print(reads.shape)\n",
    "sequences = utils.remove_reads_with_N(reads, tolerance=0)\n",
    "print(len(sequences))"
   ]
  },
  {
   "cell_type": "code",
   "execution_count": 88,
   "metadata": {},
   "outputs": [
    {
     "name": "stdout",
     "output_type": "stream",
     "text": [
      "{read_length: nb_reads}\n",
      "{1680000: 1, 1400000: 1, 1080000: 1, 960000: 1, 920000: 1, 840000: 1, 720000: 2, 680000: 1, 640000: 1, 600000: 5, 560000: 4, 520000: 3, 480000: 9, 440000: 3, 400000: 9, 360000: 8, 320000: 15, 280000: 9, 240000: 14, 200000: 18, 160000: 40, 120000: 38, 80000: 69, 40000: 186, 25692: 1}\n"
     ]
    }
   ],
   "source": [
    "dico = utils.check_read_lengths(long)\n",
    "dico = dict(sorted(dico.items(), reverse=True))\n",
    "print('{read_length: nb_reads}')\n",
    "print(dico)"
   ]
  },
  {
   "cell_type": "code",
   "execution_count": 190,
   "metadata": {},
   "outputs": [],
   "source": [
    "with np.load(f'{data_dir}/H3K9me3/dataset30M.npz') as f:\n",
    "    reads = f['x_test']"
   ]
  },
  {
   "cell_type": "code",
   "execution_count": 23,
   "metadata": {},
   "outputs": [
    {
     "name": "stdout",
     "output_type": "stream",
     "text": [
      "(70083315,)\n"
     ]
    },
    {
     "ename": "",
     "evalue": "",
     "output_type": "error",
     "traceback": [
      "\u001b[1;31mCanceled future for execute_request message before replies were done"
     ]
    },
    {
     "ename": "",
     "evalue": "",
     "output_type": "error",
     "traceback": [
      "\u001b[1;31mThe Kernel crashed while executing code in the the current cell or a previous cell. Please review the code in the cell(s) to identify a possible cause of the failure. Click <a href='https://aka.ms/vscodeJupyterKernelCrash'>here</a> for more info. View Jupyter <a href='command:jupyter.viewOutput'>log</a> for further details."
     ]
    }
   ],
   "source": [
    "with np.load(f'{data_dir}/H3K9me3/raw_data/IP_reads_deduped.npz') as f:\n",
    "    reads = f['reads']\n",
    "print(reads.shape)\n",
    "sequences = utils.remove_reads_with_N(reads, tolerance=0)\n",
    "print(len(sequences))\n",
    "\n",
    "print('Looking for read duplicates')\n",
    "dico = utils.find_duplicates(sequences, one_hot=False, batch_size=500_000_000, print_freq=20_000_000)\n",
    "values = list(dico.values())\n",
    "print('Looking for duplicate level duplicates')\n",
    "dico2 = utils.find_duplicates(values, batch_size=100_000_000, print_freq=20_000_000)\n",
    "dico2 = dict(sorted(dico2.items(), reverse=True))\n",
    "print('{duplicate_level: nb_unique_reads}')\n",
    "print(dico2)\n",
    "print('top 5 duplicate level reads:', list(dico2.keys())[:5])"
   ]
  },
  {
   "cell_type": "code",
   "execution_count": 37,
   "metadata": {},
   "outputs": [
    {
     "name": "stdout",
     "output_type": "stream",
     "text": [
      "['ACATAAACCTGCACGCCAGAGCTGTGACTCACAAGCGACGCGCCACAGCTCTGGCGCCACCGGGCCAGCCGGGCTGACGACCGCGGGCTTTCCGGAGCTCT', 'ATAAACCTGCACGCCAGAGCTGTGACTCACAAGCGACGCGCCACAGCTCTGGCGCCACCGGGCCAGCCGGGCTGACGACCGCGGGCTTTCCGGAGCTCTGC']\n",
      "53\n"
     ]
    }
   ],
   "source": [
    "selected_reads = [k for k, v in dico.items() if v == 53]\n",
    "print(selected_reads)\n",
    "print(dico['GGTTAGGGTTAGGGTTAGGGTTAGGGTTAGGGTTAGGGTTAGGGTTAGGGTTAGGGTTAGGGTTAGGGTTAGGGTTAGGGTTAGGGTTAGGGTTAGGGTTA'])"
   ]
  },
  {
   "cell_type": "code",
   "execution_count": null,
   "metadata": {},
   "outputs": [],
   "source": [
    "x = list(dico.keys())\n",
    "y = list(dico.values())\n",
    "plt.plot(x, y)\n",
    "plt.yscale('log')\n",
    "plt.xscale('log')\n",
    "plt.ylabel('occurences')\n",
    "plt.xlabel('duplicate level')\n",
    "plt.show()\n",
    "plt.close()"
   ]
  },
  {
   "cell_type": "code",
   "execution_count": 210,
   "metadata": {},
   "outputs": [
    {
     "name": "stdout",
     "output_type": "stream",
     "text": [
      "total number of reads: 444816\n",
      "train: 311372 valid: 66722 test: 66722\n",
      "pos_train: 155686 pos_valid 33361 pos_test 33361\n"
     ]
    }
   ],
   "source": [
    "with np.load(f'{data_dir}/Bombyx/dataset3.npz') as dataset:\n",
    "    y_train = dataset['y_train']\n",
    "    y_valid = dataset['y_valid']\n",
    "    y_test = dataset['y_test']\n",
    "print('total number of reads:',len(y_train) + len(y_valid) + len(y_test))\n",
    "print('train:', len(y_train), 'valid:', len(y_valid), 'test:', len(y_test))\n",
    "print('pos_train:', len(y_train[y_train == 1]), 'pos_valid', len(y_valid[y_valid == 1]), 'pos_test', len(y_test[y_test == 1]))"
   ]
  },
  {
   "cell_type": "markdown",
   "metadata": {},
   "source": [
    "Plot test distribution"
   ]
  },
  {
   "cell_type": "code",
   "execution_count": 9,
   "metadata": {},
   "outputs": [
    {
     "data": {
      "image/png": "[encoded data removed]",
      "text/plain": [
       "<Figure size 432x446.4 with 6 Axes>"
      ]
     },
     "metadata": {
      "needs_background": "light"
     },
     "output_type": "display_data"
    }
   ],
   "source": [
    "data = 'H3K27ac'\n",
    "dataset_name = 'dataset4'\n",
    "model_name = 'model_inception3.0rew'\n",
    "new_labels = 'dataset_rel55'\n",
    "relabeled = False\n",
    "single_pred_array = True\n",
    "if single_pred_array:\n",
    "    if relabeled:\n",
    "        with np.load(f'{data_dir}/{data}/results/{model_name}/distrib_{model_name}_test_rel.npz') as f:\n",
    "            preds = f['pred']\n",
    "        with np.load(f'{data_dir}//{data}/{new_labels}.npz') as f:\n",
    "            y_test = f['y_test']\n",
    "    else:\n",
    "        with np.load(f'{data_dir}/{data}/results/{model_name}/distrib_{model_name}_test.npz') as f:\n",
    "            preds = f['pred']\n",
    "        with np.load(f'{data_dir}/{data}/{dataset_name}.npz') as f:\n",
    "            y_test = f['y_test']\n",
    "    predIP = preds[y_test == 1]\n",
    "    predControl = preds[y_test == 0]\n",
    "else:\n",
    "    with np.load(f'{data_dir}/{data}/results/distrib_{model_name}_test.npz') as f:\n",
    "            predIP = f['predIP']\n",
    "            predControl = f['predControl']\n",
    "\n",
    "accuracy =  (len(predIP[predIP > 0.5]) + len(predControl[predControl < 0.5])) / (len(predIP) + len(predControl))\n",
    "bins = np.histogram(np.concatenate((predIP, predControl)), bins=100)[1]\n",
    "\n",
    "widths = [5, 1]\n",
    "heights = [1.2] + [2.5]*2\n",
    "fig = plt.figure(figsize=(np.sum(widths), np.sum(heights)))\n",
    "# fig.suptitle(f\"Distribution of predictions of {model_name} on {data} for IP and Control reads\")\n",
    "gs = gridspec.GridSpec(ncols=len(widths), nrows=len(heights), width_ratios=widths, height_ratios=heights)\n",
    "\n",
    "ax0_top = plt.subplot(gs[0, 0])\n",
    "label_col0 = 'predictions'\n",
    "ax0_top.annotate(label_col0, (0.1, 0.5), xycoords='axes fraction', va='center', fontsize=18)\n",
    "ax0_top.axis('off')\n",
    "\n",
    "ax1_top = plt.subplot(gs[0, 1])\n",
    "label_col1 = 'scale'\n",
    "ax1_top.annotate(label_col1, (0.1, 0.5), xycoords='axes fraction', va='center', fontsize=18)\n",
    "ax1_top.axis('off')\n",
    "\n",
    "for nrow in range(1,3):\n",
    "\n",
    "    ax0 = plt.subplot(gs[nrow, 0])\n",
    "    ax0.hist(predIP, bins, label='IP', alpha=0.5)\n",
    "    ax0.hist(predControl, bins, label='Control', alpha=0.5)\n",
    "    ax0.axvline(x=0.5, color='black', label='t0.5')\n",
    "    thres = 0.81\n",
    "    ax0.axvline(x=thres, color='red', label=f't{thres}')\n",
    "    \n",
    "    ax1 = plt.subplot(gs[nrow, 1])\n",
    "    if nrow == 1:\n",
    "        label = 'linear'\n",
    "        ax1.annotate(f'accuracy: {round(accuracy, 4)}', (0, 0.4), xycoords='axes fraction', va='center', fontsize=13)\n",
    "    elif nrow == 2:\n",
    "        label = 'log'\n",
    "        ax0.set_yscale('log')\n",
    "    ax1.annotate(label, (0.1, 0.6), xycoords='axes fraction', va='center', fontsize=18)\n",
    "    ax1.axis('off')\n",
    "ax0.set_xlabel(\"predictions\", fontsize=18)\n",
    "ax0.set_ylabel(\"read count\", fontsize=18)\n",
    "handles, labels = ax0.get_legend_handles_labels()\n",
    "ax0_top.legend(handles, labels, loc='right')\n",
    "\n",
    "if not os.path.isdir(f'{writing_dir}/{data}/results/{model_name}'):\n",
    "    os.mkdir(f'{writing_dir}/{data}/results/{model_name}')\n",
    "plt.savefig(f'{writing_dir}/{data}/results/{model_name}/distrib_{model_name}_test.png', bbox_inches='tight')\n",
    "plt.show()\n",
    "plt.close()"
   ]
  },
  {
   "cell_type": "markdown",
   "metadata": {},
   "source": [
    "Select sequences"
   ]
  },
  {
   "cell_type": "code",
   "execution_count": 10,
   "metadata": {},
   "outputs": [
    {
     "name": "stdout",
     "output_type": "stream",
     "text": [
      "nb of selected reads with thres 0.81: 1177004\n"
     ]
    }
   ],
   "source": [
    "with np.load(f'{data_dir}/{data}/{dataset_name}.npz') as f:\n",
    "    x_test = f['x_test']\n",
    "# thres = 0.63\n",
    "selected_reads = x_test[preds.ravel() > thres, :, :]\n",
    "print(f'nb of selected reads with thres {thres}:', len(selected_reads))"
   ]
  },
  {
   "cell_type": "code",
   "execution_count": 99,
   "metadata": {},
   "outputs": [
    {
     "name": "stdout",
     "output_type": "stream",
     "text": [
      "nb of selected reads between 0.63 and 0.81: 1258\n"
     ]
    }
   ],
   "source": [
    "with np.load(f'{data_dir}/{data}/{dataset_name}.npz') as f:\n",
    "    x_test = f['x_test']\n",
    "thres0 = 0.63\n",
    "thres1 = 0.81\n",
    "preds = preds.ravel()\n",
    "mask = np.logical_and(preds > thres0, preds < thres1)\n",
    "selected_reads = x_test[mask, :, :]\n",
    "print(f'nb of selected reads between {thres0} and {thres1}:', len(selected_reads))"
   ]
  },
  {
   "cell_type": "markdown",
   "metadata": {},
   "source": [
    "Write into fasta file"
   ]
  },
  {
   "cell_type": "code",
   "execution_count": 93,
   "metadata": {},
   "outputs": [],
   "source": [
    "# 3m per 10_000_000 seqs of 101 bp\n",
    "utils.write_fasta(utils.one_hot_to_seq(selected_reads), f'{writing_dir}/{data}/results/{model_name}/seqs_{data}_over_{thres}_with_{model_name}.fasta')"
   ]
  },
  {
   "cell_type": "code",
   "execution_count": 100,
   "metadata": {},
   "outputs": [],
   "source": [
    "# 3m per 10_000_000 seqs of 101 bp\n",
    "utils.write_fasta(utils.one_hot_to_seq(selected_reads), f'{writing_dir}/{data}/results/{model_name}/seqs_{data}_over_{thres0}_below_{thres1}_with_{model_name}.fasta')"
   ]
  },
  {
   "cell_type": "markdown",
   "metadata": {},
   "source": [
    "Plot training logs"
   ]
  },
  {
   "cell_type": "code",
   "execution_count": 11,
   "metadata": {},
   "outputs": [
    {
     "data": {
      "image/png": "[encoded data removed]",
      "text/plain": [
       "<Figure size 360x432 with 2 Axes>"
      ]
     },
     "metadata": {
      "needs_background": "light"
     },
     "output_type": "display_data"
    }
   ],
   "source": [
    "if not os.path.isdir(f'{writing_dir}/{data}/results/{model_name}'):\n",
    "    os.mkdir(f'{writing_dir}/{data}/results/{model_name}/')\n",
    "logs = pd.read_csv(f'{data_dir}/{data}/Trainedmodels/{model_name}/epoch_data.csv')\n",
    "fig = plt.figure(figsize=(5, 6))\n",
    "fig.suptitle(f'Training logs for {model_name} on {data}')\n",
    "ax0 = plt.subplot(211)\n",
    "ax0.plot(logs['val_accuracy'], label='valid')\n",
    "ax0.plot(logs['accuracy'], label='train')\n",
    "ax0.set_ylabel('accuracy')\n",
    "ax0.legend()\n",
    "\n",
    "ax1 = plt.subplot(212)\n",
    "ax1.plot(logs['val_loss'], label='valid')\n",
    "ax1.plot(logs['loss'], label='train')\n",
    "ax1.set_xlabel('epoch')\n",
    "ax1.set_ylabel('loss')\n",
    "ax1.legend()\n",
    "plt.legend()\n",
    "plt.savefig(f'{writing_dir}/{data}/results/{model_name}/{model_name}_train_log.png', bbox_inches='tight')\n",
    "plt.show()\n",
    "plt.close()"
   ]
  },
  {
   "cell_type": "code",
   "execution_count": 12,
   "metadata": {},
   "outputs": [
    {
     "name": "stdout",
     "output_type": "stream",
     "text": [
      "accuracy:  0.6795833804050218\n",
      "IP accuracy:  0.6449021725058995\n",
      "Control accuracy:  0.7142645883041441\n"
     ]
    }
   ],
   "source": [
    "IP_accuracy = np.size(predIP[predIP > 0.5]) / np.size(predIP)\n",
    "Control_accuracy = (np.size(predControl[predControl < 0.5])\n",
    "                    / np.size(predControl))\n",
    "print('accuracy: ', (IP_accuracy + Control_accuracy) / 2)\n",
    "print('IP accuracy: ', IP_accuracy)\n",
    "print('Control accuracy: ', Control_accuracy)"
   ]
  },
  {
   "cell_type": "markdown",
   "metadata": {},
   "source": [
    "Plot test distribution during epochs"
   ]
  },
  {
   "cell_type": "code",
   "execution_count": 17,
   "metadata": {},
   "outputs": [
    {
     "name": "stdout",
     "output_type": "stream",
     "text": [
      "45\n",
      "0.6799546608729297\n"
     ]
    },
    {
     "data": {
      "image/png": "[encoded data removed]",
      "text/plain": [
       "<Figure size 432x288 with 1 Axes>"
      ]
     },
     "metadata": {
      "needs_background": "light"
     },
     "output_type": "display_data"
    },
    {
     "data": {
      "image/png": "[encoded data removed]",
      "text/plain": [
       "<Figure size 432x1238.4 with 18 Axes>"
      ]
     },
     "metadata": {
      "needs_background": "light"
     },
     "output_type": "display_data"
    }
   ],
   "source": [
    "data = 'H3K27ac'\n",
    "dataset_name = 'dataset4'\n",
    "model_name = 'model_inception3.0rew'\n",
    "model_name2 = 'model_inception2.2'\n",
    "new_labels = 'dataset_rel55'\n",
    "relabeled = False\n",
    "preds = np.load(f'{data_dir}/{data}/Trainedmodels/{model_name}/eval_epochs.npy')\n",
    "# Watching for nan predictions\n",
    "# for epoch in range(preds.shape[0]):\n",
    "#     nans = np.count_nonzero(np.isnan(preds[epoch]))\n",
    "#     print(f'Epoch {epoch}: {nans} nan predictions')\n",
    "if relabeled:\n",
    "    with np.load(f'{data_dir}/{data}/{new_labels}.npz') as f:\n",
    "        y_test = f['y_test']\n",
    "else:\n",
    "    with np.load(f'{data_dir}//{data}/{dataset_name}.npz') as f:\n",
    "        y_test = f['y_test']\n",
    "\n",
    "\n",
    "predsIP = preds[:, y_test == 1]\n",
    "predsControl = preds[:, y_test == 0]\n",
    "correct_IP = (predsIP > 0.5)\n",
    "correct_Control = (predsControl < 0.5)\n",
    "accuracys = (np.sum(correct_IP, axis=1) + np.sum(correct_Control, axis=1)) / len(y_test)\n",
    "amax = np.argmax(accuracys)\n",
    "print(amax)\n",
    "print(accuracys[amax])\n",
    "plt.plot(accuracys)\n",
    "plt.show()\n",
    "plt.close()\n",
    "\n",
    "# epochs = range(0, preds.shape[0], 5)\n",
    "epochs = [0, 1, 2, 3, 4, 9, 14, 19]\n",
    "widths = [5, 1]\n",
    "heights = [1.2] + [2]*len(epochs)\n",
    "fig = plt.figure(figsize=(np.sum(widths), np.sum(heights)))\n",
    "# fig.suptitle(f\"Distribution of predictions of {model_name} during epochs on {data} for IP and Control reads\")\n",
    "gs = gridspec.GridSpec(ncols=len(widths), nrows=len(heights), width_ratios=widths, height_ratios=heights)\n",
    "\n",
    "ax0_top = plt.subplot(gs[0, 0])\n",
    "label_col0 = 'prediction'\n",
    "ax0_top.annotate(label_col0, (0.1, 0.5), xycoords='axes fraction', va='center', fontsize=18)\n",
    "ax0_top.axis('off')\n",
    "\n",
    "ax1_top = plt.subplot(gs[0, 1])\n",
    "label_col1 = 'epoch'\n",
    "ax1_top.annotate(label_col1, (0.1, 0.5), xycoords='axes fraction', va='center', fontsize=18)\n",
    "ax1_top.axis('off')\n",
    "\n",
    "nrow = 1\n",
    "for epoch in epochs:\n",
    "    ax0 = plt.subplot(gs[nrow, 0])\n",
    "    ax0.hist(predsIP[epoch], bins=100, label='IP', alpha=0.5, range=(0,1))\n",
    "    ax0.hist(predsControl[epoch], bins=100, label='Control', alpha=0.5, range=(0,1))\n",
    "    ax0.axvline(x=0.5, color='black', label='base thres')\n",
    "    # ax0.set_yscale('log')\n",
    "\n",
    "    ax1 = plt.subplot(gs[nrow, 1])\n",
    "    label = f'{epoch+1}'\n",
    "    ax1.annotate(label, (0.1, 0.5), xycoords='axes fraction', va='center', fontsize=18)\n",
    "    ax1.annotate(f'accuracy: {round(accuracys[epoch], 4)}', (0, 0.4), xycoords='axes fraction', va='center', fontsize=13)\n",
    "    ax1.axis('off')\n",
    "\n",
    "    nrow += 1\n",
    "\n",
    "handles, labels = ax0.get_legend_handles_labels()\n",
    "ax0_top.legend(handles, labels, loc='right')\n",
    "ax0.set_xlabel(\"predictions\")\n",
    "ax0.set_ylabel(\"read count\")\n",
    "if not os.path.isdir(f'{writing_dir}/{data}/results/{model_name}'):\n",
    "    os.mkdir(f'{writing_dir}/{data}/results/{model_name}/')\n",
    "plt.savefig(f'{writing_dir}/{data}/results/{model_name}/distrib_{model_name}_test_epochs.png', bbox_inches='tight')\n",
    "plt.show()\n",
    "plt.close()"
   ]
  },
  {
   "cell_type": "markdown",
   "metadata": {},
   "source": [
    "Compare predictions between 2 models"
   ]
  },
  {
   "cell_type": "code",
   "execution_count": 22,
   "metadata": {},
   "outputs": [
    {
     "data": {
      "image/png": "[encoded data removed]",
      "text/plain": [
       "<Figure size 432x1238.4 with 18 Axes>"
      ]
     },
     "metadata": {
      "needs_background": "light"
     },
     "output_type": "display_data"
    }
   ],
   "source": [
    "data = 'H3K27ac'\n",
    "dataset_name = 'dataset4'\n",
    "model_name = 'model_inception3.0rew'\n",
    "model_name2 = 'model_inception2.2'\n",
    "new_labels = 'dataset_rel55'\n",
    "relabeled = False\n",
    "preds = np.load(f'{data_dir}/{data}/Trainedmodels/{model_name}/eval_epochs.npy')\n",
    "preds2 = np.load(f'{data_dir}/{data}/Trainedmodels/{model_name2}/eval_epochs.npy')\n",
    "diff = preds - preds2\n",
    "\n",
    "if relabeled:\n",
    "    with np.load(f'{data_dir}/{data}/{new_labels}.npz') as f:\n",
    "        y_test = f['y_test']\n",
    "else:\n",
    "    with np.load(f'{data_dir}//{data}/{dataset_name}.npz') as f:\n",
    "        y_test = f['y_test']\n",
    "\n",
    "diffIP = diff[:, y_test == 1]\n",
    "diffControl = diff[:, y_test == 0]\n",
    "\n",
    "# epochs = range(0, preds.shape[0], 5)\n",
    "epochs = [0, 1, 2, 3, 4, 9, 14, 19]\n",
    "widths = [5, 1]\n",
    "heights = [1.2] + [2]*len(epochs)\n",
    "fig = plt.figure(figsize=(np.sum(widths), np.sum(heights)))\n",
    "# fig.suptitle(f\"Distribution of prediction differences of {model_name} during epochs on {data} for IP and Control reads\")\n",
    "gs = gridspec.GridSpec(ncols=len(widths), nrows=len(heights), width_ratios=widths, height_ratios=heights)\n",
    "\n",
    "ax0_top = plt.subplot(gs[0, 0])\n",
    "label_col0 = 'prediction difference'\n",
    "ax0_top.annotate(label_col0, (0.1, 0.5), xycoords='axes fraction', va='center', fontsize=18)\n",
    "ax0_top.axis('off')\n",
    "\n",
    "ax1_top = plt.subplot(gs[0, 1])\n",
    "label_col1 = 'epoch'\n",
    "ax1_top.annotate(label_col1, (0.1, 0.5), xycoords='axes fraction', va='center', fontsize=18)\n",
    "ax1_top.axis('off')\n",
    "\n",
    "nrow = 1\n",
    "for epoch in epochs:\n",
    "    ax0 = plt.subplot(gs[nrow, 0])\n",
    "    ax0.hist(diffIP[epoch], bins=100, label='IP', alpha=0.5, range=(-1, 1))\n",
    "    ax0.hist(diffControl[epoch], bins=100, label='Control', alpha=0.5, range=(-1, 1))\n",
    "    # ax0.set_yscale('log')\n",
    "\n",
    "    ax1 = plt.subplot(gs[nrow, 1])\n",
    "    label = f'{epoch+1}'\n",
    "    ax1.annotate(label, (0.1, 0.5), xycoords='axes fraction', va='center', fontsize=18)\n",
    "    ax1.axis('off')\n",
    "\n",
    "    nrow += 1\n",
    "\n",
    "handles, labels = ax0.get_legend_handles_labels()\n",
    "ax0_top.legend(handles, labels, loc='right')\n",
    "ax0.set_xlabel(\"difference\")\n",
    "ax0.set_ylabel(\"read count\")\n",
    "if not os.path.isdir(f'{writing_dir}/{data}/results/{model_name}'):\n",
    "    os.mkdir(f'{writing_dir}/{data}/results/{model_name}/')\n",
    "plt.savefig(f'{writing_dir}/{data}/results/{model_name}/distrib_{model_name}_vs_{model_name2}_test_epochs.png', bbox_inches='tight')\n",
    "plt.show()\n",
    "plt.close()"
   ]
  },
  {
   "cell_type": "markdown",
   "metadata": {},
   "source": [
    "Trying thresholds"
   ]
  },
  {
   "cell_type": "code",
   "execution_count": null,
   "metadata": {},
   "outputs": [],
   "source": [
    "def find_threshold3(pred_pos, pred_neg, choice='first', tolerance=0.9):\n",
    "    \"\"\"\n",
    "    Find the threshold minimizing the misclassification error while satisfying\n",
    "    a condition on the top cumulative positive rate.\n",
    "\n",
    "    Misclassification error for threshold t is defined as #{pos<t} + #{neg>t}.\n",
    "    Top cumulative positive rate (Tcpr) for threshold t is defined as\n",
    "    #{pos>t} / (#{pos>t} + #{neg>t})\n",
    "\n",
    "    If the threshold is reached between 2 values, return the mean of these two\n",
    "    values.\n",
    "    If the threshold is reached on edges, return median of all values\n",
    "    The condition for the threshold is Tcpr > tolerance, which defaults to 0.9\n",
    "\n",
    "    Parameters:\n",
    "    pred_pos (array_like): list of predictions on positive samples\n",
    "    pred_neg (array_like): list of predictions on negative samples\n",
    "    choice (str, optional):\n",
    "        'first' for first occurence, 'last' for last occurence,\n",
    "        defaults to 'first'\n",
    "    tolerance (float, optional): tolerance rate for the Tcpr\n",
    "\n",
    "    Returns:\n",
    "    threshold (float): value of the threshold\n",
    "\n",
    "    Implementation:\n",
    "    Sort separately positive and negative examples predictions, then sort them\n",
    "    together by searching incrementally through both lists. While doing so,\n",
    "    update the misclassification error and top cumulative positive rate. Store\n",
    "    the minimal error reached so far that satisfies the Tcpr condition, as\n",
    "    well as the index of the argmin value. The argmin value is the one that\n",
    "    should be just below the threshold\n",
    "    \"\"\"\n",
    "    pred_neg = np.sort(pred_neg.flatten())\n",
    "    pred_pos = np.sort(pred_pos.flatten())\n",
    "    i = 0\n",
    "    j = 0\n",
    "    # Store tuple indices, first value is 0 for pred_neg or 1 for pred_pos\n",
    "    # and second value is the index in the corresponding array\n",
    "    indices = []\n",
    "    # At the start, all neg values are misclassified and all pos values are\n",
    "    # well classified\n",
    "    error = len(pred_neg)\n",
    "    min_error = error\n",
    "    min_error_index = -1  # index in in the \"indices\" list\n",
    "    # Store number of positives examples and total number of examples above\n",
    "    # current position\n",
    "    top_cur_pos_len = len(pred_pos)\n",
    "    top_cur_tot_len = len(pred_neg) + len(pred_pos)\n",
    "\n",
    "    while (i < len(pred_neg)) or (j < len(pred_pos)):\n",
    "        if i == len(pred_neg):  # End of pred_neg is reached\n",
    "            indices.append((1, j))  # Fetch next point from pred_pos\n",
    "            j += 1\n",
    "            error += 1\n",
    "            top_cur_pos_len -= 1\n",
    "        elif j == len(pred_pos):  # End of pred_pos is reached\n",
    "            indices.append((0, i))  # Fetch next point from pred_neg\n",
    "            i += 1\n",
    "            error -= 1\n",
    "        elif pred_neg[i] < pred_pos[j]:  # Smallest current value\n",
    "            indices.append((0, i))\n",
    "            i += 1\n",
    "            error -= 1\n",
    "        else:\n",
    "            indices.append((1, j))\n",
    "            j += 1\n",
    "            error += 1\n",
    "            top_cur_pos_len -= 1\n",
    "        top_cur_tot_len -= 1\n",
    "        # compute top cumulative positive rate\n",
    "        if top_cur_tot_len != 0:\n",
    "            top_cumul_pos_rate = top_cur_pos_len / top_cur_tot_len\n",
    "        else:\n",
    "            top_cumul_pos_rate = 1\n",
    "        # If error is the lowest so far, update minimal error\n",
    "        if error < min_error and top_cumul_pos_rate > tolerance:\n",
    "            min_error = error\n",
    "            min_error_index = i + j - 1\n",
    "        elif (choice == 'last'\n",
    "              and error == min_error\n",
    "              and top_cumul_pos_rate > tolerance):\n",
    "            min_error_index = i + j - 1\n",
    "\n",
    "    if (min_error_index == -1\n",
    "            or min_error_index == len(pred_neg)+len(pred_pos)-1):\n",
    "        # If minimum is reached on the edges, return median as default\n",
    "        median = np.median(np.concatenate((pred_pos, pred_neg)))\n",
    "        print('median', median)  # ######################################\n",
    "        return median\n",
    "    # Otherwise, return the mean of the two points on either side of the\n",
    "    # threshold\n",
    "    list_id_below, value_index_below = indices[min_error_index]\n",
    "    list_id_above, value_index_above = indices[min_error_index+1]\n",
    "    if list_id_below == 0:  # Take from pred_neg\n",
    "        value_below = pred_neg[value_index_below]\n",
    "    else:  # Take from pred_pos\n",
    "        value_below = pred_pos[value_index_below]\n",
    "    if list_id_above == 0:\n",
    "        value_above = pred_neg[value_index_above]\n",
    "    else:\n",
    "        value_above = pred_pos[value_index_above]\n",
    "    threshold = (value_below + value_above) / 2\n",
    "    return threshold\n",
    "\n",
    "\n",
    "def find_threshold4(pred_pos, pred_neg, nb_bins=200):\n",
    "    \"\"\"\n",
    "    Find the intersection of the normalized cumulative distribution of pos and\n",
    "    neg predictions.\n",
    "\n",
    "    Normalization is performed wrt the area under the cumulative distribution,\n",
    "    which is not standard normalization\n",
    "\n",
    "    The threshold is computed through bins, resulting in approximation\n",
    "    Last intersection is computed\n",
    "\n",
    "    Parameters:\n",
    "    pred_pos (array_like): list of predictions on positive samples\n",
    "    pred_neg (array_like): list of predictions on negative samples\n",
    "    nb_bins (int, optional): number of bins to divide the range of predictions\n",
    "        into, default to 200\n",
    "\n",
    "    Returns:\n",
    "    threshold (float): value of the threshold\n",
    "    \"\"\"\n",
    "    bins = np.linspace(0, 1, nb_bins)\n",
    "    pos_bins = np.digitize(pred_pos, bins).flatten()\n",
    "    pos_count = np.bincount(pos_bins, minlength=len(bins)+1)[1:]\n",
    "    cumul_pos_count = np.cumsum(pos_count)\n",
    "    total_pos_count = np.sum(cumul_pos_count)\n",
    "    cumul_pos_count_norm = cumul_pos_count / total_pos_count\n",
    "    cumul_pos_count_norm[np.isnan(cumul_pos_count_norm)] = 1\n",
    "\n",
    "    neg_bins = np.digitize(pred_neg, bins).flatten()\n",
    "    neg_count = np.bincount(neg_bins, minlength=len(bins)+1)[1:]\n",
    "    cumul_neg_count = np.cumsum(neg_count)\n",
    "    total_neg_count = np.sum(cumul_neg_count)\n",
    "    cumul_neg_count_norm = cumul_neg_count / total_neg_count\n",
    "    cumul_neg_count_norm[np.isnan(cumul_neg_count_norm)] = 1\n",
    "\n",
    "    reverse_list = (cumul_pos_count_norm < cumul_neg_count_norm)[::-1]\n",
    "    index = len(reverse_list) - np.argmax(reverse_list) - 1\n",
    "    threshold = bins[index]\n",
    "    return threshold\n",
    "\n",
    "\n",
    "def PU_threshold(pred_neg_valid):\n",
    "    \"\"\"\n",
    "    Using PU learning insight to choose threshold.\n",
    "    \"\"\"\n",
    "    neg_recall = 1 - np.mean(pred_neg_valid)\n",
    "    threshold = 1 - neg_recall/2\n",
    "    return threshold\n",
    "\n",
    "\n",
    "def threshold6(preds, pred_neg_valid):\n",
    "    \"\"\"\n",
    "    Use PU learning to estimate noise rate, then chose threshold.\n",
    "\n",
    "    Noise rate is estimated as in PU_threshold, the threshold is set to keep\n",
    "    as many examples above it as there are true positives\n",
    "    \"\"\"\n",
    "    # Estimate noise rate\n",
    "    neg_recall = 1 - np.mean(pred_neg_valid)\n",
    "    tp_estim = 2 - 1 / neg_recall\n",
    "    # Sort predictions\n",
    "    preds = np.sort(preds.flatten())\n",
    "    # Compute index of first value above threshold\n",
    "    sep = int(len(preds) * (2 - tp_estim) / 2)\n",
    "    if sep >= len(preds) or sep <= len(preds)/2:\n",
    "        # If index is out of bounds, return median as default\n",
    "        median = np.median(preds)\n",
    "        print('median', median)  # ######################################\n",
    "        return median\n",
    "    else:\n",
    "        # Compute threshold as mean of the values on either side\n",
    "        thres = (preds[sep-1] + preds[sep]) / 2\n",
    "        return thres\n",
    "\n",
    "\n",
    "def threshold7(preds, y, pred_neg_valid):\n",
    "    \"\"\"\n",
    "    Using PU learning to estimate noise rate, then estimate best accuracy.\n",
    "\n",
    "    Noise rate is estimated as in PU_threshold, accuracy is computed\n",
    "    considering the top postive predictions as true positives and others as\n",
    "    false positives. The true positives are weighted to balance classes.\n",
    "\n",
    "    Implementation:\n",
    "    Compute number of true positives by rounding from true positive rate and\n",
    "    number of positives. Compute weights according to the number of true\n",
    "    positives.\n",
    "    Sort labels in order of increasing predictions. Compute number of pos and\n",
    "    neg examples under a given position in the sorted array with cumulative\n",
    "    sums over the labels. Compute the error by identifying wrongly predicted\n",
    "    examples. Wrongly predicted examples are:\n",
    "    - neg examples over;\n",
    "    - if there are more pos examples over then there are true positives, the\n",
    "    surplus of positives are wrong;\n",
    "    - otherwise the remaining true positives under are wrong with weighted\n",
    "    contribution to the error\n",
    "    The argmin value should be the one just below the threshold. Since the\n",
    "    predictions weren't sorted, fetch the predictions corresponding to given\n",
    "    index using the stored order from argsort.\n",
    "    \"\"\"\n",
    "    # Estimate noise rate\n",
    "    neg_recall = 1 - np.mean(pred_neg_valid)\n",
    "    tp_estim = 2 - 1 / neg_recall\n",
    "    # Number of positives and true positives\n",
    "    pos_len = len(y[y == 1])\n",
    "    n_tp_estim = round(pos_len * tp_estim)\n",
    "    # Weight of true positives to balance classes\n",
    "    weight_tp = (len(y) - n_tp_estim) / n_tp_estim\n",
    "    # Sort arrays\n",
    "    preds, y = preds.flatten(), y.flatten()\n",
    "    order = np.argsort(preds)\n",
    "    y = y[order]\n",
    "    # Compute the number of pos and neg examples on either side of thres for\n",
    "    # every position of thres\n",
    "    neg_under = np.cumsum(1 - y)\n",
    "    neg_over = len(y) - pos_len - neg_under\n",
    "    pos_under = np.cumsum(y)\n",
    "    pos_over = pos_len - pos_under\n",
    "    # Estimate error at each position, and extract minimum\n",
    "    error = np.where(n_tp_estim <= pos_over,\n",
    "                     neg_over + pos_over - n_tp_estim,\n",
    "                     neg_over + weight_tp*(n_tp_estim - pos_over))\n",
    "    min_error_index = np.argmin(error)\n",
    "    if min_error_index == len(y) - 1:\n",
    "        # If minimum is reached at the end, return median as default\n",
    "        median = np.median(preds)\n",
    "        print('median', median)  # ######################################\n",
    "        return median\n",
    "    else:\n",
    "        # compute threshold as mean of the values on either side\n",
    "        thres = (preds[order[min_error_index]]\n",
    "                 + preds[order[min_error_index+1]]) / 2\n",
    "        return thres\n"
   ]
  },
  {
   "cell_type": "code",
   "execution_count": null,
   "metadata": {},
   "outputs": [],
   "source": [
    "with np.load('H3K27ac/results/distrib_model_inception_train.npz') as f:\n",
    "    predIP_tr = f['predIP_train']\n",
    "    predControl_tr = f['predControl_train']\n",
    "    predControl_v = f['predControl_valid']\n",
    "with np.load('H3K27ac/dataset.npz') as f:\n",
    "    y_train = f['y_train']\n",
    "preds = np.concatenate((predIP_tr, predControl_tr))\n",
    "y = np.concatenate((np.ones(len(predIP_tr)), np.zeros(len(predControl_tr))))"
   ]
  },
  {
   "cell_type": "code",
   "execution_count": null,
   "metadata": {},
   "outputs": [],
   "source": [
    "t0 = time.time()\n",
    "t6 = threshold6(preds, predControl_v)\n",
    "print('t6:', time.time() - t0)\n",
    "t0 = time.time()\n",
    "t7 = threshold7(preds, y, predControl_v)\n",
    "print('t7:', time.time() - t0)\n",
    "t0 = time.time()\n",
    "t3 = find_threshold3(predIP_tr, predControl_tr)\n",
    "print('t3:', time.time() - t0)\n",
    "t0 = time.time()\n",
    "t_PU = PU_threshold(predControl_v)\n",
    "print('t_PU:', time.time() - t0)"
   ]
  },
  {
   "cell_type": "code",
   "execution_count": null,
   "metadata": {},
   "outputs": [],
   "source": [
    "tp_estim = 2 - 0.5 / (1 - t_PU) # estimation of the true positive rate with tPU\n",
    "print(tp_estim)"
   ]
  },
  {
   "cell_type": "code",
   "execution_count": null,
   "metadata": {},
   "outputs": [],
   "source": [
    "bins = np.histogram(np.concatenate((predIP_tr, predControl_tr)), bins=100)[1]\n",
    "plt.figure()\n",
    "plt.hist(predIP_tr,bins,label='IP',alpha=0.5)\n",
    "plt.hist(predControl_tr,bins,label='Control',alpha=0.5)\n",
    "plt.axvline(t_PU, label='tPU', color='black')\n",
    "plt.axvline(t3, label='t3', color='blue')\n",
    "plt.axvline(t6, label='t6', color='green')\n",
    "plt.axvline(t7, label='t7', color='red')\n",
    "plt.title(\"Distribution of the probability outputs for IP and Control reads\")\n",
    "plt.xlabel(\"Probability\")\n",
    "plt.ylabel(\"bin count\")\n",
    "plt.legend()\n",
    "plt.show()\n",
    "plt.close()"
   ]
  },
  {
   "cell_type": "code",
   "execution_count": null,
   "metadata": {},
   "outputs": [],
   "source": [
    "nb_bins = 200\n",
    "bins = np.linspace(0,1,nb_bins)\n",
    "IP_bins = np.digitize(predIP, bins).flatten()\n",
    "IP_count = np.bincount(IP_bins, minlength=len(bins)+1)[1:]\n",
    "Control_bins = np.digitize(predControl, bins).flatten()\n",
    "Control_count = np.bincount(Control_bins, minlength=len(bins)+1)[1:]\n",
    "total_count = IP_count + Control_count\n",
    "IP_rate = IP_count / total_count"
   ]
  },
  {
   "cell_type": "code",
   "execution_count": null,
   "metadata": {},
   "outputs": [],
   "source": [
    "top_cumul_IP_count = np.flip(np.cumsum(np.flip(IP_count)))\n",
    "top_cumul_total_count = np.flip(np.cumsum(np.flip(total_count)))\n",
    "top_cumul_IP_rate = top_cumul_IP_count / top_cumul_total_count"
   ]
  },
  {
   "cell_type": "code",
   "execution_count": null,
   "metadata": {},
   "outputs": [],
   "source": [
    "plt.figure()\n",
    "plt.hist(predIP, bins=200, label='IP', weights=20*np.ones(len(predIP)) / len(predIP), alpha=0.5)\n",
    "plt.hist(predControl, bins=200, label='Control', weights=20*np.ones(len(predControl)) / len(predControl), alpha=0.5)\n",
    "plt.plot(bins, IP_rate, label='IP rate')\n",
    "plt.plot(bins, top_cumul_IP_rate, label='cumulative IP rate from top', color='black')\n",
    "plt.axhline(y=0.9,label='0.9 rate limit', color='red')\n",
    "plt.title(\"rate of IP reads per prediction value\")\n",
    "plt.xlabel(\"Prediction\")\n",
    "plt.ylabel(\"rate\")\n",
    "plt.legend()\n",
    "plt.show()\n",
    "plt.close()"
   ]
  },
  {
   "cell_type": "markdown",
   "metadata": {},
   "source": [
    "Plot GC_content distribution"
   ]
  },
  {
   "cell_type": "code",
   "execution_count": null,
   "metadata": {},
   "outputs": [],
   "source": [
    "data='NONO'\n",
    "dataset_name='dataset2'\n",
    "with np.load(f'{data_dir}/{data}/{dataset_name}.npz') as f:\n",
    "    x_test = f['x_test']\n",
    "    y_test = f['y_test']\n",
    "gc_content = utils.GC_content(x_test)\n",
    "\n",
    "bins = np.histogram(gc_content, bins=100, range=(0, 1))[1]\n",
    "accuracy, thres = utils.classify_1D(gc_content, y_test, bins=100)\n",
    "print('accuracy :', accuracy)\n",
    "\n",
    "widths = [5, 1]\n",
    "heights = [1.2] + [2.5]*2\n",
    "fig = plt.figure(figsize=(np.sum(widths), np.sum(heights)))\n",
    "# fig.suptitle(f\"Distribution of predictions of {model_name} on {data} for IP and Control reads\")\n",
    "gs = gridspec.GridSpec(ncols=len(widths), nrows=len(heights), width_ratios=widths, height_ratios=heights)\n",
    "\n",
    "ax0_top = plt.subplot(gs[0, 0])\n",
    "label_col0 = 'GC content'\n",
    "ax0_top.annotate(label_col0, (0.1, 0.5), xycoords='axes fraction', va='center', fontsize=18)\n",
    "ax0_top.axis('off')\n",
    "\n",
    "ax1_top = plt.subplot(gs[0, 1])\n",
    "label_col1 = 'scale'\n",
    "ax1_top.annotate(label_col1, (0.1, 0.5), xycoords='axes fraction', va='center', fontsize=18)\n",
    "ax1_top.axis('off')\n",
    "\n",
    "for nrow in range(1,3):\n",
    "\n",
    "    ax0 = plt.subplot(gs[nrow, 0])\n",
    "    ax0.hist(gc_content[y_test == 1], bins, label='IP', alpha=0.5)\n",
    "    ax0.hist(gc_content[y_test == 0], bins, label='Control', alpha=0.5)\n",
    "    ax0.axvline(x=thres, color='black', label='thres')\n",
    "    \n",
    "    ax1 = plt.subplot(gs[nrow, 1])\n",
    "    if nrow == 1:\n",
    "        scale_label = 'linear'\n",
    "        ax1.annotate(f'accuracy: {round(accuracy, 4)}', (0, 0.4), xycoords='axes fraction', va='center', fontsize=13)\n",
    "    elif nrow == 2:\n",
    "        scale_label = 'log'\n",
    "        ax0.set_yscale('log')\n",
    "    ax1.annotate(scale_label, (0.1, 0.6), xycoords='axes fraction', va='center', fontsize=18)\n",
    "    ax1.axis('off')\n",
    "ax0.set_xlabel(\"GC content\", fontsize=18)\n",
    "ax0.set_ylabel(\"read count\", fontsize=18)\n",
    "handles, labels = ax0.get_legend_handles_labels()\n",
    "ax0_top.legend(handles, labels, loc='right')\n",
    "\n",
    "fig.suptitle(f'Distribution of GC content in {data} reads', fontsize=18)\n",
    "plt.savefig(f'{writing_dir}/{data}/results/gc_content_classification_{dataset_name}.png', bbox_inches='tight')\n",
    "plt.show()\n",
    "plt.close()"
   ]
  }
 ],
 "metadata": {
  "interpreter": {
   "hash": "00e7424330818c90ac25a9eb217b83ab19236ec3c884b7e4b78b97ecfb399601"
  },
  "kernelspec": {
   "display_name": "Python 3.8.0 ('tf2.5': conda)",
   "language": "python",
   "name": "python3"
  },
  "language_info": {
   "codemirror_mode": {
    "name": "ipython",
    "version": 3
   },
   "file_extension": ".py",
   "mimetype": "text/x-python",
   "name": "python",
   "nbconvert_exporter": "python",
   "pygments_lexer": "ipython3",
   "version": "3.8.0"
  },
  "orig_nbformat": 4
 },
 "nbformat": 4,
 "nbformat_minor": 2
}
