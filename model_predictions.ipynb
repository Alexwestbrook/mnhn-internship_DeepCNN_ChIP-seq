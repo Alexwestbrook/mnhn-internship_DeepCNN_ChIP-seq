{
 "cells": [
  {
   "cell_type": "code",
   "execution_count": 3,
   "metadata": {},
   "outputs": [],
   "source": [
    "import time\n",
    "import importlib\n",
    "\n",
    "from pathlib import Path\n",
    "\n",
    "import numpy as np\n",
    "import pandas as pd\n",
    "\n",
    "import matplotlib as mpl\n",
    "from matplotlib import pyplot as plt\n",
    "from matplotlib import gridspec\n",
    "import matplotlib.axes as ax\n",
    "import seaborn as sns\n",
    "\n",
    "import scipy\n",
    "from scipy.stats import pearsonr\n",
    "\n",
    "import tensorflow as tf\n",
    "from Modules import utils, tf_utils, plot_utils, models\n",
    "from Modules.tf_utils import mae_cor, correlate"
   ]
  },
  {
   "cell_type": "code",
   "execution_count": 2,
   "metadata": {},
   "outputs": [],
   "source": [
    "importlib.reload(utils)\n",
    "importlib.reload(tf_utils)\n",
    "data_dir = '../shared_folder'\n",
    "writing_dir = '../shared_folder'\n",
    "# writing_dir='../'\n",
    "prop_cycle = plt.rcParams['axes.prop_cycle']\n",
    "colors = prop_cycle.by_key()['color']"
   ]
  },
  {
   "cell_type": "code",
   "execution_count": 6,
   "metadata": {},
   "outputs": [
    {
     "name": "stdout",
     "output_type": "stream",
     "text": [
      "Model: \"mnase_model\"\n",
      "__________________________________________________________________________________________________\n",
      "Layer (type)                    Output Shape         Param #     Connected to                     \n",
      "==================================================================================================\n",
      "input_3 (InputLayer)            [(None, 2001, 4)]    0                                            \n",
      "__________________________________________________________________________________________________\n",
      "conv1d_9 (Conv1D)               (None, 2001, 32)     416         input_3[0][0]                    \n",
      "__________________________________________________________________________________________________\n",
      "conv1d_10 (Conv1D)              (None, 2001, 64)     1600        input_3[0][0]                    \n",
      "__________________________________________________________________________________________________\n",
      "conv1d_11 (Conv1D)              (None, 2001, 16)     592         input_3[0][0]                    \n",
      "__________________________________________________________________________________________________\n",
      "inception_1 (Concatenate)       (None, 2001, 112)    0           conv1d_9[0][0]                   \n",
      "                                                                 conv1d_10[0][0]                  \n",
      "                                                                 conv1d_11[0][0]                  \n",
      "__________________________________________________________________________________________________\n",
      "max_pool_1 (MaxPooling1D)       (None, 1001, 112)    0           inception_1[0][0]                \n",
      "__________________________________________________________________________________________________\n",
      "batch_normalization_1 (BatchNor (None, 1001, 112)    448         max_pool_1[0][0]                 \n",
      "__________________________________________________________________________________________________\n",
      "conv1d_12 (Conv1D)              (None, 1001, 32)     10784       batch_normalization_1[0][0]      \n",
      "__________________________________________________________________________________________________\n",
      "conv1d_13 (Conv1D)              (None, 1001, 64)     43072       batch_normalization_1[0][0]      \n",
      "__________________________________________________________________________________________________\n",
      "conv1d_14 (Conv1D)              (None, 1001, 16)     16144       batch_normalization_1[0][0]      \n",
      "__________________________________________________________________________________________________\n",
      "inception_2 (Concatenate)       (None, 1001, 112)    0           conv1d_12[0][0]                  \n",
      "                                                                 conv1d_13[0][0]                  \n",
      "                                                                 conv1d_14[0][0]                  \n",
      "__________________________________________________________________________________________________\n",
      "max_pool_2 (MaxPooling1D)       (None, 501, 112)     0           inception_2[0][0]                \n",
      "__________________________________________________________________________________________________\n",
      "batch_normalization_2 (BatchNor (None, 501, 112)     448         max_pool_2[0][0]                 \n",
      "__________________________________________________________________________________________________\n",
      "flatten_1 (Flatten)             (None, 56112)        0           batch_normalization_2[0][0]      \n",
      "__________________________________________________________________________________________________\n",
      "dense_1 (Dense)                 (None, 128)          7182464     flatten_1[0][0]                  \n",
      "__________________________________________________________________________________________________\n",
      "batch_normalization_3 (BatchNor (None, 128)          512         dense_1[0][0]                    \n",
      "__________________________________________________________________________________________________\n",
      "dense_out (Dense)               (None, 1)            129         batch_normalization_3[0][0]      \n",
      "==================================================================================================\n",
      "Total params: 7,256,609\n",
      "Trainable params: 7,255,905\n",
      "Non-trainable params: 704\n",
      "__________________________________________________________________________________________________\n",
      "None\n"
     ]
    }
   ],
   "source": [
    "importlib.reload(models)\n",
    "model = models.mnase_model_batchnorm(2001)\n",
    "print(model.summary())\n",
    "del model"
   ]
  },
  {
   "cell_type": "code",
   "execution_count": 7,
   "metadata": {},
   "outputs": [
    {
     "name": "stdout",
     "output_type": "stream",
     "text": [
      "Model: \"sequential\"\n",
      "_________________________________________________________________\n",
      "Layer (type)                 Output Shape              Param #   \n",
      "=================================================================\n",
      "conv1d_15 (Conv1D)           (None, 1999, 32)          416       \n",
      "_________________________________________________________________\n",
      "max_pooling1d (MaxPooling1D) (None, 999, 32)           0         \n",
      "_________________________________________________________________\n",
      "batch_normalization_4 (Batch (None, 999, 32)           128       \n",
      "_________________________________________________________________\n",
      "conv1d_16 (Conv1D)           (None, 990, 32)           10272     \n",
      "_________________________________________________________________\n",
      "max_pooling1d_1 (MaxPooling1 (None, 495, 32)           0         \n",
      "_________________________________________________________________\n",
      "batch_normalization_5 (Batch (None, 495, 32)           128       \n",
      "_________________________________________________________________\n",
      "conv1d_17 (Conv1D)           (None, 476, 32)           20512     \n",
      "_________________________________________________________________\n",
      "max_pooling1d_2 (MaxPooling1 (None, 238, 32)           0         \n",
      "_________________________________________________________________\n",
      "batch_normalization_6 (Batch (None, 238, 32)           128       \n",
      "_________________________________________________________________\n",
      "flatten_2 (Flatten)          (None, 7616)              0         \n",
      "_________________________________________________________________\n",
      "dense (Dense)                (None, 8)                 60936     \n",
      "_________________________________________________________________\n",
      "batch_normalization_7 (Batch (None, 8)                 32        \n",
      "_________________________________________________________________\n",
      "dense_1 (Dense)              (None, 1)                 9         \n",
      "=================================================================\n",
      "Total params: 92,561\n",
      "Trainable params: 92,353\n",
      "Non-trainable params: 208\n",
      "_________________________________________________________________\n",
      "None\n"
     ]
    }
   ],
   "source": [
    "model = models.mnase_Maxime(2001)\n",
    "print(model.summary())\n",
    "del model"
   ]
  },
  {
   "cell_type": "code",
   "execution_count": 3,
   "metadata": {},
   "outputs": [
    {
     "data": {
      "text/plain": [
       "(844051, 4)"
      ]
     },
     "execution_count": 3,
     "metadata": {},
     "output_type": "execute_result"
    }
   ],
   "source": [
    "with np.load(Path(data_dir, 'SCerevisiae', 'genome', 'W303', 'W303.npz')) as f:\n",
    "    x_train = f['chr02']\n",
    "    x_valid = f['chr14']\n",
    "    x_test = f['chr16']\n",
    "with np.load(Path(data_dir, 'SCerevisiae', 'data', 'processed_MNase.npz')) as f:\n",
    "    y_train = f['chr02']\n",
    "    y_valid = f['chr14']\n",
    "    y_test = f['chr16']\n",
    "x_train.shape"
   ]
  },
  {
   "cell_type": "code",
   "execution_count": 6,
   "metadata": {},
   "outputs": [],
   "source": [
    "def valid_windows(one_hot_chr, labels, winsize):\n",
    "    N_mask = (np.sum(one_hot_chr, axis=1) == 0)\n",
    "    N_window_mask = np.asarray(\n",
    "        np.convolve(N_mask, np.ones(winsize), mode='same'),\n",
    "        dtype=int)\n",
    "    valid_window_mask = (N_window_mask == 0) & (labels != 0).ravel()\n",
    "    indexes = np.arange(len(one_hot_chr))[valid_window_mask]\n",
    "    indexes = indexes[\n",
    "        (indexes >= winsize // 2)\n",
    "        & (indexes < len(one_hot_chr) - (winsize // 2))]\n",
    "    return indexes"
   ]
  },
  {
   "cell_type": "code",
   "execution_count": 7,
   "metadata": {},
   "outputs": [
    {
     "data": {
      "text/plain": [
       "764064"
      ]
     },
     "execution_count": 7,
     "metadata": {},
     "output_type": "execute_result"
    }
   ],
   "source": [
    "x_eff = valid_windows(x_valid, y_valid, 2001)\n",
    "len(x_eff)"
   ]
  },
  {
   "cell_type": "code",
   "execution_count": 17,
   "metadata": {},
   "outputs": [
    {
     "data": {
      "text/plain": [
       "238115"
      ]
     },
     "execution_count": 17,
     "metadata": {},
     "output_type": "execute_result"
    }
   ],
   "source": [
    "gen_x = tf_utils.WindowGenerator(x_valid, y_valid, 2001, 1024, 2**22)\n",
    "gen_x.max_data"
   ]
  },
  {
   "cell_type": "code",
   "execution_count": 15,
   "metadata": {},
   "outputs": [
    {
     "data": {
      "text/plain": [
       "1048576"
      ]
     },
     "execution_count": 15,
     "metadata": {},
     "output_type": "execute_result"
    }
   ],
   "source": [
    "2**20"
   ]
  },
  {
   "cell_type": "code",
   "execution_count": 8,
   "metadata": {},
   "outputs": [],
   "source": [
    "def predict(model, one_hot_chr, winsize=2001):\n",
    "    X = utils.chunk_chr(one_hot_chr, 2001)[1]\n",
    "    pred = np.zeros(len(one_hot_chr))\n",
    "    pred[winsize//2:-(winsize//2)] = model.predict(X)[:, 0]\n",
    "    return pred"
   ]
  },
  {
   "cell_type": "code",
   "execution_count": 20,
   "metadata": {},
   "outputs": [],
   "source": [
    "preds = {}"
   ]
  },
  {
   "cell_type": "code",
   "execution_count": 34,
   "metadata": {},
   "outputs": [],
   "source": [
    "model = tf.keras.models.load_model(Path(data_dir, 'SCerevisiae', 'Trainedmodels', 'model_mnase_11', 'model'), custom_objects={\"mae_cor\": mae_cor, \"correlate\": correlate})\n",
    "pred_test = tf_utils.predict(model, x_test, 2001)\n",
    "# print(model.layers[0].input_shape[1])#.input_shape[0][1])\n",
    "# pred_test = predict(model, x_test)\n",
    "# pred_valid = predict(model, x_valid)\n",
    "# pred_train = predict(model, x_train)\n",
    "# pred_test_rev = predict(model, x_test[::-1,::-1])[::-1]\n",
    "# pred_valid_rev = predict(model, x_valid[::-1,::-1])[::-1]\n",
    "# pred_train_rev = predict(model, x_train[::-1,::-1])[::-1]\n",
    "del model"
   ]
  },
  {
   "cell_type": "code",
   "execution_count": 15,
   "metadata": {},
   "outputs": [
    {
     "name": "stdout",
     "output_type": "stream",
     "text": [
      "model_mnase_11\n",
      "model_mnase_13\n"
     ]
    }
   ],
   "source": [
    "# preds['model_mnase_11'] = [pred_test, pred_valid, pred_train, pred_test_rev, pred_valid_rev, pred_train_rev]\n",
    "# preds['model_mnase_12'] = [pred_test, pred_valid, pred_train, pred_test_rev, pred_valid_rev, pred_train_rev]\n",
    "preds['model_mnase_13'] = [pred_test, pred_valid, pred_train, pred_test_rev, pred_valid_rev, pred_train_rev]\n",
    "for pred_model in preds.keys():\n",
    "    print(pred_model)"
   ]
  },
  {
   "cell_type": "code",
   "execution_count": 19,
   "metadata": {},
   "outputs": [
    {
     "data": {
      "text/plain": [
       "(array([[1.        , 0.57081365, 0.5822789 ],\n",
       "        [0.57081365, 1.        , 0.66006644],\n",
       "        [0.5822789 , 0.66006644, 1.        ]]),\n",
       " array([[1.        , 0.56816693, 0.56442126],\n",
       "        [0.56816693, 1.        , 0.62536211],\n",
       "        [0.56442126, 0.62536211, 1.        ]]),\n",
       " array([[1.        , 0.8913237 , 0.57227383],\n",
       "        [0.8913237 , 1.        , 0.62596317],\n",
       "        [0.57227383, 0.62596317, 1.        ]]))"
      ]
     },
     "execution_count": 19,
     "metadata": {},
     "output_type": "execute_result"
    }
   ],
   "source": [
    "test_corrs = np.corrcoef([y_test, pred_test, pred_test_rev])\n",
    "valid_corrs = np.corrcoef([y_valid, pred_valid, pred_valid_rev])\n",
    "train_corrs = np.corrcoef([y_train, pred_train, pred_train_rev])\n",
    "test_corrs, valid_corrs, train_corrs"
   ]
  },
  {
   "cell_type": "code",
   "execution_count": 25,
   "metadata": {},
   "outputs": [
    {
     "data": {
      "image/png": "[encoded data removed]",
      "text/plain": [
       "<Figure size 432x288 with 1 Axes>"
      ]
     },
     "metadata": {
      "needs_background": "light"
     },
     "output_type": "display_data"
    }
   ],
   "source": [
    "start = 1000\n",
    "stop = start + 3000 # len(pred_train)\n",
    "plt.plot(np.arange(start, stop), y_test[start:stop], label='experimental', alpha=0.5)\n",
    "plt.plot(np.arange(start, stop), pred_test[start:stop], label='pred_forward', alpha=0.5)\n",
    "plt.plot(np.arange(start, stop), pred_test_rev[start:stop], label='pred_reverse', alpha=0.5)\n",
    "plt.legend()\n",
    "plt.show()\n",
    "plt.close()"
   ]
  },
  {
   "cell_type": "code",
   "execution_count": 36,
   "metadata": {},
   "outputs": [
    {
     "data": {
      "image/png": "[encoded data removed]",
      "text/plain": [
       "<Figure size 432x288 with 1 Axes>"
      ]
     },
     "metadata": {
      "needs_background": "light"
     },
     "output_type": "display_data"
    }
   ],
   "source": [
    "start = 1000\n",
    "stop = start + 3000 # len(pred_train)\n",
    "plt.plot(np.arange(start, stop), pred_test_rev[start:stop], label='pred_generator', alpha=0.5)\n",
    "plt.plot(np.arange(start, stop), pred_test2_rev[start:stop], label='pred_classic', alpha=0.5)\n",
    "plt.legend()\n",
    "plt.show()\n",
    "plt.close()"
   ]
  },
  {
   "cell_type": "code",
   "execution_count": 36,
   "metadata": {},
   "outputs": [],
   "source": [
    "def merge_chroms(chr_ids, file):\n",
    "    annot = []\n",
    "    with np.load(file) as f:\n",
    "        for chr_id in chr_ids:\n",
    "            annot.append(f[chr_id])\n",
    "            shape, dtype = f[chr_id].shape, f[chr_id].dtype\n",
    "            annot.append(np.zeros((1,)+shape[1:], dtype=dtype))\n",
    "    return np.concatenate(annot)"
   ]
  },
  {
   "cell_type": "code",
   "execution_count": 43,
   "metadata": {},
   "outputs": [
    {
     "data": {
      "text/plain": [
       "(9409640, 4)"
      ]
     },
     "execution_count": 43,
     "metadata": {},
     "output_type": "execute_result"
    }
   ],
   "source": [
    "a = merge_chroms(['chr01', 'chr02', 'chr03', 'chr04', 'chr05', 'chr06', 'chr07', 'chr08', 'chr09', 'chr10', 'chr11', 'chr12', 'chr13'], Path(data_dir, 'SCerevisiae', 'genome', 'W303', 'W303.npz'))\n",
    "a.shape"
   ]
  },
  {
   "cell_type": "code",
   "execution_count": 44,
   "metadata": {},
   "outputs": [
    {
     "data": {
      "text/plain": [
       "(9409640,)"
      ]
     },
     "execution_count": 44,
     "metadata": {},
     "output_type": "execute_result"
    },
    {
     "ename": "",
     "evalue": "",
     "output_type": "error",
     "traceback": [
      "\u001b[1;31mThe Kernel crashed while executing code in the the current cell or a previous cell. Please review the code in the cell(s) to identify a possible cause of the failure. Click <a href='https://aka.ms/vscodeJupyterKernelCrash'>here</a> for more info. View Jupyter <a href='command:jupyter.viewOutput'>log</a> for further details."
     ]
    }
   ],
   "source": [
    "b = merge_chroms(['chr01', 'chr02', 'chr03', 'chr04', 'chr05', 'chr06', 'chr07', 'chr08', 'chr09', 'chr10', 'chr11', 'chr12', 'chr13'], Path(data_dir, 'SCerevisiae', 'data', 'processed_MNase.npz'))\n",
    "b.shape"
   ]
  }
 ],
 "metadata": {
  "kernelspec": {
   "display_name": "tf2.5",
   "language": "python",
   "name": "python3"
  },
  "language_info": {
   "codemirror_mode": {
    "name": "ipython",
    "version": 3
   },
   "file_extension": ".py",
   "mimetype": "text/x-python",
   "name": "python",
   "nbconvert_exporter": "python",
   "pygments_lexer": "ipython3",
   "version": "3.8.0"
  },
  "orig_nbformat": 4
 },
 "nbformat": 4,
 "nbformat_minor": 2
}
