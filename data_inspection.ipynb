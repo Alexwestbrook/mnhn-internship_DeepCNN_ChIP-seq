{
 "cells": [
  {
   "cell_type": "markdown",
   "metadata": {},
   "source": [
    "# Notebook for data inspection\n",
    "\n",
    "Imports"
   ]
  },
  {
   "cell_type": "code",
   "execution_count": 2,
   "metadata": {},
   "outputs": [],
   "source": [
    "import time\n",
    "import os\n",
    "import importlib\n",
    "\n",
    "from pprint import pprint\n",
    "from collections import defaultdict\n",
    "from pathlib import Path\n",
    "from more_itertools import grouper\n",
    "from itertools import islice, chain, zip_longest, repeat\n",
    "\n",
    "import numpy as np\n",
    "import pandas as pd\n",
    "\n",
    "import matplotlib as mpl\n",
    "from matplotlib import pyplot as plt\n",
    "from matplotlib import gridspec\n",
    "import matplotlib.axes as ax\n",
    "import seaborn as sns\n",
    "\n",
    "import scipy\n",
    "from scipy import io\n",
    "from scipy.signal import convolve\n",
    "from scipy.sparse import coo_matrix, csr_matrix\n",
    "from scipy.stats import pearsonr\n",
    "from scipy.cluster.hierarchy import cut_tree\n",
    "\n",
    "from sklearn.utils import shuffle\n",
    "from sklearn.preprocessing import OneHotEncoder\n",
    "\n",
    "import pyBigWig\n",
    "from Modules import utils, plot_utils"
   ]
  },
  {
   "cell_type": "markdown",
   "metadata": {},
   "source": [
    "Useful global variables"
   ]
  },
  {
   "cell_type": "code",
   "execution_count": 3,
   "metadata": {},
   "outputs": [],
   "source": [
    "importlib.reload(utils)\n",
    "data_dir = '../shared_folder'\n",
    "writing_dir = '../shared_folder'\n",
    "# writing_dir='../'\n",
    "prop_cycle = plt.rcParams['axes.prop_cycle']\n",
    "colors = prop_cycle.by_key()['color']"
   ]
  },
  {
   "cell_type": "markdown",
   "metadata": {},
   "source": [
    "## Read checks"
   ]
  },
  {
   "cell_type": "markdown",
   "metadata": {},
   "source": [
    "Bombyx long reads vs short reads"
   ]
  },
  {
   "cell_type": "code",
   "execution_count": null,
   "metadata": {},
   "outputs": [],
   "source": [
    "with np.load(f'{data_dir}/Bombyx/raw_data/X_long.npz') as f:\n",
    "    long_reads = f['reads']\n",
    "with np.load(f'{data_dir}/Bombyx/raw_data/X_reads.npz') as f:\n",
    "    reads = f['reads']"
   ]
  },
  {
   "cell_type": "code",
   "execution_count": null,
   "metadata": {},
   "outputs": [],
   "source": [
    "total = 0\n",
    "for i in range(len(long_reads)):\n",
    "    assert(len(long_reads[i]) == len(long_reads[i].rstrip()))\n",
    "    total += len(long_reads[i])\n",
    "print(total)\n",
    "total2 = 0\n",
    "for i in range(len(reads)):\n",
    "    assert(len(reads[i]) == len(reads[i].rstrip()))\n",
    "    total2 += len(reads[i])\n",
    "print(total2)"
   ]
  },
  {
   "cell_type": "markdown",
   "metadata": {},
   "source": [
    "Total number of reads vs number of reads without Ns in training data"
   ]
  },
  {
   "cell_type": "code",
   "execution_count": null,
   "metadata": {},
   "outputs": [
    {
     "name": "stdout",
     "output_type": "stream",
     "text": [
      "(40956444,)\n"
     ]
    }
   ],
   "source": [
    "with np.load(f'{data_dir}/RNAPII_quiescence/raw_data/Control_reads.npz') as f:\n",
    "    reads = f['reads']\n",
    "print(reads.shape)\n",
    "# sequences = utils.remove_reads_with_N(reads, tolerance=0)\n",
    "# print(len(sequences))"
   ]
  },
  {
   "cell_type": "code",
   "execution_count": 22,
   "metadata": {},
   "outputs": [
    {
     "name": "stdout",
     "output_type": "stream",
     "text": [
      "WT_6d_IP_1_aligned_deduped.fastq 11070425\n",
      "WT_6d_IP_2_aligned_deduped.fastq 9688767\n",
      "WT_expo_IP_1_aligned_deduped.fastq 7282282\n",
      "WT_expo_IP_2_aligned_deduped.fastq 6698749\n",
      "untagged_6d_IP_1_aligned_deduped.fastq 4332264\n",
      "untagged_6d_IP_2_aligned_deduped.fastq 6262499\n",
      "untagged_expo_IP_1_aligned_deduped.fastq 5366369\n",
      "untagged_expo_IP_2_aligned_deduped.fastq 4415964\n"
     ]
    }
   ],
   "source": [
    "n_valid_per_file = {}\n",
    "for file in Path(data_dir, 'RNAPII_quiescence', 'raw_data', 'aligned_fastq').glob('*_deduped.fastq'):\n",
    "    print(file.name)\n",
    "    with open(file) as f:\n",
    "        n_valid = 0\n",
    "        for line in grouper(f, 4):\n",
    "            _, seq, *_ = line\n",
    "            seq = seq.rstrip()\n",
    "            if len(seq) == 51 and 'N' not in seq:\n",
    "                n_valid += 1\n",
    "    print(n_valid)\n",
    "    n_valid_per_file[file.name] = n_valid\n",
    "for key, value in sorted(n_valid_per_file.items()):\n",
    "    print(key, value)"
   ]
  },
  {
   "cell_type": "markdown",
   "metadata": {},
   "source": [
    "Total number of reads vs number of reads without Ns in post-selected data"
   ]
  },
  {
   "cell_type": "code",
   "execution_count": null,
   "metadata": {},
   "outputs": [],
   "source": [
    "data = 'CENPT'\n",
    "model_name = 'model_inception2'\n",
    "threshold = 0.75\n",
    "with np.load(f'{data_dir}/{data}/results/{model_name}/seqs_{data}_over_{threshold}_with_{model_name}.npz') as f:\n",
    "    reads = f['reads']\n",
    "print(reads.shape)\n",
    "sequences = utils.remove_reads_with_N(reads, tolerance=0)\n",
    "print(len(sequences))"
   ]
  },
  {
   "cell_type": "markdown",
   "metadata": {},
   "source": [
    "Read length check"
   ]
  },
  {
   "cell_type": "code",
   "execution_count": null,
   "metadata": {},
   "outputs": [],
   "source": [
    "dico = utils.check_read_lengths(reads)\n",
    "dico = dict(sorted(dico.items(), reverse=True))\n",
    "print('{read_length: nb_reads}')\n",
    "print(dico)"
   ]
  },
  {
   "cell_type": "markdown",
   "metadata": {},
   "source": [
    "Duplicate checks, in total vs without Ns"
   ]
  },
  {
   "cell_type": "code",
   "execution_count": 23,
   "metadata": {},
   "outputs": [
    {
     "name": "stdout",
     "output_type": "stream",
     "text": [
      "Looking for read duplicates\n",
      "1 batches\n",
      "Processing batch 0\n",
      "seq 11413453/11413453\n",
      "Looking for duplicate level duplicates\n",
      "1 batches\n",
      "Processing batch 0\n",
      "seq 11413453/11413453 duplicates\n",
      "{duplicate_level: nb_unique_reads}\n",
      "{1: 11413453}\n",
      "top 5 duplicate level reads: [1]\n"
     ]
    }
   ],
   "source": [
    "sequences = []\n",
    "with open(Path(data_dir, 'RNAPII_quiescence', 'raw_data', 'aligned_fastq', 'WT_6d_IP_1_aligned_deduped.fastq')) as f:\n",
    "    n_valid = 0\n",
    "    for line in grouper(f, 4):\n",
    "        _, seq, *_ = line\n",
    "        sequences.append(seq.rstrip())\n",
    "print('Looking for read duplicates')\n",
    "dico = utils.find_duplicates(sequences, one_hot=False, batch_size=50_000_000, print_freq=20_000_000)\n",
    "values = list(dico.values())\n",
    "print('Looking for duplicate level duplicates')\n",
    "dico2 = utils.find_duplicates(values, batch_size=100_000_000, print_freq=20_000_000)\n",
    "dico2 = dict(sorted(dico2.items(), reverse=True))\n",
    "print('{duplicate_level: nb_unique_reads}')\n",
    "print(dico2)\n",
    "print('top 5 duplicate level reads:', list(dico2.keys())[:5])"
   ]
  },
  {
   "cell_type": "code",
   "execution_count": null,
   "metadata": {},
   "outputs": [],
   "source": [
    "with np.load(f'{data_dir}/H3K9me3/dataset30M.npz') as f:\n",
    "    reads = f['x_test']"
   ]
  },
  {
   "cell_type": "code",
   "execution_count": null,
   "metadata": {},
   "outputs": [
    {
     "name": "stdout",
     "output_type": "stream",
     "text": [
      "Looking for read duplicates\n",
      "1 batches\n",
      "Processing batch 0\n",
      "seq 20000000/40956444 duplicates\n",
      "seq 40000000/40956444 duplicates\n",
      "seq 40956444/40956444 duplicates\n",
      "Looking for duplicate level duplicates\n",
      "1 batches\n",
      "Processing batch 0\n",
      "seq 20000000/39066493 duplicates\n",
      "seq 39066493/39066493 duplicates\n",
      "{duplicate_level: nb_unique_reads}\n",
      "{126: 1, 125: 1, 121: 1, 112: 1, 110: 1, 109: 1, 108: 1, 104: 2, 99: 1, 98: 2, 97: 2, 96: 1, 95: 1, 94: 2, 93: 1, 92: 1, 91: 1, 90: 1, 89: 1, 87: 1, 85: 2, 84: 1, 82: 2, 81: 4, 80: 2, 79: 3, 78: 1, 77: 2, 76: 2, 75: 2, 74: 6, 73: 8, 72: 4, 71: 7, 70: 7, 69: 5, 68: 5, 67: 11, 66: 10, 65: 11, 64: 13, 63: 16, 62: 10, 61: 16, 60: 18, 59: 22, 58: 17, 57: 21, 56: 32, 55: 19, 54: 35, 53: 43, 52: 33, 51: 32, 50: 52, 49: 46, 48: 35, 47: 46, 46: 53, 45: 53, 44: 61, 43: 86, 42: 87, 41: 89, 40: 88, 39: 105, 38: 101, 37: 122, 36: 142, 35: 152, 34: 173, 33: 171, 32: 203, 31: 197, 30: 230, 29: 261, 28: 315, 27: 326, 26: 388, 25: 389, 24: 457, 23: 529, 22: 573, 21: 705, 20: 804, 19: 958, 18: 1006, 17: 1247, 16: 1446, 15: 1784, 14: 2115, 13: 2512, 12: 2979, 11: 3653, 10: 4605, 9: 5495, 8: 6581, 7: 8384, 6: 10642, 5: 14235, 4: 21596, 3: 59651, 2: 969704, 1: 37940415}\n",
      "top 5 duplicate level reads: [126, 125, 121, 112, 110]\n"
     ]
    }
   ],
   "source": [
    "# with np.load(f'{data_dir}/HEK293-ZFAT/raw_data/Control_reads_deduped.npz') as f:\n",
    "#     reads = f['reads']\n",
    "# print(reads.shape)\n",
    "# sequences = utils.remove_reads_with_N(reads, tolerance=0)\n",
    "# print(len(sequences))\n",
    "\n",
    "print('Looking for read duplicates')\n",
    "dico = utils.find_duplicates(reads, one_hot=False, batch_size=50_000_000, print_freq=20_000_000)\n",
    "values = list(dico.values())\n",
    "print('Looking for duplicate level duplicates')\n",
    "dico2 = utils.find_duplicates(values, batch_size=100_000_000, print_freq=20_000_000)\n",
    "dico2 = dict(sorted(dico2.items(), reverse=True))\n",
    "print('{duplicate_level: nb_unique_reads}')\n",
    "print(dico2)\n",
    "print('top 5 duplicate level reads:', list(dico2.keys())[:5])\n",
    "\n",
    "# print('Looking for read duplicates')\n",
    "# dico = utils.find_duplicates(sequences, one_hot=False, batch_size=50_000_000, print_freq=20_000_000)\n",
    "# values = list(dico.values())\n",
    "# print('Looking for duplicate level duplicates')\n",
    "# dico2 = utils.find_duplicates(values, batch_size=100_000_000, print_freq=20_000_000)\n",
    "# dico2 = dict(sorted(dico2.items(), reverse=True))\n",
    "# print('{duplicate_level: nb_unique_reads}')\n",
    "# print(dico2)\n",
    "# print('top 5 duplicate level reads:', list(dico2.keys())[:5])"
   ]
  },
  {
   "cell_type": "code",
   "execution_count": null,
   "metadata": {},
   "outputs": [
    {
     "name": "stdout",
     "output_type": "stream",
     "text": [
      "['CAGACTTTACAAACAGAGTGTTTCCTAACTGCTCTATGAAAAGAAAGGTTAAACTCTGTGAGTTGAACGCACACATCACAAAGGAGTTTCTGAGAATCATT']\n",
      "110\n"
     ]
    }
   ],
   "source": [
    "selected_reads = [k for k, v in dico.items() if v == 110]\n",
    "print(selected_reads)\n",
    "print(dico[selected_reads[0]])"
   ]
  },
  {
   "cell_type": "markdown",
   "metadata": {},
   "source": [
    "Human telomere sequences check"
   ]
  },
  {
   "cell_type": "code",
   "execution_count": null,
   "metadata": {},
   "outputs": [],
   "source": [
    "# human telomere sequences\n",
    "seq_list = [\n",
    "    'CTAACCCTAACCCTAACCCTAACCCTAACCCTAACCCTAACCCTAACCCTAACCCTAACCCTAACCCTAACCCTAACCCTAACCCTAACCCTAACCCTAAC',\n",
    "    'CCTAACCCTAACCCTAACCCTAACCCTAACCCTAACCCTAACCCTAACCCTAACCCTAACCCTAACCCTAACCCTAACCCTAACCCTAACCCTAACCCTAA',\n",
    "    'CCCTAACCCTAACCCTAACCCTAACCCTAACCCTAACCCTAACCCTAACCCTAACCCTAACCCTAACCCTAACCCTAACCCTAACCCTAACCCTAACCCTA',\n",
    "    'ACCCTAACCCTAACCCTAACCCTAACCCTAACCCTAACCCTAACCCTAACCCTAACCCTAACCCTAACCCTAACCCTAACCCTAACCCTAACCCTAACCCT',\n",
    "    'TAACCCTAACCCTAACCCTAACCCTAACCCTAACCCTAACCCTAACCCTAACCCTAACCCTAACCCTAACCCTAACCCTAACCCTAACCCTAACCCTAACC',\n",
    "    'AACCCTAACCCTAACCCTAACCCTAACCCTAACCCTAACCCTAACCCTAACCCTAACCCTAACCCTAACCCTAACCCTAACCCTAACCCTAACCCTAACCC',\n",
    "    'GGTTAGGGTTAGGGTTAGGGTTAGGGTTAGGGTTAGGGTTAGGGTTAGGGTTAGGGTTAGGGTTAGGGTTAGGGTTAGGGTTAGGGTTAGGGTTAGGGTTA',\n",
    "    'GTTAGGGTTAGGGTTAGGGTTAGGGTTAGGGTTAGGGTTAGGGTTAGGGTTAGGGTTAGGGTTAGGGTTAGGGTTAGGGTTAGGGTTAGGGTTAGGGTTAG',\n",
    "    'TTAGGGTTAGGGTTAGGGTTAGGGTTAGGGTTAGGGTTAGGGTTAGGGTTAGGGTTAGGGTTAGGGTTAGGGTTAGGGTTAGGGTTAGGGTTAGGGTTAGG',\n",
    "    'TAGGGTTAGGGTTAGGGTTAGGGTTAGGGTTAGGGTTAGGGTTAGGGTTAGGGTTAGGGTTAGGGTTAGGGTTAGGGTTAGGGTTAGGGTTAGGGTTAGGG',\n",
    "    'AGGGTTAGGGTTAGGGTTAGGGTTAGGGTTAGGGTTAGGGTTAGGGTTAGGGTTAGGGTTAGGGTTAGGGTTAGGGTTAGGGTTAGGGTTAGGGTTAGGGT',\n",
    "    'GGGTTAGGGTTAGGGTTAGGGTTAGGGTTAGGGTTAGGGTTAGGGTTAGGGTTAGGGTTAGGGTTAGGGTTAGGGTTAGGGTTAGGGTTAGGGTTAGGGTT'\n",
    "]\n",
    "for seq in seq_list:\n",
    "    if seq in dico.keys():\n",
    "        print(dico[seq], seq)\n",
    "    else:\n",
    "        print(0, seq)"
   ]
  },
  {
   "cell_type": "markdown",
   "metadata": {},
   "source": [
    "Plot duplicate levels"
   ]
  },
  {
   "cell_type": "code",
   "execution_count": null,
   "metadata": {},
   "outputs": [],
   "source": [
    "x = list(dico.keys())\n",
    "y = list(dico.values())\n",
    "plt.plot(x, y)\n",
    "plt.yscale('log')\n",
    "plt.xscale('log')\n",
    "plt.ylabel('occurences')\n",
    "plt.xlabel('duplicate level')\n",
    "plt.show()\n",
    "plt.close()"
   ]
  },
  {
   "cell_type": "markdown",
   "metadata": {},
   "source": [
    "Inspect simple dataset labels"
   ]
  },
  {
   "cell_type": "code",
   "execution_count": null,
   "metadata": {},
   "outputs": [
    {
     "name": "stdout",
     "output_type": "stream",
     "text": [
      "total number of reads: 60000000\n",
      "train: 42000000 valid: 9000000 test: 9000000\n",
      "pos_train: 21000000 pos_valid 4500000 pos_test 4500000\n"
     ]
    }
   ],
   "source": [
    "with np.load(f'{data_dir}/Judith-H3K9me3/dataset.npz') as dataset:\n",
    "    y_train = dataset['y_train']\n",
    "    y_valid = dataset['y_valid']\n",
    "    y_test = dataset['y_test']\n",
    "print('total number of reads:',len(y_train) + len(y_valid) + len(y_test))\n",
    "print('train:', len(y_train), 'valid:', len(y_valid), 'test:', len(y_test))\n",
    "print('pos_train:', len(y_train[y_train == 1]), 'pos_valid', len(y_valid[y_valid == 1]), 'pos_test', len(y_test[y_test == 1]))"
   ]
  },
  {
   "cell_type": "markdown",
   "metadata": {},
   "source": [
    "Inspect sharded dataset"
   ]
  },
  {
   "cell_type": "code",
   "execution_count": 51,
   "metadata": {},
   "outputs": [],
   "source": [
    "with np.load(f'{data_dir}/RNAPII_quiescence/sharded_dataset_expo_1/train_0.npz') as f:\n",
    "    ids = f['ids']\n",
    "    one_hots = f['one_hots']"
   ]
  },
  {
   "cell_type": "code",
   "execution_count": 52,
   "metadata": {},
   "outputs": [
    {
     "name": "stdout",
     "output_type": "stream",
     "text": [
      "(13859398,)\n",
      "(13859398, 51, 4)\n",
      "@SN7001339:1136:HYNMWBCX2:1:2110:8679:12929 CATCCACTGAACTCGCTTCTCAAGAACAAGAAACCAAAGAAGACTCTGCGC\n",
      "@SN7001339:1137:HYNJFBCX2:1:1202:1765:77263 CGATACACAAGATGACACCGACACCTTGACCTAAAGCGAACTTGGTCTTGT\n",
      "@SN7001339:1136:HYNMWBCX2:1:2115:4809:49726 CATCCACTGAACTCGCTTCTCAAGAACAAGAAACCAAAGAAGACTCTGCGC\n",
      "@SN7001339:1137:HYNJFBCX2:1:1101:3224:76267 GATACACAAGATGACACCGACACCTTGACCTAAAGCGAACTTGGTCTTGTC\n",
      "@SN7001339:1136:HYNMWBCX2:1:2213:4362:66824 CATCCACTGAACTCGCTTCTCAAGAACAAGAAACCAAAGAAGACTCTGCGC\n",
      "@SN7001339:1137:HYNJFBCX2:1:1104:7839:96051 GACAAGACCAAGTTCGCTTTAGGTCAAGGTGTCGGTGTCATCTTGTGTATC\n",
      "@SN7001339:1136:HYNMWBCX2:1:2215:9413:72098 CATCCACTGAACTCGCTTCTCAAGAACAAGAAACCAAAGAAGACTCTGCGC\n",
      "@SN7001339:1137:HYNJFBCX2:1:2111:3495:87019 GACAAGACCAAGTTCGCTTTAGGTCAAGGTGTCGGTGTCATCTTGTGTATC\n",
      "@SN7001339:1136:HYNMWBCX2:2:1104:18310:93459 CATCCACTGAACTCGCTTCTCAAGAACAAGAAACCAAAGAAGACTCTGCGC\n",
      "@SN7001339:1137:HYNJFBCX2:2:1109:6328:12270 GACAAGACCAAGTTCGCTTTAGGTCAAGGTGTCGGTGTCATCTTGTGTATC\n",
      "@SN7001339:1136:HYNMWBCX2:2:1208:6406:22404 CATCCACTGAACTCGCTTCTCAAGAACAAGAAACCAAAGAAGACTCTGCGC\n"
     ]
    }
   ],
   "source": [
    "print(ids.shape)\n",
    "print(one_hots.shape)\n",
    "counter = 0\n",
    "for i, val in zip(ids, one_hots):\n",
    "    if counter > 10:\n",
    "        break\n",
    "    print(i, utils.one_hot_decode(val))\n",
    "    counter += 1\n",
    "# 9446118"
   ]
  },
  {
   "cell_type": "code",
   "execution_count": 7,
   "metadata": {},
   "outputs": [
    {
     "name": "stdout",
     "output_type": "stream",
     "text": [
      "51\n"
     ]
    }
   ],
   "source": [
    "with np.load(Path('..', 'shared_folder', 'RNAPII_quiescence', 'sharded_dataset_6d_2', 'test_0.npz')) as f:\n",
    "    read_length = f['one_hots'].shape[1]\n",
    "print(read_length)"
   ]
  },
  {
   "cell_type": "code",
   "execution_count": 190,
   "metadata": {},
   "outputs": [
    {
     "data": {
      "text/plain": [
       "(51, 4)"
      ]
     },
     "execution_count": 190,
     "metadata": {},
     "output_type": "execute_result"
    }
   ],
   "source": [
    "with np.load(Path('..', 'shared_folder', 'RNAPII_quiescence', 'sharded_dataset_6d_2', 'test_0.npz')) as f:\n",
    "    one_hot = f['one_hots'][0]\n",
    "one_hot.shape"
   ]
  },
  {
   "cell_type": "code",
   "execution_count": 199,
   "metadata": {},
   "outputs": [
    {
     "name": "stdout",
     "output_type": "stream",
     "text": [
      "chr01\n",
      "chr02\n",
      "chr03\n",
      "chr04\n",
      "chr05\n",
      "chr06\n",
      "chr07\n",
      "chr08\n",
      "chr09\n",
      "chr10\n",
      "chr11\n",
      "chr12\n",
      "chr13\n",
      "chr14\n",
      "chr15\n",
      "chr16\n",
      "chM\n",
      "p2\n"
     ]
    }
   ],
   "source": [
    "with np.load(Path(data_dir, 'SCerevisiae', 'genome', 'W303', 'W303.npz')) as f:\n",
    "    for key in f.keys():\n",
    "        print(key)"
   ]
  },
  {
   "cell_type": "code",
   "execution_count": 46,
   "metadata": {},
   "outputs": [
    {
     "name": "stdout",
     "output_type": "stream",
     "text": [
      "chrI\n",
      "chrII\n",
      "chrIII\n",
      "chrIV\n",
      "chrIX\n",
      "chrV\n",
      "chrVI\n",
      "chrVII\n",
      "chrVIII\n",
      "chrX\n",
      "chrXI\n",
      "chrXII\n",
      "chrXIII\n",
      "chrXIV\n",
      "chrXV\n",
      "chrXVI\n",
      "chrM\n"
     ]
    }
   ],
   "source": [
    "with np.load(Path(data_dir, 'SCerevisiae', 'genome', 'sacCer3.npz')) as f:\n",
    "    for key in f.keys():\n",
    "        print(key)"
   ]
  },
  {
   "cell_type": "code",
   "execution_count": 6,
   "metadata": {},
   "outputs": [
    {
     "name": "stdout",
     "output_type": "stream",
     "text": [
      "1 (248956422, 4)\n",
      "2 (242193529, 4)\n",
      "3 (198295559, 4)\n",
      "4 (190214555, 4)\n",
      "5 (181538259, 4)\n",
      "6 (170805979, 4)\n",
      "7 (159345973, 4)\n",
      "8 (145138636, 4)\n",
      "9 (138394717, 4)\n",
      "10 (133797422, 4)\n",
      "11 (135086622, 4)\n",
      "12 (133275309, 4)\n",
      "13 (114364328, 4)\n",
      "14 (107043718, 4)\n",
      "15 (101991189, 4)\n",
      "16 (90338345, 4)\n",
      "17 (83257441, 4)\n",
      "18 (80373285, 4)\n",
      "19 (58617616, 4)\n",
      "20 (64444167, 4)\n",
      "21 (46709983, 4)\n",
      "22 (50818468, 4)\n",
      "X (156040895, 4)\n",
      "Y (57227415, 4)\n"
     ]
    }
   ],
   "source": [
    "hg38_chr_names = {\n",
    "    1: 'NC_000001.11',\n",
    "    2: 'NC_000002.12',\n",
    "    3: 'NC_000003.12',\n",
    "    4: 'NC_000004.12',\n",
    "    5: 'NC_000005.10',\n",
    "    6: 'NC_000006.12',\n",
    "    7: 'NC_000007.14',\n",
    "    8: 'NC_000008.11',\n",
    "    9: 'NC_000009.12',\n",
    "    10: 'NC_000010.11',\n",
    "    11: 'NC_000011.10',\n",
    "    12: 'NC_000012.12',\n",
    "    13: 'NC_000013.11',\n",
    "    14: 'NC_000014.9',\n",
    "    15: 'NC_000015.10',\n",
    "    16: 'NC_000016.10',\n",
    "    17: 'NC_000017.11',\n",
    "    18: 'NC_000018.10',\n",
    "    19: 'NC_000019.10',\n",
    "    20: 'NC_000020.11',\n",
    "    21: 'NC_000021.9',\n",
    "    22: 'NC_000022.11',\n",
    "    'X': 'NC_000023.11',\n",
    "    'Y': 'NC_000024.10'}\n",
    "for chr_id in hg38_chr_names.keys():\n",
    "    # load one_hot_encoded sequence\n",
    "    genome_file = f'{data_dir}/Human/assembly/GRCh38/chr{chr_id}.npz'\n",
    "    with np.load(genome_file) as f:\n",
    "        one_hot = f['one_hot_genome']\n",
    "        print(chr_id, one_hot.shape)"
   ]
  },
  {
   "cell_type": "code",
   "execution_count": 8,
   "metadata": {},
   "outputs": [
    {
     "name": "stdout",
     "output_type": "stream",
     "text": [
      "637229\n"
     ]
    }
   ],
   "source": [
    "with open(Path(data_dir, 'Judith-H3K9me3', 'results', 'model_inception3.1', 'read_ids_Judith-H3K9me3_over_0.55_with_model_inception3.1.txt')) as f:\n",
    "    dico = {}\n",
    "    for line in f:\n",
    "        id_part, *_ = line.split(' ')\n",
    "        if id_part in dico.keys():\n",
    "            dico[id_part] += 1\n",
    "        else:\n",
    "            dico[id_part] = 1\n",
    "    print(len(dico))"
   ]
  },
  {
   "cell_type": "code",
   "execution_count": 203,
   "metadata": {},
   "outputs": [],
   "source": [
    "file = Path(data_dir, 'SCerevisiae', 'data', 'Yeast-myco_MNase_exp.bw')\n",
    "# Load MNase signal by chromosome into a dictionnary\n",
    "bw = pyBigWig.open(str(file))\n",
    "chr_values = {}\n",
    "for chr_id in bw.chroms().keys():\n",
    "    chr_values['chr' + format(utils.roman_to_int(chr_id[3:]), '02d')] = bw.values(chr_id, 0, -1, numpy=True)\n",
    "    # chr_values[chr_id] = bw.values(chr_id, 0, -1, numpy=True)\n",
    "\n",
    "# Get step corresponding to a single count\n",
    "all_values = np.concatenate([val for val in chr_values.values()])\n",
    "step = np.unique(all_values)[1]\n",
    "\n",
    "for key, val in chr_values.items():\n",
    "    # Transform signal into counts\n",
    "    val = np.round(val / step)\n",
    "    # Remove first count of each pair\n",
    "    val = np.insert(np.diff(np.cumsum(val) // 2), 0, 0)\n",
    "    # Clip to a maximum of 65 counts\n",
    "    val = np.clip(val, a_min=None, a_max=65)\n",
    "    # Apply gaussian smoothing\n",
    "    chr_values[key] = np.convolve(val, scipy.signal.windows.gaussian(100, 15), mode='same')\n",
    "\n",
    "# Clip to 99th percentile and normalize in [0, 1]\n",
    "all_values = np.concatenate([val for val in chr_values.values()])\n",
    "quant99 = np.quantile(all_values, 0.99)\n",
    "for key, value in chr_values.items():\n",
    "    chr_values[key] = np.clip(value, None, quant99) / quant99\n",
    "\n",
    "# Save in npz format\n",
    "save_file = utils.safe_filename(Path(data_dir, 'SCerevisiae', 'data', 'processed_MNase.npz'))\n",
    "np.savez_compressed(save_file, **chr_values)"
   ]
  },
  {
   "cell_type": "code",
   "execution_count": 201,
   "metadata": {},
   "outputs": [
    {
     "name": "stdout",
     "output_type": "stream",
     "text": [
      "chrI (252221,)\n",
      "chrII (844051,)\n",
      "chrIII (341087,)\n",
      "chrIV (1575129,)\n",
      "chrV (572496,)\n",
      "chrVI (277781,)\n",
      "chrVII (1092105,)\n",
      "chrVIII (564939,)\n",
      "chrIX (430780,)\n",
      "chrX (762303,)\n",
      "chrXI (683383,)\n",
      "chrXII (1084257,)\n",
      "chrXIII (929095,)\n",
      "chrXIV (793416,)\n",
      "chrXV (1108329,)\n",
      "chrXVI (986200,)\n"
     ]
    }
   ],
   "source": [
    "for chr_id in bw.chroms().keys():\n",
    "    a = bw.values(chr_id, 0, -1, numpy=True)\n",
    "    print(chr_id, a.shape)"
   ]
  },
  {
   "cell_type": "code",
   "execution_count": 202,
   "metadata": {},
   "outputs": [
    {
     "name": "stdout",
     "output_type": "stream",
     "text": [
      "chr01 (252320,)\n",
      "chr02 (844150,)\n",
      "chr03 (341186,)\n",
      "chr04 (1575228,)\n",
      "chr05 (572595,)\n",
      "chr06 (277880,)\n",
      "chr07 (1092204,)\n",
      "chr08 (565038,)\n",
      "chr09 (430879,)\n",
      "chr10 (762402,)\n",
      "chr11 (683482,)\n",
      "chr12 (1084356,)\n",
      "chr13 (929194,)\n",
      "chr14 (793515,)\n",
      "chr15 (1108428,)\n",
      "chr16 (986299,)\n"
     ]
    }
   ],
   "source": [
    "for chr_id, value in chr_values.items():\n",
    "    print(chr_id, value.shape)"
   ]
  },
  {
   "cell_type": "code",
   "execution_count": 47,
   "metadata": {},
   "outputs": [
    {
     "data": {
      "text/plain": [
       "{'chr01': array([[1.        , 0.99452457, 0.99452414],\n",
       "        [0.99452457, 1.        , 0.99999966],\n",
       "        [0.99452414, 0.99999966, 1.        ]]),\n",
       " 'chr02': array([[1.        , 0.99504285, 0.99504168],\n",
       "        [0.99504285, 1.        , 0.99999895],\n",
       "        [0.99504168, 0.99999895, 1.        ]]),\n",
       " 'chr03': array([[1.        , 0.99355306, 0.99355275],\n",
       "        [0.99355306, 1.        , 0.99999975],\n",
       "        [0.99355275, 0.99999975, 1.        ]]),\n",
       " 'chr04': array([[1.        , 0.99556177, 0.99556165],\n",
       "        [0.99556177, 1.        , 0.99999991],\n",
       "        [0.99556165, 0.99999991, 1.        ]]),\n",
       " 'chr05': array([[1.        , 0.99567985, 0.99567846],\n",
       "        [0.99567985, 1.        , 0.99999882],\n",
       "        [0.99567846, 0.99999882, 1.        ]]),\n",
       " 'chr06': array([[1.        , 0.9926761 , 0.99267445],\n",
       "        [0.9926761 , 1.        , 0.99999861],\n",
       "        [0.99267445, 0.99999861, 1.        ]]),\n",
       " 'chr07': array([[1.        , 0.99624121, 0.99536772],\n",
       "        [0.99624121, 1.        , 0.99963779],\n",
       "        [0.99536772, 0.99963779, 1.        ]]),\n",
       " 'chr08': array([[1.        , 0.9952232 , 0.99522271],\n",
       "        [0.9952232 , 1.        , 0.9999996 ],\n",
       "        [0.99522271, 0.9999996 , 1.        ]]),\n",
       " 'chr09': array([[1.        , 0.99484268, 0.99483283],\n",
       "        [0.99484268, 1.        , 0.99999086],\n",
       "        [0.99483283, 0.99999086, 1.        ]]),\n",
       " 'chr10': array([[1.        , 0.99508552, 0.99508415],\n",
       "        [0.99508552, 1.        , 0.9999988 ],\n",
       "        [0.99508415, 0.9999988 , 1.        ]]),\n",
       " 'chr11': array([[1.        , 0.99632012, 0.99631826],\n",
       "        [0.99632012, 1.        , 0.99999831],\n",
       "        [0.99631826, 0.99999831, 1.        ]]),\n",
       " 'chr12': array([[1.        , 0.9899133 , 0.98990704],\n",
       "        [0.9899133 , 1.        , 0.99999404],\n",
       "        [0.98990704, 0.99999404, 1.        ]]),\n",
       " 'chr13': array([[1.        , 0.99572521, 0.99572364],\n",
       "        [0.99572521, 1.        , 0.99999861],\n",
       "        [0.99572364, 0.99999861, 1.        ]]),\n",
       " 'chr14': array([[1.        , 0.99525746, 0.99525724],\n",
       "        [0.99525746, 1.        , 0.99999982],\n",
       "        [0.99525724, 0.99999982, 1.        ]]),\n",
       " 'chr15': array([[1.        , 0.99602236, 0.99602189],\n",
       "        [0.99602236, 1.        , 0.99999961],\n",
       "        [0.99602189, 0.99999961, 1.        ]]),\n",
       " 'chr16': array([[1.        , 0.99596081, 0.99488024],\n",
       "        [0.99596081, 1.        , 0.99963388],\n",
       "        [0.99488024, 0.99963388, 1.        ]])}"
      ]
     },
     "execution_count": 47,
     "metadata": {},
     "output_type": "execute_result"
    }
   ],
   "source": [
    "corrs = {}\n",
    "diff_len = {}\n",
    "with np.load(Path(data_dir, 'SCerevisiae', 'data', 'processed_MNase.npz')) as f:\n",
    "    with np.load(Path(data_dir, 'SCerevisiae', 'data', 'processed_MNase2.npz')) as f2:\n",
    "        for chr_id in f.keys():\n",
    "            labels = f[chr_id]\n",
    "            labels2 = f2[chr_id]\n",
    "            assert len(labels) == len(labels2)\n",
    "            chr_roman = 'chr' + utils.int_to_roman(int(chr_id[3:]))\n",
    "            labels_max = np.load(Path(data_dir, 'SCerevisiae', 'data', f'W303_lab_{chr_roman}.npy'))\n",
    "            diff_len[chr_id] = len(labels) - len(labels_max)\n",
    "            labels, labels_max = utils.adjust_length(labels, labels_max)\n",
    "            assert len(labels) == len(labels2)\n",
    "            corrs[chr_id] = np.corrcoef([labels, labels2, labels_max])\n",
    "corrs"
   ]
  },
  {
   "cell_type": "code",
   "execution_count": 45,
   "metadata": {},
   "outputs": [
    {
     "data": {
      "text/plain": [
       "{'chr01': 93,\n",
       " 'chr02': 91,\n",
       " 'chr03': 69,\n",
       " 'chr04': 69,\n",
       " 'chr05': 67,\n",
       " 'chr06': 83,\n",
       " 'chr07': 108,\n",
       " 'chr08': 95,\n",
       " 'chr09': 68,\n",
       " 'chr10': 64,\n",
       " 'chr11': 60,\n",
       " 'chr12': 74,\n",
       " 'chr13': 66,\n",
       " 'chr14': 92,\n",
       " 'chr15': 70,\n",
       " 'chr16': 69}"
      ]
     },
     "execution_count": 45,
     "metadata": {},
     "output_type": "execute_result"
    }
   ],
   "source": [
    "diff_len"
   ]
  },
  {
   "cell_type": "code",
   "execution_count": 183,
   "metadata": {},
   "outputs": [
    {
     "data": {
      "image/png": "[encoded data removed]",
      "text/plain": [
       "<Figure size 432x288 with 1 Axes>"
      ]
     },
     "metadata": {
      "needs_background": "light"
     },
     "output_type": "display_data"
    }
   ],
   "source": [
    "plt.hist(all_values, bins=100)\n",
    "plt.show()\n",
    "plt.close()"
   ]
  },
  {
   "cell_type": "code",
   "execution_count": 48,
   "metadata": {},
   "outputs": [
    {
     "data": {
      "image/png": "[encoded data removed]",
      "text/plain": [
       "<Figure size 432x288 with 1 Axes>"
      ]
     },
     "metadata": {
      "needs_background": "light"
     },
     "output_type": "display_data"
    }
   ],
   "source": [
    "chr_id = 'chr01'\n",
    "start = 250_000 # 102_200 #\n",
    "stop = start + 3000 # len(chr_values[chr_id]) #\n",
    "plt.plot(np.arange(start, min(stop, len(labels))), labels2[start:stop], label='alex')\n",
    "plt.plot(np.arange(start, min(stop, len(labels_max))), labels_max[start:stop], label='maxime')\n",
    "plt.legend()\n",
    "plt.show()\n",
    "plt.close()"
   ]
  },
  {
   "cell_type": "code",
   "execution_count": 61,
   "metadata": {},
   "outputs": [],
   "source": [
    "chr_labels = []\n",
    "with np.load(Path(data_dir, 'SCerevisiae', 'data', 'processed_MNase.npz')) as f:\n",
    "    for chr_id in f.keys():\n",
    "        chr_labels.append(f[chr_id])\n",
    "chr_labels = np.concatenate(chr_labels)\n",
    "\n",
    "chr_labels2 = []\n",
    "with np.load(Path(data_dir, 'SCerevisiae', 'data', 'processed_MNase2.npz')) as f:\n",
    "    for chr_id in f.keys():\n",
    "        chr_labels2.append(f[chr_id])\n",
    "chr_labels2 = np.concatenate(chr_labels2)\n",
    "\n",
    "chr_labels3 = []\n",
    "with np.load(Path(data_dir, 'SCerevisiae', 'data', 'processed_MNase3.npz')) as f:\n",
    "    for chr_id in f.keys():\n",
    "        chr_labels3.append(f[chr_id])\n",
    "chr_labels3 = np.concatenate(chr_labels3)\n",
    "\n",
    "chr_labels4 = []\n",
    "with np.load(Path(data_dir, 'SCerevisiae', 'data', 'processed_MNase4.npz')) as f:\n",
    "    for chr_id in f.keys():\n",
    "        chr_labels4.append(f[chr_id])\n",
    "chr_labels4 = np.concatenate(chr_labels4)\n",
    "\n",
    "chr_labels5 = []\n",
    "with np.load(Path(data_dir, 'SCerevisiae', 'data', 'processed_MNase5.npz')) as f:\n",
    "    for chr_id in f.keys():\n",
    "        chr_labels5.append(f[chr_id])\n",
    "chr_labels5 = np.concatenate(chr_labels5)"
   ]
  },
  {
   "cell_type": "code",
   "execution_count": 63,
   "metadata": {},
   "outputs": [
    {
     "data": {
      "image/png": "[encoded data removed]",
      "text/plain": [
       "<Figure size 432x288 with 1 Axes>"
      ]
     },
     "metadata": {
      "needs_background": "light"
     },
     "output_type": "display_data"
    }
   ],
   "source": [
    "plt.hist(chr_labels, bins=100, alpha=0.3, label='first_2clips')\n",
    "plt.hist(chr_labels2, bins=100, alpha=0.3, label='1clip')\n",
    "plt.hist(chr_labels3, bins=100, alpha=0.3, label='2clips')\n",
    "plt.hist(chr_labels4, bins=100, alpha=0.3, label='1clip_no0')\n",
    "plt.hist(chr_labels5, bins=100, alpha=0.3, label='2clips_no0')\n",
    "plt.legend()\n",
    "plt.show()\n",
    "plt.close()"
   ]
  },
  {
   "cell_type": "code",
   "execution_count": 131,
   "metadata": {},
   "outputs": [
    {
     "data": {
      "text/plain": [
       "array([], dtype=int64)"
      ]
     },
     "execution_count": 131,
     "metadata": {},
     "output_type": "execute_result"
    }
   ],
   "source": [
    "np.where((a[:-2] == 0) & (a[1:-1] == step) & (a[2:] == 0))[0]"
   ]
  }
 ],
 "metadata": {
  "kernelspec": {
   "display_name": "Python 3.8.0 ('tf2.5': conda)",
   "language": "python",
   "name": "python3"
  },
  "language_info": {
   "codemirror_mode": {
    "name": "ipython",
    "version": 3
   },
   "file_extension": ".py",
   "mimetype": "text/x-python",
   "name": "python",
   "nbconvert_exporter": "python",
   "pygments_lexer": "ipython3",
   "version": "3.8.0"
  },
  "orig_nbformat": 4,
  "vscode": {
   "interpreter": {
    "hash": "00e7424330818c90ac25a9eb217b83ab19236ec3c884b7e4b78b97ecfb399601"
   }
  }
 },
 "nbformat": 4,
 "nbformat_minor": 2
}
