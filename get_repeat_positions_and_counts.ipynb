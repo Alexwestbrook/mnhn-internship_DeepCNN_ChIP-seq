{
 "cells": [
  {
   "cell_type": "code",
   "execution_count": 2,
   "metadata": {},
   "outputs": [],
   "source": [
    "import importlib\n",
    "\n",
    "import numpy as np\n",
    "import pandas as pd\n",
    "\n",
    "import pysam\n",
    "import pyBigWig\n",
    "\n",
    "from Modules import utils, plot_utils"
   ]
  },
  {
   "cell_type": "code",
   "execution_count": 3,
   "metadata": {},
   "outputs": [],
   "source": [
    "def get_all_bowtie2_pos_by_query(bamfile: str, paired: bool):\n",
    "    with pysam.AlignmentFile(bamfile, \"rb\") as f:\n",
    "        pos = {}\n",
    "        for read in f.fetch():\n",
    "            rname = read.query_name\n",
    "            chr_id = read.reference_name\n",
    "            start = read.reference_start\n",
    "            bt2_align_val = read.tags[0][1]\n",
    "            if rname not in pos:\n",
    "                pos[rname] = {}\n",
    "            if paired:\n",
    "                nstart = read.next_reference_start\n",
    "                tlen = abs(read.template_length)\n",
    "                if not read.is_reverse:\n",
    "                    stop = start + tlen\n",
    "                    if (chr_id, start, stop) not in pos[rname]:\n",
    "                        pos[rname][(chr_id, start, stop)] = []\n",
    "                    pos[rname][(chr_id, start, stop)].append(bt2_align_val)\n",
    "                else:\n",
    "                    nstop = nstart + tlen\n",
    "                    pos[rname][(chr_id, nstart, nstop)].append(bt2_align_val)\n",
    "            else:\n",
    "                qlen = read.query_alignment_length\n",
    "                stop = start + qlen\n",
    "                pos[rname][(chr_id, start, stop)] = bt2_align_val\n",
    "    return pos"
   ]
  },
  {
   "cell_type": "code",
   "execution_count": 4,
   "metadata": {},
   "outputs": [],
   "source": [
    "# Choose one of the following\n",
    "bamfile = \"/home/alex/shared_folder/Judith-H3K9me3/results/alignments/T2T-CHM13v2.0/amorces_qPCR_paired_max200.sorted.bam\"\n",
    "paired = True\n",
    "extra_suffix = \"2\"\n",
    "\n",
    "# bamfile = \"/home/alex/shared_folder/Judith-H3K9me3/results/alignments/T2T-CHM13v2.0/RNAg-Alu31Rev.sorted.bam\"\n",
    "# paired = False\n",
    "# extra_suffix = ''\n",
    "\n",
    "# bamfile = \"/home/alex/shared_folder/Judith-H3K9me3/results/alignments/T2T-CHM13v2.0/RNAg-Alu31Rev-bis.sorted.bam\"\n",
    "# paired = False\n",
    "# extra_suffix = ''"
   ]
  },
  {
   "cell_type": "code",
   "execution_count": 6,
   "metadata": {},
   "outputs": [
    {
     "name": "stdout",
     "output_type": "stream",
     "text": [
      "3\n",
      "Alu 70858 5928\n",
      "Alpha 3071 2339\n",
      "D4Z1 1013 920\n"
     ]
    }
   ],
   "source": [
    "# Get matched pairs with alignment score from the bamfile\n",
    "pos = get_all_bowtie2_pos_by_query(bamfile, paired=paired)\n",
    "# Write bed files with exact matches and partial matches (i.e. all matches)\n",
    "print(len(pos))\n",
    "for repeat_element, positions in pos.items():\n",
    "    partial_positions = list(positions.keys())\n",
    "    exact_positions = [\n",
    "        pos\n",
    "        for pos, bt2_align_val in positions.items()\n",
    "        if np.all(np.array(bt2_align_val) == 0)\n",
    "    ]\n",
    "    print(repeat_element, len(partial_positions), len(exact_positions))\n",
    "    for bam_list, suffix in zip(\n",
    "        [partial_positions, exact_positions], [\"partial\", \"exact\"]\n",
    "    ):\n",
    "        with open(\n",
    "            f\"/home/alex/shared_folder/Judith-H3K9me3/results/alignments/T2T-CHM13v2.0/T2T_{repeat_element}_positions_{suffix}{extra_suffix}.bed\",\n",
    "            \"w\",\n",
    "        ) as f:\n",
    "            for chr_id, start, stop in bam_list:\n",
    "                f.write(f\"{chr_id}\\t{start}\\t{stop}\\n\")"
   ]
  },
  {
   "cell_type": "code",
   "execution_count": 10,
   "metadata": {},
   "outputs": [
    {
     "name": "stdout",
     "output_type": "stream",
     "text": [
      "D4Z1\n",
      "0    924\n",
      "1    924\n",
      "2    924\n",
      "dtype: int64\n",
      "Alpha\n",
      "0    2348\n",
      "1    2348\n",
      "2    2348\n",
      "dtype: int64\n",
      "Alu\n",
      "0    5998\n",
      "1    5998\n",
      "2    5998\n",
      "dtype: int64\n"
     ]
    }
   ],
   "source": [
    "# Check results by counting exact matches by chromosome\n",
    "bedfiles = {\n",
    "    \"D4Z1\": \"/home/alex/shared_folder/Judith-H3K9me3/results/alignments/T2T-CHM13v2.0/T2T_D4Z1_positions_exact2.bed\",\n",
    "    \"Alpha\": \"/home/alex/shared_folder/Judith-H3K9me3/results/alignments/T2T-CHM13v2.0/T2T_Alpha_positions_exact2.bed\",\n",
    "    \"Alu\": \"/home/alex/shared_folder/Judith-H3K9me3/results/alignments/T2T-CHM13v2.0/T2T_Alu_positions_exact2.bed\",\n",
    "    \"RNAg-Alu31Rev\": \"/home/alex/shared_folder/Judith-H3K9me3/results/alignments/T2T-CHM13v2.0/T2T_RNAg-Alu31Rev_positions_exact.bed\",\n",
    "    \"RNAg-Alu31Rev-bis\": \"/home/alex/shared_folder/Judith-H3K9me3/results/alignments/T2T-CHM13v2.0/T2T_RNAg-Alu31Rev-bis_positions_exact.bed\",\n",
    "}\n",
    "for repid, bedfile in bedfiles.items():\n",
    "    print(repid)\n",
    "    df = pd.read_csv(bedfile, sep=\"\\t\", header=None)\n",
    "    print(df.groupby(0).count())"
   ]
  },
  {
   "cell_type": "markdown",
   "metadata": {},
   "source": [
    "Count bigWig file signal over identified repeats"
   ]
  },
  {
   "cell_type": "code",
   "execution_count": null,
   "metadata": {},
   "outputs": [],
   "source": [
    "# Choose appropriate bigwig signals, bed repeat intervals and signal quantiles (computed from bigwig_stats.ipynb)\n",
    "bwfiles = {\n",
    "    \"Ctrl\": \"/home/alex/shared_folder/Judith-H3K9me3/results/alignments/T2T-CHM13v2.0/D1145C44_trimmed_run2_paired_T2T.bw\",\n",
    "    \"IP1\": \"/home/alex/shared_folder/Judith-H3K9me3/results/alignments/T2T-CHM13v2.0/D1145C43_trimmed_run2_paired_T2T.bw\",\n",
    "    \"IP2\": \"/home/alex/shared_folder/Judith-H3K9me3/results/alignments/T2T-CHM13v2.0/HN00205099_RawFASTQ_RPE1_WTH3K9me3_run2_paired_T2T.bw\",\n",
    "}\n",
    "bedfiles = {\n",
    "    \"D4Z1\": \"/home/alex/shared_folder/Judith-H3K9me3/results/alignments/T2T-CHM13v2.0/T2T_D4Z1_positions_exact2.bed\",\n",
    "    \"Alpha\": \"/home/alex/shared_folder/Judith-H3K9me3/results/alignments/T2T-CHM13v2.0/T2T_Alpha_positions_exact2.bed\",\n",
    "    \"Alu\": \"/home/alex/shared_folder/Judith-H3K9me3/results/alignments/T2T-CHM13v2.0/T2T_Alu_positions_exact2.bed\",\n",
    "    \"RNAg-Alu31Rev\": \"/home/alex/shared_folder/Judith-H3K9me3/results/alignments/T2T-CHM13v2.0/T2T_RNAg-Alu31Rev_positions_exact.bed\",\n",
    "    \"RNAg-Alu31Rev-bis\": \"/home/alex/shared_folder/Judith-H3K9me3/results/alignments/T2T-CHM13v2.0/T2T_RNAg-Alu31Rev-bis_positions_exact.bed\",\n",
    "}\n",
    "quantiles = pd.read_csv(\n",
    "    \"/home/alex/shared_folder/Judith-H3K9me3/results/alignments/T2T-CHM13v2.0/quantiles_run2.csv\",\n",
    "    index_col=0,\n",
    ")\n",
    "quantiles"
   ]
  },
  {
   "cell_type": "code",
   "execution_count": 2,
   "metadata": {},
   "outputs": [
    {
     "data": {
      "text/plain": [
       "'_run2_300bp_clipq0.99'"
      ]
     },
     "execution_count": 2,
     "metadata": {},
     "output_type": "execute_result"
    }
   ],
   "source": [
    "suffix = \"_run2\"\n",
    "# Choose options:\n",
    "\n",
    "# Count on 300bp centered on interval (default is only interval)\n",
    "# suffix += \"_300bp\"\n",
    "\n",
    "# Count using thresholded signal at 99e centile\n",
    "# suffix += \"_clipq0.99\"\n",
    "\n",
    "suffix"
   ]
  },
  {
   "cell_type": "code",
   "execution_count": null,
   "metadata": {},
   "outputs": [],
   "source": [
    "# Count total signal by interval\n",
    "tot = {}\n",
    "for file_id, bwfile in bwfiles.items():\n",
    "    tot[file_id] = {}\n",
    "    with pyBigWig.open(bwfile) as bw:\n",
    "        for rep_id, bedfile in bedfiles.items():\n",
    "            tot[file_id][rep_id] = {}\n",
    "            with open(bedfile) as f:\n",
    "                for line in f:\n",
    "                    chr_id, start, stop, *_ = line.split()\n",
    "                    start, stop = int(start), int(stop)\n",
    "                    # Taking 300bp centered on bed interval\n",
    "                    if \"_300bp\" in suffix:\n",
    "                        mid = (stop + start) // 2\n",
    "                        start, stop = mid - 150, mid + 150\n",
    "                        stop = min(bw.chroms(chr_id) - 1, stop)\n",
    "                    #################################\n",
    "                    interval_sum = bw.values(chr_id, start, stop, numpy=True)\n",
    "                    # Cliping signal before summing\n",
    "                    if \"_clipq0.99\" in suffix:\n",
    "                        interval_sum = np.clip(\n",
    "                            interval_sum,\n",
    "                            a_min=None,\n",
    "                            a_max=quantiles.loc[bwfile, \"quantile_0.99\"],\n",
    "                        )\n",
    "                    #################################\n",
    "                    tot[file_id][rep_id][(chr_id, start, stop)] = np.sum(interval_sum)\n",
    "# Index by rep_id first and make a list of counts by file\n",
    "frag_counts = {}\n",
    "for rep_id in bedfiles:\n",
    "    frag_counts[rep_id] = {}\n",
    "    for file_id, file_tot in tot.items():\n",
    "        for pos, val in file_tot[rep_id].items():\n",
    "            if pos not in frag_counts[rep_id]:\n",
    "                frag_counts[rep_id][pos] = []\n",
    "            frag_counts[rep_id][pos].append(int(val))\n",
    "frag_counts\n",
    "# Store result in bed files\n",
    "resbedfiles = {\n",
    "    \"D4Z1\": f\"/home/alex/shared_folder/Judith-H3K9me3/results/alignments/T2T-CHM13v2.0/T2T_D4Z1_positions_exact{suffix}_frag_counts.bed\",\n",
    "    \"Alpha\": f\"/home/alex/shared_folder/Judith-H3K9me3/results/alignments/T2T-CHM13v2.0/T2T_Alpha_positions_exact{suffix}_frag_counts.bed\",\n",
    "    \"Alu\": f\"/home/alex/shared_folder/Judith-H3K9me3/results/alignments/T2T-CHM13v2.0/T2T_Alu_positions_exact{suffix}_frag_counts.bed\",\n",
    "    \"RNAg-Alu31Rev\": f\"/home/alex/shared_folder/Judith-H3K9me3/results/alignments/T2T-CHM13v2.0/T2T_RNAg-Alu31Rev_positions_exact{suffix}_frag_counts.bed\",\n",
    "    \"RNAg-Alu31Rev-bis\": f\"/home/alex/shared_folder/Judith-H3K9me3/results/alignments/T2T-CHM13v2.0/T2T_RNAg-Alu31Rev-bis_positions_exact{suffix}_frag_counts.bed\",\n",
    "}\n",
    "for rep_id, resbedfile in resbedfiles.items():\n",
    "    resbedfile = utils.safe_filename(resbedfile)\n",
    "    with open(resbedfile, \"w\") as f:\n",
    "        for (chr_id, start, stop), (ctrl, ip1, ip2) in frag_counts[rep_id].items():\n",
    "            f.write(f\"{chr_id}\\t{start}\\t{stop}\\t{ctrl}\\t{ip1}\\t{ip2}\\n\")"
   ]
  }
 ],
 "metadata": {
  "kernelspec": {
   "display_name": "tf2.5",
   "language": "python",
   "name": "python3"
  },
  "language_info": {
   "codemirror_mode": {
    "name": "ipython",
    "version": 3
   },
   "file_extension": ".py",
   "mimetype": "text/x-python",
   "name": "python",
   "nbconvert_exporter": "python",
   "pygments_lexer": "ipython3",
   "version": "3.8.0"
  }
 },
 "nbformat": 4,
 "nbformat_minor": 2
}
