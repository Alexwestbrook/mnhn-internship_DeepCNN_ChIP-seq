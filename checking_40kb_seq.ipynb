{
 "cells": [
  {
   "cell_type": "code",
   "execution_count": 1,
   "metadata": {},
   "outputs": [],
   "source": [
    "import re\n",
    "from pathlib import Path\n",
    "\n",
    "import numpy as np\n",
    "from Bio import SeqIO, Seq\n",
    "from matplotlib import pyplot as plt"
   ]
  },
  {
   "cell_type": "code",
   "execution_count": 2,
   "metadata": {},
   "outputs": [],
   "source": [
    "myseqfile = \"/home/alex/shared_folder/SCerevisiae/results/generated/4kb_lowpol_10seq_randomflanks_v8/concat40kb_lowpol_norna.fa\"\n",
    "manonseqfile = \"/home/alex/shared_folder/SCerevisiae/data/SynC 1.fa\""
   ]
  },
  {
   "cell_type": "code",
   "execution_count": 3,
   "metadata": {},
   "outputs": [],
   "source": [
    "myseq = list({seq.id: str(seq.seq) for seq in SeqIO.parse(myseqfile, format=\"fasta\")}.values())[0]\n",
    "manonseq = list({seq.id: str(seq.seq) for seq in SeqIO.parse(manonseqfile, format=\"fasta\")}.values())[0]"
   ]
  },
  {
   "cell_type": "code",
   "execution_count": 4,
   "metadata": {},
   "outputs": [
    {
     "name": "stdout",
     "output_type": "stream",
     "text": [
      "518 G T\n",
      "522 C G\n",
      "1713 A G\n",
      "1714 G A\n",
      "1716 C G\n",
      "5626 A G\n",
      "5627 G A\n",
      "5629 C G\n",
      "7178 G T\n",
      "7182 C G\n",
      "8937 A G\n",
      "8938 G A\n",
      "8940 C G\n",
      "13445 G T\n",
      "13449 C G\n",
      "14605 G T\n",
      "14609 C G\n",
      "17217 A G\n",
      "17218 G A\n",
      "17220 C G\n",
      "18864 C G\n",
      "18865 G T\n",
      "18869 C G\n",
      "20236 G T\n",
      "20240 C G\n",
      "30691 G T\n",
      "30695 C G\n",
      "32090 G T\n",
      "32094 C G\n",
      "33105 G T\n",
      "33109 C G\n",
      "33856 C G\n",
      "33857 G T\n",
      "33861 C G\n",
      "34133 A G\n",
      "34134 G A\n",
      "34137 G C\n",
      "34564 G T\n",
      "34568 C G\n",
      "34918 A G\n",
      "34919 G A\n",
      "34922 G C\n",
      "36407 A G\n",
      "36408 G A\n",
      "36410 C G\n",
      "38773 A G\n",
      "38774 G A\n",
      "38776 C G\n",
      "48\n"
     ]
    }
   ],
   "source": [
    "mutpos = []\n",
    "cpt = 0\n",
    "for i in range(len(myseq)):\n",
    "    if myseq[i] != manonseq[i]:\n",
    "        print(i, myseq[i], manonseq[i])\n",
    "        mutpos.append(i)\n",
    "        cpt += 1\n",
    "print(cpt)"
   ]
  },
  {
   "cell_type": "code",
   "execution_count": 5,
   "metadata": {},
   "outputs": [
    {
     "data": {
      "text/plain": [
       "'GAGACC'"
      ]
     },
     "execution_count": 5,
     "metadata": {},
     "output_type": "execute_result"
    }
   ],
   "source": [
    "from Modules import utils\n",
    "utils.RCdna(\"GGTCTC\")"
   ]
  },
  {
   "cell_type": "code",
   "execution_count": 6,
   "metadata": {},
   "outputs": [],
   "source": [
    "def find_subseq(subseq, seq):\n",
    "    subseq_rev = utils.RCdna(subseq)\n",
    "    pattern = f\"(?P<fwd>{subseq[0]}(?={subseq[1:]}))|(?P<rev>{subseq_rev[0]}(?={subseq_rev[1:]}))\"\n",
    "    sites = [(m.start(), \"fwd\" if m.groups()[0] is not None else \"rev\") for m in re.finditer(pattern, seq)]\n",
    "    return sites"
   ]
  },
  {
   "cell_type": "code",
   "execution_count": 7,
   "metadata": {},
   "outputs": [
    {
     "name": "stdout",
     "output_type": "stream",
     "text": [
      "GGTCTC\n",
      "myseq [(517, 'fwd'), (1712, 'rev'), (5625, 'rev'), (7177, 'fwd'), (8936, 'rev'), (13444, 'fwd'), (14604, 'fwd'), (17216, 'rev'), (20235, 'fwd'), (30690, 'fwd'), (32089, 'fwd'), (33104, 'fwd'), (34563, 'fwd'), (36406, 'rev'), (38772, 'rev')]\n",
      "manonseq []\n",
      "CGTCTC\n",
      "myseq [(18864, 'fwd'), (33856, 'fwd'), (34132, 'rev'), (34917, 'rev')]\n",
      "manonseq []\n",
      "GCGGCCGC\n",
      "myseq []\n",
      "manonseq []\n"
     ]
    }
   ],
   "source": [
    "for subseq in [\"GGTCTC\", \"CGTCTC\", \"GCGGCCGC\"]:\n",
    "    print(subseq)\n",
    "    sites = find_subseq(subseq, myseq)\n",
    "    print(\"myseq\", sites)\n",
    "    sites = find_subseq(subseq, manonseq)\n",
    "    print(\"manonseq\", sites)"
   ]
  },
  {
   "cell_type": "code",
   "execution_count": 8,
   "metadata": {},
   "outputs": [
    {
     "data": {
      "text/plain": [
       "array([  517,  1712,  5625,  7177,  8936, 13444, 14604, 17216, 18864,\n",
       "       20235, 30690, 32089, 33104, 33856, 34132, 34563, 34917, 36406,\n",
       "       38772])"
      ]
     },
     "execution_count": 8,
     "metadata": {},
     "output_type": "execute_result"
    }
   ],
   "source": [
    "bsa = find_subseq(\"GGTCTC\", myseq)\n",
    "bsmb = find_subseq(\"CGTCTC\", myseq)\n",
    "merge = np.array(bsa + bsmb)[:, 0].astype(int)\n",
    "merge = np.sort(merge)\n",
    "merge"
   ]
  },
  {
   "cell_type": "code",
   "execution_count": 9,
   "metadata": {},
   "outputs": [
    {
     "data": {
      "text/plain": [
       "array([  518,   522,  1713,  1714,  1716,  5626,  5627,  5629,  7178,\n",
       "        7182,  8937,  8938,  8940, 13445, 13449, 14605, 14609, 17217,\n",
       "       17218, 17220, 18864, 18865, 18869, 20236, 20240, 30691, 30695,\n",
       "       32090, 32094, 33105, 33109, 33856, 33857, 33861, 34133, 34134,\n",
       "       34137, 34564, 34568, 34918, 34919, 34922, 36407, 36408, 36410,\n",
       "       38773, 38774, 38776])"
      ]
     },
     "execution_count": 9,
     "metadata": {},
     "output_type": "execute_result"
    }
   ],
   "source": [
    "mutpos = np.array(mutpos)\n",
    "mutpos"
   ]
  },
  {
   "cell_type": "code",
   "execution_count": 11,
   "metadata": {},
   "outputs": [
    {
     "name": "stdout",
     "output_type": "stream",
     "text": [
      "517 [1, 5] bsa-fwd GGTCTC\n",
      "1712 [1, 2, 4] bsa-rev GAGACC\n",
      "5625 [1, 2, 4] bsa-rev GAGACC\n",
      "7177 [1, 5] bsa-fwd GGTCTC\n",
      "8936 [1, 2, 4] bsa-rev GAGACC\n",
      "13444 [1, 5] bsa-fwd GGTCTC\n",
      "14604 [1, 5] bsa-fwd GGTCTC\n",
      "17216 [1, 2, 4] bsa-rev GAGACC\n",
      "18864 [0, 1, 5] bsmb-fwd CGTCTC\n",
      "20235 [1, 5] bsa-fwd GGTCTC\n",
      "30690 [1, 5] bsa-fwd GGTCTC\n",
      "32089 [1, 5] bsa-fwd GGTCTC\n",
      "33104 [1, 5] bsa-fwd GGTCTC\n",
      "33856 [0, 1, 5] bsmb-fwd CGTCTC\n",
      "34132 [1, 2, 5] bsmb-rev GAGACG\n",
      "34563 [1, 5] bsa-fwd GGTCTC\n",
      "34917 [1, 2, 5] bsmb-rev GAGACG\n",
      "36406 [1, 2, 4] bsa-rev GAGACC\n",
      "38772 [1, 2, 4] bsa-rev GAGACC\n"
     ]
    }
   ],
   "source": [
    "site_to_pos = {site: [] for site in merge}\n",
    "for pos in mutpos:\n",
    "    site_idx = np.searchsorted(merge, pos, side='right') - 1\n",
    "    site = merge[site_idx]\n",
    "    site_to_pos[site].append(pos - site)\n",
    "all_sites = {\n",
    "    **{site: f\"bsa-{sense}\" for site, sense in bsa},\n",
    "    **{site: f\"bsmb-{sense}\" for site, sense in bsmb}\n",
    "}\n",
    "for site, relpos in site_to_pos.items():\n",
    "    print(site, relpos, all_sites[site], myseq[site:site+6])"
   ]
  },
  {
   "cell_type": "code",
   "execution_count": 191,
   "metadata": {},
   "outputs": [
    {
     "data": {
      "text/plain": [
       "[(18864, 'fwd'), (33856, 'fwd'), (34132, 'rev'), (34917, 'rev')]"
      ]
     },
     "execution_count": 191,
     "metadata": {},
     "output_type": "execute_result"
    }
   ],
   "source": [
    "sites = find_subseq(\"CGTCTC\", myseq)\n",
    "sites"
   ]
  },
  {
   "cell_type": "code",
   "execution_count": 192,
   "metadata": {},
   "outputs": [
    {
     "name": "stdout",
     "output_type": "stream",
     "text": [
      "CGTCTC GTTCTG\n",
      "CGTCTC GTTCTG\n",
      "GAGACG GGAACC\n",
      "GAGACG GGAACC\n"
     ]
    }
   ],
   "source": [
    "for pos, sense in sites:\n",
    "    print(myseq[pos:pos+6], manonseq[pos:pos+6])"
   ]
  }
 ],
 "metadata": {
  "kernelspec": {
   "display_name": "tf2.5",
   "language": "python",
   "name": "python3"
  },
  "language_info": {
   "codemirror_mode": {
    "name": "ipython",
    "version": 3
   },
   "file_extension": ".py",
   "mimetype": "text/x-python",
   "name": "python",
   "nbconvert_exporter": "python",
   "pygments_lexer": "ipython3",
   "version": "3.8.0"
  }
 },
 "nbformat": 4,
 "nbformat_minor": 2
}
