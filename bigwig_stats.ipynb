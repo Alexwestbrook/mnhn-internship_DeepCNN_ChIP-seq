{
 "cells": [
  {
   "cell_type": "code",
   "execution_count": 1,
   "metadata": {},
   "outputs": [],
   "source": [
    "import importlib\n",
    "\n",
    "import numpy as np\n",
    "import pandas as pd\n",
    "\n",
    "import matplotlib as mpl\n",
    "from matplotlib import pyplot as plt\n",
    "import seaborn as sns\n",
    "\n",
    "import scipy\n",
    "from scipy.stats import pearsonr, spearmanr\n",
    "\n",
    "import pyBigWig\n",
    "import pysam\n",
    "\n",
    "from Modules import utils, plot_utils"
   ]
  },
  {
   "cell_type": "markdown",
   "metadata": {},
   "source": [
    "Useful global variables"
   ]
  },
  {
   "cell_type": "code",
   "execution_count": 2,
   "metadata": {},
   "outputs": [],
   "source": [
    "importlib.reload(utils)\n",
    "importlib.reload(plot_utils)\n",
    "prop_cycle = plt.rcParams[\"axes.prop_cycle\"]\n",
    "colors = prop_cycle.by_key()[\"color\"]\n",
    "# plt.rcParams.update({'axes.labelsize': 16})\n",
    "with open(\"/home/alex/shared_folder/Human/T2T-CHM13v2.0_NCBI2UCSC.txt\") as f:\n",
    "    T2T_to_ucsc = dict(line.split() for line in f.readlines())"
   ]
  },
  {
   "cell_type": "markdown",
   "metadata": {},
   "source": [
    "Compute quantiles ans sums"
   ]
  },
  {
   "cell_type": "code",
   "execution_count": 3,
   "metadata": {},
   "outputs": [],
   "source": [
    "bwfiles = {\n",
    "    \"Ctrl\": \"/home/alex/shared_folder/Judith-H3K9me3/results/alignments/T2T-CHM13v2.0/D1145C44_trimmed_run2_paired_T2T.bw\",\n",
    "    \"IP1\": \"/home/alex/shared_folder/Judith-H3K9me3/results/alignments/T2T-CHM13v2.0/D1145C43_trimmed_run2_paired_T2T.bw\",\n",
    "    \"IP2\": \"/home/alex/shared_folder/Judith-H3K9me3/results/alignments/T2T-CHM13v2.0/HN00205099_RawFASTQ_RPE1_WTH3K9me3_run2_paired_T2T.bw\",\n",
    "}"
   ]
  },
  {
   "cell_type": "code",
   "execution_count": 4,
   "metadata": {},
   "outputs": [],
   "source": [
    "# Compute quantiles\n",
    "q_list = [0.9, 0.95, 0.99, 0.999]\n",
    "quantiles = {}\n",
    "for file_id, bwfile in bwfiles.items():\n",
    "    signals = utils.load_bw(bwfile)\n",
    "    full = np.concatenate(list(signals.values()))\n",
    "    quantiles[bwfile] = np.quantile(full, q_list)\n",
    "quantiles = pd.DataFrame(quantiles, index=[f\"quantile_{q}\" for q in q_list]).T\n",
    "filename = utils.safe_filename(\n",
    "    \"/home/alex/shared_folder/Judith-H3K9me3/results/alignments/T2T-CHM13v2.0/quantiles_run2.csv\"\n",
    ")\n",
    "quantiles.to_csv(filename)\n",
    "quantiles"
   ]
  },
  {
   "cell_type": "code",
   "execution_count": 6,
   "metadata": {},
   "outputs": [
    {
     "data": {
      "text/html": [
       "<div>\n",
       "<style scoped>\n",
       "    .dataframe tbody tr th:only-of-type {\n",
       "        vertical-align: middle;\n",
       "    }\n",
       "\n",
       "    .dataframe tbody tr th {\n",
       "        vertical-align: top;\n",
       "    }\n",
       "\n",
       "    .dataframe thead th {\n",
       "        text-align: right;\n",
       "    }\n",
       "</style>\n",
       "<table border=\"1\" class=\"dataframe\">\n",
       "  <thead>\n",
       "    <tr style=\"text-align: right;\">\n",
       "      <th></th>\n",
       "      <th>Total_counts</th>\n",
       "      <th>Clip_q0.99_total_counts</th>\n",
       "    </tr>\n",
       "  </thead>\n",
       "  <tbody>\n",
       "    <tr>\n",
       "      <th>/home/alex/shared_folder/Judith-H3K9me3/results/alignments/T2T-CHM13v2.0/D1145C44_trimmed_run2_paired_T2T.bw</th>\n",
       "      <td>20967397902</td>\n",
       "      <td>20801592514</td>\n",
       "    </tr>\n",
       "    <tr>\n",
       "      <th>/home/alex/shared_folder/Judith-H3K9me3/results/alignments/T2T-CHM13v2.0/D1145C43_trimmed_run2_paired_T2T.bw</th>\n",
       "      <td>26920413596</td>\n",
       "      <td>26608732992</td>\n",
       "    </tr>\n",
       "    <tr>\n",
       "      <th>/home/alex/shared_folder/Judith-H3K9me3/results/alignments/T2T-CHM13v2.0/HN00205099_RawFASTQ_RPE1_WTH3K9me3_run2_paired_T2T.bw</th>\n",
       "      <td>249342779072</td>\n",
       "      <td>246931352992</td>\n",
       "    </tr>\n",
       "  </tbody>\n",
       "</table>\n",
       "</div>"
      ],
      "text/plain": [
       "                                                    Total_counts  \\\n",
       "/home/alex/shared_folder/Judith-H3K9me3/results...   20967397902   \n",
       "/home/alex/shared_folder/Judith-H3K9me3/results...   26920413596   \n",
       "/home/alex/shared_folder/Judith-H3K9me3/results...  249342779072   \n",
       "\n",
       "                                                    Clip_q0.99_total_counts  \n",
       "/home/alex/shared_folder/Judith-H3K9me3/results...              20801592514  \n",
       "/home/alex/shared_folder/Judith-H3K9me3/results...              26608732992  \n",
       "/home/alex/shared_folder/Judith-H3K9me3/results...             246931352992  "
      ]
     },
     "execution_count": 6,
     "metadata": {},
     "output_type": "execute_result"
    }
   ],
   "source": [
    "# Compute sum, and thresholded to 99e centile sum\n",
    "sums = {}\n",
    "clipped_sums = {}\n",
    "for file_id, bwfile in bwfiles.items():\n",
    "    filesum = 0\n",
    "    clipped_filesum = 0\n",
    "    with pyBigWig.open(bwfile) as bw:\n",
    "        for chr_id in bw.chroms():\n",
    "            values = bw.values(chr_id, 0, -1, numpy=True)\n",
    "            filesum += np.sum(values)\n",
    "            np.clip(\n",
    "                values,\n",
    "                a_min=None,\n",
    "                a_max=quantiles.loc[bwfile, \"quantile_0.99\"],\n",
    "                out=values,\n",
    "            )\n",
    "            clipped_filesum += np.sum(values)\n",
    "    sums[bwfile] = filesum\n",
    "    clipped_sums[bwfile] = clipped_filesum\n",
    "df = pd.DataFrame(sums, index=[\"Total_counts\"], columns=sums.keys()).T\n",
    "df[\"Clip_q0.99_total_counts\"] = clipped_sums.values()\n",
    "df = df.astype(int)\n",
    "filename = utils.safe_filename(\n",
    "    \"/home/alex/shared_folder/Judith-H3K9me3/results/alignments/T2T-CHM13v2.0/sums_run2.csv\"\n",
    ")\n",
    "df.to_csv(filename)\n",
    "df"
   ]
  }
 ],
 "metadata": {
  "kernelspec": {
   "display_name": "tf2.5",
   "language": "python",
   "name": "python3"
  },
  "language_info": {
   "codemirror_mode": {
    "name": "ipython",
    "version": 3
   },
   "file_extension": ".py",
   "mimetype": "text/x-python",
   "name": "python",
   "nbconvert_exporter": "python",
   "pygments_lexer": "ipython3",
   "version": "3.8.0"
  }
 },
 "nbformat": 4,
 "nbformat_minor": 2
}
