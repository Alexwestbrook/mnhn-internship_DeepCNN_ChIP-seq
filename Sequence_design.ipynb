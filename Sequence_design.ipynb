{
 "cells": [
  {
   "cell_type": "code",
   "execution_count": null,
   "metadata": {},
   "outputs": [],
   "source": [
    "import importlib\n",
    "\n",
    "import numpy as np\n",
    "import pandas as pd\n",
    "\n",
    "from matplotlib import pyplot as plt\n",
    "import seaborn as sns\n",
    "\n",
    "import tensorflow as tf\n",
    "from Modules import utils, tf_utils\n",
    "from Modules.tf_utils import mae_cor, correlate"
   ]
  },
  {
   "cell_type": "code",
   "execution_count": null,
   "metadata": {},
   "outputs": [],
   "source": [
    "importlib.reload(utils)\n",
    "importlib.reload(tf_utils)\n",
    "prop_cycle = plt.rcParams['axes.prop_cycle']\n",
    "colors = prop_cycle.by_key()['color']"
   ]
  },
  {
   "cell_type": "markdown",
   "metadata": {},
   "source": [
    "Models"
   ]
  },
  {
   "cell_type": "code",
   "execution_count": null,
   "metadata": {},
   "outputs": [],
   "source": [
    "model_pol_name = 'model_myco_pol_17'\n",
    "# with tf.distribute.MirroredStrategy().scope():\n",
    "model_pol = tf.keras.models.load_model(f'/home/alex/shared_folder/SCerevisiae/Trainedmodels/{model_pol_name}/model',\n",
    "                                       custom_objects={'correlate': correlate, 'mae_cor': mae_cor})\n",
    "model_nuc_name = 'model_myco_nuc_2'\n",
    "model_nuc = tf.keras.models.load_model(f'/home/alex/shared_folder/SCerevisiae/Trainedmodels/{model_nuc_name}/model',\n",
    "                                       custom_objects={'correlate': correlate, 'mae_cor': mae_cor})\n",
    "model_coh_name = 'model_myco_coh_14'\n",
    "model_coh = tf.keras.models.load_model(f'/home/alex/shared_folder/SCerevisiae/Trainedmodels/{model_coh_name}/model',\n",
    "                                       custom_objects={'correlate': correlate, 'mae_cor': mae_cor})\n",
    "model_rna_name = 'weight_CNN_RNA_seq_2001_12_8_4_SRR7131299' # order 'ATGC'\n",
    "model_rna = tf.keras.models.load_model(f'/home/alex/shared_folder/JB_seqdes/{model_rna_name}.hdf5',\n",
    "                                       custom_objects={'correlate': correlate, 'mae_cor': mae_cor})\n",
    "model_rna.input_shape"
   ]
  },
  {
   "cell_type": "code",
   "execution_count": null,
   "metadata": {},
   "outputs": [],
   "source": [
    "with np.load('/home/alex/shared_folder/SCerevisiae/genome/W303_Mmmyco.npz') as f:\n",
    "    one_hot_yeast = {k: f[k] for k in f.keys() if k[:3] == 'chr'}\n",
    "print(list(one_hot_yeast.keys()))"
   ]
  },
  {
   "cell_type": "markdown",
   "metadata": {},
   "source": [
    "# kinetic Monte-Carlo"
   ]
  },
  {
   "cell_type": "markdown",
   "metadata": {},
   "source": [
    "Flanking regions file"
   ]
  },
  {
   "cell_type": "code",
   "execution_count": null,
   "metadata": {},
   "outputs": [],
   "source": [
    "# flanks = {'left': [], 'right': [], 'pos': []}\n",
    "# for k, v in one_hot_yeast.items():\n",
    "#     pos = np.random.randint(1000, len(v)-1000)\n",
    "#     window = v[pos - 1000:pos+1000]\n",
    "#     assert len(window) == 2000\n",
    "#     assert window.sum() == 2000\n",
    "#     window = np.argmax(window, axis=-1)\n",
    "#     flanks['left'].append(window[:1000])\n",
    "#     flanks['right'].append(window[1000:])\n",
    "#     flanks['pos'].append(pos)\n",
    "# for k, v in flanks.items():\n",
    "#     flanks[k] = np.array(v)\n",
    "# np.savez('/home/alex/shared_folder/SCerevisiae/genome/W303_Mmmyco_random1kbflanks_ACGTidx.npz', **flanks)"
   ]
  },
  {
   "cell_type": "markdown",
   "metadata": {},
   "source": [
    "Analysing experiments"
   ]
  },
  {
   "cell_type": "code",
   "execution_count": null,
   "metadata": {},
   "outputs": [],
   "source": [
    "from kMC_sequence_design import rmse, GC_energy\n",
    "\n",
    "def energy_parser_v2(file):\n",
    "    energies = np.loadtxt(file)\n",
    "    with open(file, 'r') as f:\n",
    "        n_seqs = 0\n",
    "        for line in f:\n",
    "            if n_seqs != 0 and line.startswith('#'):\n",
    "                break\n",
    "            if not line.startswith('#'):\n",
    "                n_seqs += 1\n",
    "    return np.transpose(energies.reshape(-1, n_seqs, energies.shape[1]), [1, 0, 2])"
   ]
  },
  {
   "cell_type": "markdown",
   "metadata": {},
   "source": [
    "Energy"
   ]
  },
  {
   "cell_type": "code",
   "execution_count": null,
   "metadata": {},
   "outputs": [],
   "source": [
    "fig, ax = plt.subplots(1, 1, figsize=(20, 5), facecolor='w', layout='tight')#, sharey=True)\n",
    "temps = ['2e-4', '1e-4', '5e-5']\n",
    "exp_ids = [f'lowpol_4kb_temp{t}' for t in temps]# + [f'highpol_4kb_temp{t}_mid' for t in temps] # [f'test{n}' for n in range(90, 91)]\n",
    "exp_labels = exp_ids # [f'4kb_temp{t}_mid' for t in temps]\n",
    "for exp_id, exp_lab, color in zip(exp_ids, exp_labels, colors):\n",
    "    # if exp_id.startswith('highpol') and exp_id[-8:-4] in ['1e-4', '5e-5']:\n",
    "    #     continue\n",
    "    energies = energy_parser_v2(f'/home/alex/shared_folder/SCerevisiae/generated/{exp_id}/energy.txt')\n",
    "    print(energies.shape)\n",
    "    ax.plot(energies[:2, :, 0].T, label=exp_lab, color=color)\n",
    "ax.legend()\n",
    "# ax.set_ylim((-0.001, 2))"
   ]
  },
  {
   "cell_type": "code",
   "execution_count": null,
   "metadata": {},
   "outputs": [],
   "source": [
    "fig, ax = plt.subplots(1, 1, figsize=(20, 5), facecolor='w', layout='tight')#, sharey=True)\n",
    "exp_ids = [f'test{n}' for n in range(49, 57)]\n",
    "wmuts = [0.01, 0.005, 0.002, 0.001, 0.0005, 0.0001, 0.00005, 0.00001]\n",
    "exp_labels = [f'5kb_full_temp5e-4_wmut{w}' for w in wmuts]\n",
    "for exp_id, exp_lab, color in zip(exp_ids, exp_labels, colors):\n",
    "    energies = energy_parser_v2(f'/home/alex/shared_folder/SCerevisiae/generated/{exp_id}/energy.txt')\n",
    "    print(energies.shape)\n",
    "    ax.plot(energies[:1, :, 0].T, label=exp_lab, color=color)\n",
    "ax.legend()"
   ]
  },
  {
   "cell_type": "markdown",
   "metadata": {},
   "source": [
    "Probabilities"
   ]
  },
  {
   "cell_type": "code",
   "execution_count": null,
   "metadata": {},
   "outputs": [],
   "source": [
    "exp_name = 'lowpol_4kb_temp2e-4'\n",
    "i = 0\n",
    "probs = np.load(f'/home/alex/shared_folder/SCerevisiae/generated/{exp_name}/probs/prob_step{i}.npy')\n",
    "print(probs.shape)\n",
    "probs = np.sort(probs, axis=1)\n",
    "fig, axes = plt.subplots(4, 1, figsize=(20, 10), facecolor='w', layout='tight', sharey=True, sharex=True)\n",
    "fig.suptitle('probability of each mutation during first step with temperature 0.00005')\n",
    "axes[0].hist(probs[0], bins=100, range=(0, 1), label='probabilities on first seq')\n",
    "axes[1].hist(probs.ravel(), bins=100, range=(0, 1), label='probabilities on all seqs')\n",
    "axes[2].hist(probs[:, -1], bins=100, range=(0, 1), label='highest probability on all seqs')\n",
    "axes[3].hist(probs[:, -2], bins=100, range=(0, 1), label='second highest probability on all seqs')\n",
    "for ax in axes:\n",
    "    ax.set_yscale('log')\n",
    "    ax.set_ylim(bottom=5e-1)\n",
    "    ax.legend()\n",
    "plt.show()"
   ]
  },
  {
   "cell_type": "code",
   "execution_count": null,
   "metadata": {},
   "outputs": [],
   "source": [
    "exp_name = 'lowpol_4kb_temp2e-4'\n",
    "probs = []\n",
    "energies = energy_parser_v2(f'/home/alex/shared_folder/SCerevisiae/generated/{exp_name}/energy.txt')\n",
    "for i in range(energies.shape[1]):\n",
    "    probs.append(np.load(f'/home/alex/shared_folder/SCerevisiae/generated/{exp_name}/probs/prob_step{i}.npy'))\n",
    "probs = np.stack(probs, axis=1)\n",
    "print(probs.shape)\n",
    "probs = np.sort(probs, axis=-1)"
   ]
  },
  {
   "cell_type": "code",
   "execution_count": null,
   "metadata": {},
   "outputs": [],
   "source": [
    "start = 0\n",
    "stop = 2\n",
    "fig, axes = plt.subplots(2, 1, figsize=(20, 7), facecolor='w', layout='tight', sharex=True)\n",
    "axes[0].plot(energies[start:stop, :, 0].T, label=[f'seq{i}' for i in range(start, stop)])\n",
    "axes[1].plot(probs[start:stop, :, -1].T, label=[f'seq{i}' for i in range(start, stop)])\n",
    "for ax in axes:\n",
    "    ax.legend()\n",
    "plt.show()"
   ]
  },
  {
   "cell_type": "markdown",
   "metadata": {},
   "source": [
    "Designed sequences"
   ]
  },
  {
   "cell_type": "code",
   "execution_count": null,
   "metadata": {},
   "outputs": [],
   "source": [
    "exp_name = 'lowpol_4kb_temp2e-4'\n",
    "seqs = [np.load(f'/home/alex/shared_folder/SCerevisiae/generated/{exp_name}/designed_seqs/start_seqs.npy')]\n",
    "for i in range(500):\n",
    "    seqs.append(np.load(f'/home/alex/shared_folder/SCerevisiae/generated/{exp_name}/designed_seqs/mut_seqs_step{i}.npy'))\n",
    "seqs = np.stack(seqs, axis=1)\n",
    "print(seqs.shape)"
   ]
  },
  {
   "cell_type": "code",
   "execution_count": null,
   "metadata": {},
   "outputs": [],
   "source": [
    "# start_seqs = np.load(f'/home/alex/shared_folder/SCerevisiae/generated/test9/start_seqs.npy')\n",
    "# np.save('/home/alex/shared_folder/SCerevisiae/generated/test9/start_seqs_first1.npy', start_seqs[:1])"
   ]
  },
  {
   "cell_type": "code",
   "execution_count": null,
   "metadata": {},
   "outputs": [],
   "source": [
    "with np.load('/home/alex/shared_folder/SCerevisiae/genome/W303_Mmmyco_random1kbflanks_ACGTidx.npz') as f:\n",
    "    flank_left = f['left']\n",
    "    flank_right = f['right']"
   ]
  },
  {
   "cell_type": "markdown",
   "metadata": {},
   "source": [
    "Repredicting"
   ]
  },
  {
   "cell_type": "code",
   "execution_count": null,
   "metadata": {},
   "outputs": [],
   "source": [
    "import kMC_sequence_design\n",
    "importlib.reload(tf_utils)\n",
    "importlib.reload(kMC_sequence_design)\n",
    "from kMC_sequence_design import get_profile_hint, get_profile_mid1\n",
    "from Modules.tf_utils import get_profile"
   ]
  },
  {
   "cell_type": "code",
   "execution_count": null,
   "metadata": {},
   "outputs": [],
   "source": [
    "preds = get_profile_hint(seqs, model_pol, 2048, 128, middle=True)\n",
    "preds_rev = get_profile_hint(seqs, model_pol, 2048, 128, reverse=True, middle=True)\n",
    "# preds = get_profile_mid1(seqs, model_rna, 2001, one_hot_converter=lambda x: np_idx_to_one_hot(x, order='ATGC', extradims=-1))\n",
    "# preds_rev = get_profile_mid1(seqs, model_rna, 2001, reverse=True, one_hot_converter=lambda x: np_idx_to_one_hot(x, order='ATGC', extradims=-1))\n",
    "loss = rmse(np.zeros(preds.shape[:-1] + (1,)), preds)\n",
    "loss_rev = rmse(np.zeros(preds.shape[:-1] + (1,)), preds_rev)\n",
    "gc_energy = GC_energy(seqs, 0.3834)"
   ]
  },
  {
   "cell_type": "code",
   "execution_count": null,
   "metadata": {},
   "outputs": [],
   "source": [
    "energies = energy_parser_v2(f'/home/alex/shared_folder/SCerevisiae/generated/{exp_name}/energy.txt')\n",
    "fig, ax = plt.subplots(1, 1, figsize=(20, 5), facecolor='w', layout='tight')\n",
    "ax.plot(energies[:2, :, 0].T, label=[f'seq{i}' for i in range(2)])\n",
    "for idx in range(len(seqs)):\n",
    "    ax.plot(gc_energy[idx, 1:] + loss[idx, 1:] + loss_rev[idx, 1:], label=f'seq{idx}_nostride')\n",
    "ax.legend()"
   ]
  },
  {
   "cell_type": "code",
   "execution_count": null,
   "metadata": {},
   "outputs": [],
   "source": [
    "fig, ax = plt.subplots(1, 1, figsize=(20, 5), facecolor='w')\n",
    "for i, color in zip(range(0, 501, 100), colors):\n",
    "    ax.plot(preds[0, i, :], label=f'step{i}', color=color)\n",
    "    ax.plot(preds_rev[0, i, :], color=color)\n",
    "ax.legend()"
   ]
  },
  {
   "cell_type": "markdown",
   "metadata": {},
   "source": [
    "Testing predict functions"
   ]
  },
  {
   "cell_type": "code",
   "execution_count": null,
   "metadata": {},
   "outputs": [],
   "source": [
    "n = 100\n",
    "l = 2175\n",
    "freq_kmers = pd.read_csv('/home/alex/shared_folder/SCerevisiae/genome/W303/W303_3mer_freq.csv', index_col=[0, 1, 2])\n",
    "np.random.seed(0)\n",
    "seqs = utils.random_sequences(n, l, freq_kmers.iloc[:, 0], out='idx')"
   ]
  },
  {
   "cell_type": "code",
   "execution_count": null,
   "metadata": {},
   "outputs": [],
   "source": [
    "to_predict = seqs[:, ::100]\n",
    "print(to_predict.shape)\n",
    "preds = get_profile_hint(to_predict, model_pol, 2048, 128, middle=True, flanks=None)\n",
    "preds_rev = get_profile_hint(to_predict, model_pol, 2048, 128, middle=True, flanks=None, reverse=True)\n",
    "preds_flanks = []\n",
    "preds_flanks_rev = []\n",
    "for i in range(len(flank_left)):\n",
    "    flanks=(flank_left[i], flank_right[i])\n",
    "    preds_flanks.append(get_profile_hint(to_predict, model_pol, 2048, 128, middle=True, flanks=flanks))\n",
    "    preds_flanks_rev.append(get_profile_hint(to_predict, model_pol, 2048, 128, middle=True, flanks=flanks, reverse=True))\n",
    "print(preds.shape, preds_rev.shape)\n",
    "print(preds_flanks[0].shape, preds_flanks_rev[0].shape)"
   ]
  },
  {
   "cell_type": "code",
   "execution_count": null,
   "metadata": {},
   "outputs": [],
   "source": [
    "fig, axes = plt.subplots(4, 4, figsize=(20, 12), facecolor='w', layout='tight', sharex=True, sharey=True)\n",
    "seq_idx = 0\n",
    "for i in range(0, 6, 5):\n",
    "    step = i*100\n",
    "    color = colors[i]\n",
    "    for ax, pfor, prev in zip(axes.flatten(), preds_flanks, preds_flanks_rev):\n",
    "        ax.plot(pfor[seq_idx, i, :], color=color, label=f'step{step}')\n",
    "        ax.plot(-prev[seq_idx, i, :], color=color)\n",
    "axes[0, 0].legend()"
   ]
  },
  {
   "cell_type": "code",
   "execution_count": null,
   "metadata": {},
   "outputs": [],
   "source": [
    "to_predict = seqs[:, ::100]\n",
    "print(to_predict.shape)\n",
    "preds_pol = get_profile_hint(to_predict, model_pol, 2048, 128)#, middle=False)\n",
    "preds_pol_rev = get_profile_hint(to_predict, model_pol, 2048, 128, reverse=True)#, middle=False)\n",
    "preds_nuc = get_profile(to_predict, model_nuc, 2001)\n",
    "preds_nuc_rev = get_profile(to_predict, model_nuc, 2001, reverse=True)\n",
    "preds_rna = get_profile(to_predict, model_rna, 2001, one_hot_converter=lambda x: utils.np_idx_to_one_hot(x, order='ATGC', extradims=-1))\n",
    "preds_rna_rev = get_profile(to_predict, model_rna, 2001, reverse=True, one_hot_converter=lambda x: utils.np_idx_to_one_hot(x, order='ATGC', extradims=-1))"
   ]
  },
  {
   "cell_type": "code",
   "execution_count": null,
   "metadata": {},
   "outputs": [],
   "source": [
    "length = to_predict.shape[-1]\n",
    "seq_idx = 0\n",
    "fig, axes = plt.subplots(3, 1, figsize=(20, 9), facecolor='w', layout='tight', sharex=True)\n",
    "for i in range(0, 6, 5):\n",
    "    step = i*100\n",
    "    color = colors[i]\n",
    "    axes[0].plot(np.arange(128*4, 128*4+preds_pol.shape[-1]), preds_pol[seq_idx, i, :], color=color, label=f'step{step}')\n",
    "    axes[0].plot(np.arange(length-128*4-preds_pol.shape[-1], length-128*4), -preds_pol_rev[seq_idx, i, :], color=color)\n",
    "    axes[1].plot(np.arange(1000, length - 1000), preds_nuc[seq_idx, i, :], color=color, label=f'step{step}')\n",
    "    axes[1].plot(np.arange(1000, length - 1000), -preds_nuc_rev[seq_idx, i, :], color=color)\n",
    "    axes[2].plot(np.arange(1000, length - 1000), preds_rna[seq_idx, i, :], color=color, label=f'step{step}')\n",
    "    axes[2].plot(np.arange(1000, length - 1000), -preds_rna_rev[seq_idx, i, :], color=color)\n",
    "for ax in axes:\n",
    "    ax.legend()"
   ]
  },
  {
   "cell_type": "markdown",
   "metadata": {},
   "source": [
    "# Saliency"
   ]
  },
  {
   "cell_type": "code",
   "execution_count": null,
   "metadata": {},
   "outputs": [],
   "source": [
    "def get_gradients(model, one_hots, batch_size=1024, predict=False, head_start=0, n_heads=1):\n",
    "    grads = np.empty(one_hots.shape, dtype='float32')\n",
    "    n_batches = int(np.ceil((len(one_hots) / batch_size)))\n",
    "    preds = None\n",
    "    for i in range(n_batches):\n",
    "        batch_start, batch_stop = i*batch_size, (i+1)*batch_size\n",
    "        X = tf.Variable(one_hots[batch_start:batch_stop], dtype=tf.float32)\n",
    "        with tf.GradientTape() as tape:\n",
    "            Y = model(X, training=False)[:, head_start:head_start+n_heads]\n",
    "        grads[batch_start:batch_stop] = np.array(tape.gradient(Y, X))\n",
    "        if predict:\n",
    "            Y = np.array(Y).squeeze()\n",
    "            if i == 0:\n",
    "                preds = np.empty((len(one_hots),) + Y.shape[1:],\n",
    "                                 dtype='float32')\n",
    "            preds[batch_start:batch_stop] = Y\n",
    "    if predict:\n",
    "        return grads.squeeze(), preds\n",
    "    else:\n",
    "        return grads.squeeze()"
   ]
  },
  {
   "cell_type": "code",
   "execution_count": null,
   "metadata": {},
   "outputs": [],
   "source": [
    "with np.load('/home/alex/shared_folder/SCerevisiae/results/model_myco_pol_17/preds_mid_on_W303_Mmmyco.npz') as f:\n",
    "    preds_pol = {k: f[k] for k in f.keys() if k[:3] == 'chr'}"
   ]
  },
  {
   "cell_type": "code",
   "execution_count": null,
   "metadata": {},
   "outputs": [],
   "source": [
    "chr_id = 'chrIV'\n",
    "start = 38912\n",
    "stop = 40960\n",
    "midlen = 128*8\n",
    "fig, ax = plt.subplots(1, 1, figsize=(20, 5), facecolor='w', layout='tight')\n",
    "ax.plot(np.arange(start, stop), preds_pol[chr_id][start:stop], label='ref_preds')\n",
    "ax.plot(np.arange(start + midlen//2, stop - midlen//2), preds_t, label='grad_pred')\n",
    "sep = start + midlen - (start - midlen//2) % midlen\n",
    "while sep < stop:\n",
    "    ax.axvline(sep, color='k', linestyle='--')\n",
    "    sep += midlen\n",
    "ax.legend()"
   ]
  },
  {
   "cell_type": "code",
   "execution_count": null,
   "metadata": {},
   "outputs": [],
   "source": [
    "winsize = 2048\n",
    "head_interval = 128\n",
    "one_hots = utils.strided_sliding_window_view(\n",
    "    one_hot_yeast[chr_id][start:stop+head_interval-1],\n",
    "    (winsize, 4),\n",
    "    winsize//2,\n",
    "    head_interval).reshape(-1, winsize, 4)\n",
    "one_hots.shape"
   ]
  },
  {
   "cell_type": "code",
   "execution_count": null,
   "metadata": {},
   "outputs": [],
   "source": [
    "grads, preds = get_gradients(model_pol, one_hots, predict=True, head_start=4, n_heads=8)\n",
    "preds_t = preds.T.ravel()\n",
    "print(preds.shape)"
   ]
  },
  {
   "cell_type": "code",
   "execution_count": null,
   "metadata": {},
   "outputs": [],
   "source": [
    "print(grads.shape)\n",
    "grads_proj = grads - grads.mean(axis=-1, keepdims=True)\n",
    "print(grads_proj.shape)\n",
    "grads_seq = grads[one_hots].reshape(grads.shape[:-1])\n",
    "print(grads_seq.shape)\n",
    "grads_proj_seq = grads_proj[one_hots].reshape(grads.shape[:-1])\n",
    "print(grads_proj_seq.shape)"
   ]
  },
  {
   "cell_type": "code",
   "execution_count": null,
   "metadata": {},
   "outputs": [],
   "source": [
    "fig, axes = plt.subplots(2, 1, figsize=(20, 8), facecolor='w', layout='tight')\n",
    "# sns.heatmap(grads_proj[0].T, ax=ax, cmap='seismic', center=0)\n",
    "vmin = -2\n",
    "sns.heatmap(grads.sum(axis=0).T, cmap='seismic', center=0, vmin=vmin, ax=axes[0],# cbar_ax=axes[0, 1],\n",
    "            yticklabels=list('ACGT'))\n",
    "sns.heatmap(grads_proj.sum(axis=0).T, cmap='seismic', center=0, vmin=vmin, ax=axes[1],# cbar_ax=axes[0, 1],\n",
    "            yticklabels=list('ACGT'))"
   ]
  }
 ],
 "metadata": {
  "kernelspec": {
   "display_name": "tf2.5",
   "language": "python",
   "name": "python3"
  },
  "language_info": {
   "name": "python",
   "version": "3.8.0"
  }
 },
 "nbformat": 4,
 "nbformat_minor": 2
}
