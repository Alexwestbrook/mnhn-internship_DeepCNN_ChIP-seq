{
 "cells": [
  {
   "cell_type": "code",
   "execution_count": 2,
   "metadata": {},
   "outputs": [],
   "source": [
    "import numpy as np"
   ]
  },
  {
   "cell_type": "code",
   "execution_count": null,
   "metadata": {},
   "outputs": [],
   "source": [
    "# df = pd.DataFrame(\n",
    "#     np.stack(\n",
    "#         [arr[1, 12:] for arr in [merge_pol, merge_nuc, preds_rna, preds_rna_rev]],\n",
    "#         axis=1,\n",
    "#     )\n",
    "#     .reshape(-1, 4000)\n",
    "#     .T,\n",
    "#     columns=[\n",
    "#         f\"seq{i}_{annot}\"\n",
    "#         for i in range(12)\n",
    "#         for annot in [\"pol\", \"nuc\", \"rna_for\", \"rna_rev\"]\n",
    "#     ],\n",
    "# )\n",
    "# df.to_csv(\n",
    "#     \"/home/alex/shared_folder/SCerevisiae/generated/Tosend20240306/predictions_12synseq_nopol.csv\"\n",
    "# )"
   ]
  },
  {
   "cell_type": "code",
   "execution_count": 6,
   "metadata": {},
   "outputs": [],
   "source": [
    "exp_name = \"4kb_lowpol_10seq_flanksInt2_v2\"\n",
    "optimized_seqs = np.load(\n",
    "    f\"/home/alex/shared_folder/SCerevisiae/generated/{exp_name}/designed_seqs/mut_seqs_step499.npy\"\n",
    ")\n",
    "to_predict = optimized_seqs.ravel()\n",
    "np.save(\n",
    "    f\"/home/alex/shared_folder/SCerevisiae/generated/{exp_name}/designed_seqs/concat_first5.npy\",\n",
    "    to_predict[:20000].reshape(1, -1),\n",
    ")\n",
    "np.save(\n",
    "    f\"/home/alex/shared_folder/SCerevisiae/generated/{exp_name}/designed_seqs/concat_last5.npy\",\n",
    "    to_predict[20000:].reshape(1, -1),\n",
    ")"
   ]
  },
  {
   "cell_type": "code",
   "execution_count": 5,
   "metadata": {},
   "outputs": [],
   "source": [
    "for flank_idx in [2, 4, 5, 6, 7, 8, 9, 10]:\n",
    "    optimized = np.load(\n",
    "        f\"/home/alex/shared_folder/SCerevisiae/generated/4kb_lowpol_10seq_flanksInt{flank_idx}_v2/designed_seqs/mut_seqs_step499.npy\"\n",
    "    )\n",
    "    np.savez(\n",
    "        f\"/home/alex/shared_folder/SCerevisiae/generated/4kb_lowpol_10seq_flanksInt{flank_idx}_v2/designed_seqs/lowpolforInt{flank_idx}_1kbflanks_ACGTidx.npz\",\n",
    "        left=optimized[0, :1000],\n",
    "        right=optimized[-1, -1000:],\n",
    "    )\n",
    "concat = np.load(\n",
    "    \"/home/alex/shared_folder/SCerevisiae/generated/4kb_lowpol_10seq_flanksInt2_v2/designed_seqs/concat_first5.npy\"\n",
    ")\n",
    "np.save(\n",
    "    \"/home/alex/shared_folder/SCerevisiae/generated/4kb_lowpol_10seq_flanksInt2_v2/designed_seqs/concat_first5_withoutfirstkb.npy\",\n",
    "    concat[:, :-1000],\n",
    ")\n",
    "concat = np.load(\n",
    "    \"/home/alex/shared_folder/SCerevisiae/generated/4kb_lowpol_10seq_flanksInt2_v2/designed_seqs/concat_last5.npy\"\n",
    ")\n",
    "np.save(\n",
    "    \"/home/alex/shared_folder/SCerevisiae/generated/4kb_lowpol_10seq_flanksInt2_v2/designed_seqs/concat_last5_withoutlastkb.npy\",\n",
    "    concat[:, :-1000],\n",
    ")"
   ]
  },
  {
   "cell_type": "code",
   "execution_count": 3,
   "metadata": {},
   "outputs": [],
   "source": [
    "exp_ids = [\n",
    "    f\"4kb_lowpol_10seq_randomflanks{suff}\"\n",
    "    for suff in [\"\", \"_v2\", \"_v3\", \"_v4\", \"_v5\", \"_v6\", \"_v7\", \"_v8\"]\n",
    "]\n",
    "seqs = []\n",
    "for exp_name in exp_ids:\n",
    "    seqs.append(\n",
    "        np.array(\n",
    "            [\n",
    "                np.load(\n",
    "                    f\"/home/alex/shared_folder/SCerevisiae/generated/{exp_name}/designed_seqs/start_seqs.npy\"\n",
    "                ),\n",
    "                np.load(\n",
    "                    f\"/home/alex/shared_folder/SCerevisiae/generated/{exp_name}/designed_seqs/mut_seqs_step499.npy\"\n",
    "                ),\n",
    "            ]\n",
    "        )\n",
    "    )\n",
    "seqs = np.concatenate(seqs, axis=1).transpose([1, 0, 2])\n",
    "\n",
    "lowrnas = np.array([37, 19, 29, 31, 39, 42, 57, 63, 70, 36])\n",
    "fwrnas = np.array([14, 16, 38, 46, 48, 50, 55, 56, 66, 76])\n",
    "rvrnas = np.array([10, 11, 18, 23, 32, 34, 65, 67, 77, 79])\n",
    "\n",
    "concat40kb_lowpol_norna = np.concatenate(seqs[lowrnas, 1])\n",
    "concat40kb_lowpol_fwrna = np.concatenate(seqs[fwrnas, 1])\n",
    "concat40kb_lowpol_rvrna = np.concatenate(seqs[rvrnas, 1])\n",
    "np.save(\n",
    "    f\"/home/alex/shared_folder/SCerevisiae/results/generated/{exp_name}/concat40kb_lowpol_norna.npy\",\n",
    "    concat40kb_lowpol_norna,\n",
    ")\n",
    "np.save(\n",
    "    f\"/home/alex/shared_folder/SCerevisiae/results/generated/{exp_name}/concat40kb_lowpol_fwrna.npy\",\n",
    "    concat40kb_lowpol_fwrna,\n",
    ")\n",
    "np.save(\n",
    "    f\"/home/alex/shared_folder/SCerevisiae/results/generated/{exp_name}/concat40kb_lowpol_rvrna.npy\",\n",
    "    concat40kb_lowpol_rvrna,\n",
    ")"
   ]
  },
  {
   "cell_type": "code",
   "execution_count": 5,
   "metadata": {},
   "outputs": [],
   "source": [
    "from Modules import utils\n",
    "\n",
    "seqstr = \"\".join(\n",
    "    np.array(list(\"ACGT\"))[\n",
    "        np.load(\n",
    "            \"/home/alex/shared_folder/SCerevisiae/results/generated/4kb_lowpol_10seq_randomflanks_v8/concat40kb_lowpol_norna.npy\"\n",
    "        )\n",
    "    ]\n",
    ")\n",
    "utils.write_fasta(\n",
    "    {\"concat40kb_lowpol_norna\": seqstr},\n",
    "    \"/home/alex/shared_folder/SCerevisiae/results/generated/4kb_lowpol_10seq_randomflanks_v8/concat40kb_lowpol_norna.fa\",\n",
    ")"
   ]
  },
  {
   "cell_type": "code",
   "execution_count": 11,
   "metadata": {},
   "outputs": [
    {
     "name": "stdout",
     "output_type": "stream",
     "text": [
      "(3, 40000)\n"
     ]
    }
   ],
   "source": [
    "import pandas as pd\n",
    "\n",
    "with np.load(\n",
    "    \"/home/alex/shared_folder/SCerevisiae/results/generated/4kb_lowpol_10seq_randomflanks_v8/preds_concat40kb_lowpol_norna_fwrna_rvrna_flanksInt2.npz\"\n",
    ") as f:\n",
    "    preds_pol = f[\"preds_pol\"]\n",
    "    preds_nuc = f[\"preds_nuc\"]\n",
    "    preds_rna = f[\"preds_rna\"]\n",
    "    preds_rna_rev = f[\"preds_rna_rev\"]\n",
    "\n",
    "df = pd.DataFrame(\n",
    "    np.stack(\n",
    "        [arr[0] for arr in [preds_pol, preds_nuc, preds_rna, preds_rna_rev]],\n",
    "        axis=1,\n",
    "    ),\n",
    "    columns=[\"pol\", \"nuc\", \"rna_for\", \"rna_rev\"],\n",
    ")\n",
    "df.to_csv(\n",
    "    \"/home/alex/shared_folder/SCerevisiae/results/generated/ToSend20240529/preds_concat40kb_lowpol_norna.csv\"\n",
    ")"
   ]
  }
 ],
 "metadata": {
  "kernelspec": {
   "display_name": "tf2.5",
   "language": "python",
   "name": "python3"
  },
  "language_info": {
   "codemirror_mode": {
    "name": "ipython",
    "version": 3
   },
   "file_extension": ".py",
   "mimetype": "text/x-python",
   "name": "python",
   "nbconvert_exporter": "python",
   "pygments_lexer": "ipython3",
   "version": "3.8.0"
  }
 },
 "nbformat": 4,
 "nbformat_minor": 2
}
