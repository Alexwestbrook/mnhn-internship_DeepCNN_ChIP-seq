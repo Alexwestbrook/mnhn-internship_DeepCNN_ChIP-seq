{
 "cells": [
  {
   "cell_type": "code",
   "execution_count": 1,
   "metadata": {},
   "outputs": [],
   "source": [
    "import numpy as np"
   ]
  },
  {
   "cell_type": "code",
   "execution_count": 3,
   "metadata": {},
   "outputs": [],
   "source": [
    "for flank_idx in [2, 4, 5, 6, 7, 8, 9, 10]:\n",
    "    optimized = np.load(\n",
    "        f\"/home/alex/shared_folder/SCerevisiae/generated/4kb_lowpol_10seq_flanksInt{flank_idx}_v2/designed_seqs/mut_seqs_step499.npy\"\n",
    "    )\n",
    "    np.savez(\n",
    "        f\"/home/alex/shared_folder/SCerevisiae/generated/4kb_lowpol_10seq_flanksInt{flank_idx}_v2/designed_seqs/lowpolforInt{flank_idx}_1kbflanks_ACGTidx.npz\",\n",
    "        left=optimized[0, :1000],\n",
    "        right=optimized[-1, -1000:],\n",
    "    )\n",
    "concat = np.load(\n",
    "    \"/home/alex/shared_folder/SCerevisiae/generated/4kb_lowpol_10seq_flanksInt2_v2/designed_seqs/concat_first5.npy\"\n",
    ")\n",
    "np.save(\n",
    "    \"/home/alex/shared_folder/SCerevisiae/generated/4kb_lowpol_10seq_flanksInt2_v2/designed_seqs/concat_first5_withoutfirstkb.npy\",\n",
    "    concat[:, :-1000],\n",
    ")\n",
    "concat = np.load(\n",
    "    \"/home/alex/shared_folder/SCerevisiae/generated/4kb_lowpol_10seq_flanksInt2_v2/designed_seqs/concat_last5.npy\"\n",
    ")\n",
    "np.save(\n",
    "    \"/home/alex/shared_folder/SCerevisiae/generated/4kb_lowpol_10seq_flanksInt2_v2/designed_seqs/concat_last5_withoutlastkb.npy\",\n",
    "    concat[:, :-1000],\n",
    ")"
   ]
  }
 ],
 "metadata": {
  "kernelspec": {
   "display_name": "tf2.5",
   "language": "python",
   "name": "python3"
  },
  "language_info": {
   "codemirror_mode": {
    "name": "ipython",
    "version": 3
   },
   "file_extension": ".py",
   "mimetype": "text/x-python",
   "name": "python",
   "nbconvert_exporter": "python",
   "pygments_lexer": "ipython3",
   "version": "3.8.0"
  }
 },
 "nbformat": 4,
 "nbformat_minor": 2
}
