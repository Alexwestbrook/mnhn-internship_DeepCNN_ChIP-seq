{
 "cells": [
  {
   "cell_type": "markdown",
   "metadata": {},
   "source": [
    "# Generating sequences by kinetic Monte-Carlo"
   ]
  },
  {
   "cell_type": "markdown",
   "metadata": {},
   "source": [
    "Imports"
   ]
  },
  {
   "cell_type": "code",
   "execution_count": 2,
   "metadata": {},
   "outputs": [
    {
     "name": "stderr",
     "output_type": "stream",
     "text": [
      "2022-12-16 15:40:57.830111: I tensorflow/stream_executor/platform/default/dso_loader.cc:53] Successfully opened dynamic library libcudart.so.11.0\n"
     ]
    }
   ],
   "source": [
    "import importlib\n",
    "from pathlib import Path\n",
    "\n",
    "import matplotlib as mpl\n",
    "import matplotlib.pyplot as plt\n",
    "\n",
    "import tensorflow as tf\n",
    "from tensorflow.keras import backend as K\n",
    "from tensorflow.keras.losses import mean_absolute_error\n",
    "\n",
    "import numpy as np\n",
    "\n",
    "from scipy.stats import pearsonr\n",
    "\n",
    "from Modules import utils, plot_utils"
   ]
  },
  {
   "cell_type": "code",
   "execution_count": 3,
   "metadata": {},
   "outputs": [],
   "source": [
    "importlib.reload(utils)\n",
    "importlib.reload(plot_utils)\n",
    "data_dir = '../shared_folder'\n",
    "writing_dir = '../shared_folder'\n",
    "# writing_dir='../'\n",
    "prop_cycle = plt.rcParams['axes.prop_cycle']\n",
    "colors = prop_cycle.by_key()['color']"
   ]
  },
  {
   "cell_type": "markdown",
   "metadata": {},
   "source": [
    "Functions from MyModuleLibrary"
   ]
  },
  {
   "cell_type": "code",
   "execution_count": 4,
   "metadata": {},
   "outputs": [],
   "source": [
    "def correlate(y_true, y_pred):\n",
    "    \"\"\"\n",
    "\t\tCalculate the correlation between the predictions and the labels.\n",
    "\n",
    "\t\t:Example:\n",
    "\n",
    "\t\t>>> model.compile(optimizer = 'adam', losses = correlate)\n",
    "\t\t>>> load_model('file', custom_objects = {'correlate : correlate})\n",
    "\t\"\"\"\n",
    "    X = y_true - K.mean(y_true)\n",
    "    Y = y_pred - K.mean(y_pred)\n",
    "    \n",
    "    sigma_XY = K.sum(X*Y)\n",
    "    sigma_X = K.sqrt(K.sum(X*X))\n",
    "    sigma_Y = K.sqrt(K.sum(Y*Y))\n",
    "    \n",
    "    return sigma_XY/(sigma_X*sigma_Y + K.epsilon())\n",
    "\n",
    "def mae_cor(y_true, y_pred):\n",
    "    \"\"\"\n",
    "\t   Calculate the mean absolute error minus the correlation between\n",
    "        predictions and  labels.\n",
    "\n",
    "\t\t:Example:\n",
    "\n",
    "\t\t>>> model.compile(optimizer = 'adam', losses = mae_cor)\n",
    "\t\t>>> load_model('file', custom_objects = {'mae_cor : mae_cor})\n",
    "\t\"\"\"\n",
    "    X = y_true - K.mean(y_true)\n",
    "    Y = y_pred - K.mean(y_pred)\n",
    "    \n",
    "    sigma_XY = K.sum(X*Y)\n",
    "    sigma_X = K.sqrt(K.sum(X*X))\n",
    "    sigma_Y = K.sqrt(K.sum(Y*Y))\n",
    "    \n",
    "    cor = sigma_XY/(sigma_X*sigma_Y + K.epsilon())\n",
    "    mae = K.mean(K.abs(y_true - y_pred))\n",
    "    \n",
    "    return 1 + mae - cor\n",
    "\n",
    "def rolling_window(array, window=(0,), asteps=None, wsteps=None, axes=None, toend=True):  \n",
    "    \"\"\" \n",
    "        Take a numpy array and return a view of this array after applying a rolling window.\n",
    "\n",
    "        This takes a numpy and cut it in several pieces with the size, the stride and the \n",
    "        axes asked as needed. You may want to use it in order to create a set of sequences\n",
    "        from an array.\n",
    "\n",
    "        :param array: The array we want to cut\n",
    "        :param window: The length of the window\n",
    "        :param asteps: The stride between two window applied\n",
    "        :param wsteps: The stride whitin the window\n",
    "        :param axes: The axe on which to apply the rolling window\n",
    "        :param toend: Weither or not to finish the cut\n",
    "        :type array: numpy array\n",
    "        :type window: int or tuple\n",
    "        :type asteps: int or tuple\n",
    "        :type wsteps: int or tuple\n",
    "        :type axes: int\n",
    "        :type toend: boolean\n",
    "        :return: The view of the array\n",
    "        :rtype: numpy array\n",
    "\n",
    "        :Example:\n",
    "\n",
    "        >>> a = numpy.array([0,1,2,3,4,5])\n",
    "        >>> rolling_window(a, window = 2, asteps = 2, wsteps = None)\n",
    "        array([[0,1],\n",
    "               [2,3],\n",
    "               [4,5]])\n",
    "        >>> rolling_window(a, window = 2, asteps = None, wsteps = 2)\n",
    "        array([[0,2],\n",
    "               [1,3],\n",
    "               [2,4]\n",
    "               [3,5]])\n",
    "        >>> rolling_window(a, window = 5, asteps = 2, wsteps = None)\n",
    "        array([[0,1,2,3,4]])\n",
    "\n",
    "        .. warning:: Be carreful about the combination of window, wsteps and asteps that may raise \n",
    "                     ValueError. This function forces the window to be of the asked size and thus \n",
    "                     may stop the application of the window before the end.\n",
    "    \"\"\"        \n",
    "\n",
    "    array = np.asarray(array)\n",
    "    orig_shape = np.asarray(array.shape)\n",
    "    window = np.atleast_1d(window).astype(int) # maybe crude to cast to int...\n",
    "\n",
    "    if axes is not None:\n",
    "        axes = np.atleast_1d(axes)\n",
    "        w = np.zeros(array.ndim, dtype=int)\n",
    "        for axis, size in zip(axes, window):\n",
    "            w[axis] = size\n",
    "        window = w\n",
    "\n",
    "    # Check if window is legal:\n",
    "    if window.ndim > 1:\n",
    "        raise ValueError(\"`window` must be one-dimensional.\")\n",
    "    if np.any(window < 0):\n",
    "        raise ValueError(\"All elements of `window` must be larger than 1.\")\n",
    "    if len(array.shape) < len(window):\n",
    "        raise ValueError(\"`window` length must be less or equal `array` dimension.\") \n",
    "\n",
    "    _asteps = np.ones_like(orig_shape)\n",
    "    if asteps is not None:\n",
    "        asteps = np.atleast_1d(asteps)\n",
    "        if asteps.ndim != 1:\n",
    "            raise ValueError(\"`asteps` must be either a scalar or one dimensional.\")\n",
    "        if len(asteps) > array.ndim:\n",
    "            raise ValueError(\"`asteps` cannot be longer then the `array` dimension.\")\n",
    "        # does not enforce alignment, so that steps can be same as window too.\n",
    "        _asteps[-len(asteps):] = asteps\n",
    "        \n",
    "        if np.any(asteps < 1):\n",
    "             raise ValueError(\"All elements of `asteps` must be larger then 1.\")\n",
    "    asteps = _asteps\n",
    "\n",
    "    _wsteps = np.ones_like(window)\n",
    "    if wsteps is not None:\n",
    "        wsteps = np.atleast_1d(wsteps)\n",
    "        if wsteps.shape != window.shape:\n",
    "            raise ValueError(\"`wsteps` must have the same shape as `window`.\")\n",
    "        if np.any(wsteps < 0):\n",
    "             raise ValueError(\"All elements of `wsteps` must be larger then 0.\")\n",
    "\n",
    "        _wsteps[:] = wsteps\n",
    "        _wsteps[window == 0] = 1 # make sure that steps are 1 for non-existing dims.\n",
    "    wsteps = _wsteps\n",
    "\n",
    "    # Check that the window would not be larger than the original:\n",
    "    if np.any(orig_shape[-len(window):] < window * wsteps):\n",
    "        raise ValueError(\"`window` * `wsteps` larger then `array` in at least one dimension.\")\n",
    "\n",
    "    new_shape = orig_shape # just renaming...\n",
    "\n",
    "    # For calculating the new shape 0s must act like 1s:\n",
    "    _window = window.copy()\n",
    "    _window[_window==0] = 1\n",
    "\n",
    "    new_shape[-len(window):] += wsteps - _window * wsteps\n",
    "    new_shape = (new_shape + asteps - 1) // asteps\n",
    "    # make sure the new_shape is at least 1 in any \\\"old\\\" dimension (ie. steps\n",
    "    # is (too) large, but we do not care.\n",
    "    new_shape[new_shape < 1] = 1\n",
    "    shape = new_shape\n",
    "\n",
    "    strides = np.asarray(array.strides)\n",
    "    strides *= asteps\n",
    "    new_strides = array.strides[-len(window):] * wsteps\n",
    "    \n",
    "    # The full new shape and strides:\n",
    "    if toend:\n",
    "        new_shape = np.concatenate((shape, window))\n",
    "        new_strides = np.concatenate((strides, new_strides))\n",
    "    else:\n",
    "        _ = np.zeros_like(shape)\n",
    "        _[-len(window):] = window\n",
    "        _window = _.copy()\n",
    "        _[-len(window):] = new_strides\n",
    "        _new_strides = _\n",
    "        \n",
    "        new_shape = np.zeros(len(shape)*2, dtype=int)\n",
    "        new_strides = np.zeros(len(shape)*2, dtypenucleotid=int)\n",
    "        \n",
    "        new_shape[::2] = shape\n",
    "        new_strides[::2] = strides\n",
    "        new_shape[1::2] = _window\n",
    "        new_strides[1::2] = _new_strides\n",
    "    \n",
    "    new_strides = new_strides[new_shape != 0]\n",
    "    new_shape = new_shape[new_shape != 0]\n",
    "    \n",
    "    return np.lib.stride_tricks.as_strided(array, shape=new_shape, strides=new_strides)"
   ]
  },
  {
   "cell_type": "markdown",
   "metadata": {},
   "source": [
    "#### Load models"
   ]
  },
  {
   "cell_type": "code",
   "execution_count": 195,
   "metadata": {},
   "outputs": [],
   "source": [
    "data = 'SCerevisiae'\n",
    "model_nucleosome = tf.keras.models.load_model(f'{data_dir}/{data}/models/weights_myco_rep1.hdf5', custom_objects={'correlate' : correlate, 'mae_cor' : mae_cor})\n",
    "model_nucleosome2 = tf.keras.models.load_model(f'{data_dir}/{data}/models/weights_nucleosome_myco_rep2.hdf5', custom_objects={'correlate' : correlate, 'mae_cor' : mae_cor})\n",
    "model_nucleosome3 = tf.keras.models.load_model(f'{data_dir}/{data}/models/weights_nucleosome_myco_rep3.hdf5', custom_objects={'correlate' : correlate, 'mae_cor' : mae_cor})\n",
    "model_nucleosome_pneu = tf.keras.models.load_model(f'{data_dir}/{data}/models/weights_pneu_rep1.hdf5', custom_objects={'correlate' : correlate, 'mae_cor' : mae_cor})\n",
    "model_nucleosome_all = tf.keras.models.load_model(f'{data_dir}/{data}/models/weights_CNN_nucleosome_in_vivo_all_data.hdf5', custom_objects={'correlate' : correlate, 'mae_cor' : mae_cor})\n",
    "model_cohesine = tf.keras.models.load_model(f'{data_dir}/{data}/models/weights_myco_rep1_cohesine_3.hdf5', custom_objects={'correlate': correlate})\n",
    "model_pol = tf.keras.models.load_model(f'{data_dir}/{data}/models/weights_myco_pol2_2048_16_3.hdf5', custom_objects={'correlate' : correlate})"
   ]
  },
  {
   "cell_type": "markdown",
   "metadata": {},
   "source": [
    "Load chromosome"
   ]
  },
  {
   "cell_type": "code",
   "execution_count": 241,
   "metadata": {},
   "outputs": [
    {
     "data": {
      "text/plain": [
       "(986200, 4)"
      ]
     },
     "execution_count": 241,
     "metadata": {},
     "output_type": "execute_result"
    }
   ],
   "source": [
    "chr_id = 'chr16'\n",
    "with np.load(Path(data_dir, data, 'genome', 'W303.npz')) as f:\n",
    "    one_hot_chr = f[chr_id]\n",
    "reverse = one_hot_chr[::-1,::-1]\n",
    "one_hot_chr.shape"
   ]
  },
  {
   "cell_type": "code",
   "execution_count": 104,
   "metadata": {},
   "outputs": [
    {
     "data": {
      "text/plain": [
       "(133867, 4)"
      ]
     },
     "execution_count": 104,
     "metadata": {},
     "output_type": "execute_result"
    }
   ],
   "source": [
    "with np.load(Path(data_dir, data, 'data', 'chr4_SynEC100.npz')) as f:\n",
    "    for k in f.keys():\n",
    "        one_hot_seq = f[k]\n",
    "        break\n",
    "one_hot_seq.shape"
   ]
  },
  {
   "cell_type": "code",
   "execution_count": 242,
   "metadata": {},
   "outputs": [
    {
     "name": "stdout",
     "output_type": "stream",
     "text": [
      "(984200, 2001, 1, 4)\n"
     ]
    }
   ],
   "source": [
    "annotation_type = 'nucleosome'\n",
    "if annotation_type == 'nucleosome':\n",
    "    WINDOW = 2001\n",
    "    X = rolling_window(reverse, window=(WINDOW, 4))[:, 0, :, None,  :]\n",
    "    print(X.shape)\n",
    "    pred_nucleosome = np.zeros(len(one_hot_chr))\n",
    "    pred_nucleosome[WINDOW//2:-(WINDOW//2)] = model_nucleosome.predict(X)[:, 0]\n",
    "    pred_nucleosome2 = np.zeros(len(one_hot_chr))\n",
    "    pred_nucleosome2[WINDOW//2:-(WINDOW//2)] = model_nucleosome2.predict(X)[:, 0]\n",
    "    pred_nucleosome3 = np.zeros(len(one_hot_chr))\n",
    "    pred_nucleosome3[WINDOW//2:-(WINDOW//2)] = model_nucleosome3.predict(X)[:, 0]\n",
    "    pred_nucleosome_pneu = np.zeros(len(one_hot_chr))\n",
    "    pred_nucleosome_pneu[WINDOW//2:-(WINDOW//2)] = model_nucleosome_pneu.predict(X)[:, 0]\n",
    "    pred_nucleosome_all = np.zeros(len(one_hot_chr))\n",
    "    pred_nucleosome_all[WINDOW//2:-(WINDOW//2)] = model_nucleosome_all.predict(X)[:, 0]\n",
    "elif annotation_type == 'cohesine':\n",
    "    WINDOW = 32768\n",
    "    X = rolling_window(one_hot_chr, window=(WINDOW, 4), asteps=(WINDOW, 4))[:, 0, :, :]\n",
    "    print(X.shape)\n",
    "    pred_cohesine = np.zeros((len(one_hot_chr),))\n",
    "    y = model_cohesine.predict(X)\n",
    "    y = np.repeat(y.ravel(), 128)\n",
    "    pred_cohesine[:len(y)] = y\n",
    "elif annotation_type == 'pol':\n",
    "    WINDOW = 2048\n",
    "    X = rolling_window(one_hot_chr, window=(WINDOW, 4), asteps=(WINDOW, 4))[:, 0, :, :]\n",
    "    print(X.shape)\n",
    "    pred_pol = np.zeros((len(one_hot_chr),))\n",
    "    y = model_pol.predict(X)\n",
    "    y = np.repeat(y.ravel(), 128)\n",
    "    pred_pol[:len(y)] = y"
   ]
  },
  {
   "cell_type": "markdown",
   "metadata": {},
   "source": [
    "Predict"
   ]
  },
  {
   "cell_type": "code",
   "execution_count": 192,
   "metadata": {},
   "outputs": [],
   "source": [
    "smooth_pred_nucleosome = utils.smooth(pred_nucleosome, 201, mode='gaussian', sigma=10)"
   ]
  },
  {
   "cell_type": "code",
   "execution_count": 193,
   "metadata": {},
   "outputs": [
    {
     "data": {
      "text/plain": [
       "(986200,)"
      ]
     },
     "execution_count": 193,
     "metadata": {},
     "output_type": "execute_result"
    }
   ],
   "source": [
    "pred_nucleosome_etienne = np.load(Path(data_dir, data, 'results', 'nucleosome_pneu_rep1_chr16.npy'))\n",
    "pred_nucleosome_etienne.shape # 986200\n",
    "# preds_etienne[-1010:-990]"
   ]
  },
  {
   "cell_type": "code",
   "execution_count": 243,
   "metadata": {},
   "outputs": [
    {
     "data": {
      "image/png": "[encoded data removed]",
      "text/plain": [
       "<Figure size 1080x288 with 1 Axes>"
      ]
     },
     "metadata": {
      "needs_background": "light"
     },
     "output_type": "display_data"
    }
   ],
   "source": [
    "start = 230_000\n",
    "end = 235_000\n",
    "plt.figure(figsize=(15, 4))\n",
    "plt.bar(np.arange(start, end), height=pred_nucleosome[start:end], width=1, alpha=0.3, color=(0, 0, 1), label='pred_myco')\n",
    "plt.bar(np.arange(start, end), height=pred_nucleosome_pneu[start:end], width=1, alpha=0.3, color=(1, 0, 0), label='pred_pneu')\n",
    "plt.bar(np.arange(start, end), height=pred_nucleosome_etienne[start:end], width=1, alpha=0.3, color=(0, 1, 0), label='pred_etienne')\n",
    "plt.ylim(0, 1)\n",
    "plt.legend()\n",
    "plt.show()\n",
    "plt.close()"
   ]
  },
  {
   "cell_type": "code",
   "execution_count": 244,
   "metadata": {},
   "outputs": [
    {
     "data": {
      "image/png": "[encoded data removed]",
      "text/plain": [
       "<Figure size 432x288 with 1 Axes>"
      ]
     },
     "metadata": {
      "needs_background": "light"
     },
     "output_type": "display_data"
    }
   ],
   "source": [
    "l = [pearsonr(pred_nucleosome, pred_nucleosome_etienne)[0]]\n",
    "for i in range(1, 2000, 7):\n",
    "    l.append(pearsonr(pred_nucleosome[i:], pred_nucleosome_etienne[:-i])[0])\n",
    "plt.plot(l)\n",
    "plt.show()\n",
    "plt.close()"
   ]
  },
  {
   "cell_type": "code",
   "execution_count": 245,
   "metadata": {},
   "outputs": [
    {
     "data": {
      "image/png": "[encoded data removed]",
      "text/plain": [
       "<Figure size 1080x288 with 1 Axes>"
      ]
     },
     "metadata": {
      "needs_background": "light"
     },
     "output_type": "display_data"
    }
   ],
   "source": [
    "plt.figure(figsize=(15, 4))\n",
    "plt.bar(np.arange(start, end), height=pred_nucleosome2[start:end], width=1, alpha=0.3, color=(0, 0, 1), label='pred2')\n",
    "plt.bar(np.arange(start, end), height=pred_nucleosome3[start:end], width=1, alpha=0.3, color=(1, 0, 0), label='pred3')\n",
    "plt.bar(np.arange(start, end), height=pred_nucleosome_etienne[start:end], width=1, alpha=0.3, color=(0, 1, 0), label='pred_etienne')\n",
    "plt.ylim(0, 1)\n",
    "plt.legend()\n",
    "plt.show()\n",
    "plt.close()"
   ]
  },
  {
   "cell_type": "code",
   "execution_count": 246,
   "metadata": {},
   "outputs": [
    {
     "data": {
      "image/png": "[encoded data removed]",
      "text/plain": [
       "<Figure size 1080x288 with 1 Axes>"
      ]
     },
     "metadata": {
      "needs_background": "light"
     },
     "output_type": "display_data"
    }
   ],
   "source": [
    "plt.figure(figsize=(15, 4))\n",
    "plt.bar(np.arange(start, end), height=pred_nucleosome_all[start:end], width=1, alpha=0.3, color=(0, 0, 1), label='pred_all')\n",
    "plt.bar(np.arange(start, end), height=pred_nucleosome_etienne[start:end], width=1, alpha=0.3, color=(0, 1, 0), label='pred_etienne')\n",
    "plt.ylim(0, 1)\n",
    "plt.legend()\n",
    "plt.show()\n",
    "plt.close()"
   ]
  },
  {
   "cell_type": "code",
   "execution_count": 188,
   "metadata": {},
   "outputs": [
    {
     "data": {
      "image/png": "[encoded data removed]",
      "text/plain": [
       "<Figure size 1080x288 with 1 Axes>"
      ]
     },
     "metadata": {
      "needs_background": "light"
     },
     "output_type": "display_data"
    }
   ],
   "source": [
    "start = 230_000\n",
    "end = 235_000\n",
    "plt.figure(figsize=(15, 4))\n",
    "plt.bar(np.arange(start, end), height=smooth_pred_nucleosome[start:end], width=1, alpha=0.3, color=(0, 0, 1))\n",
    "plt.ylim(0, 1)\n",
    "plt.show()\n",
    "plt.close()"
   ]
  },
  {
   "cell_type": "code",
   "execution_count": 62,
   "metadata": {},
   "outputs": [
    {
     "data": {
      "image/png": "[encoded data removed]",
      "text/plain": [
       "<Figure size 1080x288 with 1 Axes>"
      ]
     },
     "metadata": {
      "needs_background": "light"
     },
     "output_type": "display_data"
    }
   ],
   "source": [
    "start = 300_000\n",
    "end = 360_000\n",
    "plt.figure(figsize=(15, 4))\n",
    "plt.bar(np.arange(start, end), height=pred_cohesine[start:end], width=1, alpha=0.3, color=(0, 0, 1))\n",
    "plt.show()\n",
    "plt.close()"
   ]
  },
  {
   "cell_type": "code",
   "execution_count": 70,
   "metadata": {},
   "outputs": [
    {
     "data": {
      "image/png": "[encoded data removed]",
      "text/plain": [
       "<Figure size 1080x288 with 1 Axes>"
      ]
     },
     "metadata": {
      "needs_background": "light"
     },
     "output_type": "display_data"
    }
   ],
   "source": [
    "start = 660_000\n",
    "end = 810_000\n",
    "plt.figure(figsize=(15, 4))\n",
    "plt.bar(np.arange(start, end), height=pred_pol[start:end], width=1, alpha=0.3, color=(0, 0, 1))\n",
    "plt.show()\n",
    "plt.close()"
   ]
  },
  {
   "cell_type": "markdown",
   "metadata": {},
   "source": [
    "## Kinetic Monte Carlo"
   ]
  },
  {
   "cell_type": "code",
   "execution_count": null,
   "metadata": {},
   "outputs": [],
   "source": [
    "# initialisation :\n",
    "# use ATGC content from SCerevisiae\n",
    "# build 1000 sequences of length N\n",
    "# mutation and selection: \n",
    "# make every 3*N single nucleotide mutation\n",
    "# selection probability of 1/norm * exp(-delta_energy / T)\n",
    "# 10**4 steps\n",
    "# save each configuration and keep best\n",
    "# energy :\n",
    "# create a 2001 + N sequence repeating the length N sequence, centered on it\n",
    "# distance to target density E_reg is d(x, y) = 1 - corr(x, y) + 1/N * sum(abs(x_i - y_i))\n",
    "# GC content constraint E_GC is abs(GC_synt - GC_nat) GC_nat=0.38\n",
    "# E_mut penalizes sequences already seen\n",
    "# E_rev, like E_reg but on reverse strand\n",
    "# total energy is exp(-(a*E_GC + b*E_reg + c*E_rev + d*E_mut)/T)"
   ]
  },
  {
   "cell_type": "code",
   "execution_count": 5,
   "metadata": {},
   "outputs": [],
   "source": [
    "SCer_GC = 0.38\n",
    "SCer_p = [0.31, 0.19, 0.19, 0.31]"
   ]
  },
  {
   "cell_type": "code",
   "execution_count": 12,
   "metadata": {},
   "outputs": [],
   "source": [
    "n_seqs = 6\n",
    "seq_length = 5\n",
    "seqs1 = np.random.choice(['A', 'C', 'G', 'T'], (n_seqs, seq_length), p=SCer_p)\n",
    "one_hots1 = utils.one_hot_encoding(seqs1, read_length=seq_length, one_hot_type=int).reshape(n_seqs, seq_length, 4)\n",
    "seqs2 = np.random.choice(['A', 'C', 'G', 'T'], (n_seqs, seq_length), p=SCer_p)\n",
    "one_hots2 = utils.one_hot_encoding(seqs2, read_length=seq_length, one_hot_type=int).reshape(n_seqs, seq_length, 4)"
   ]
  },
  {
   "cell_type": "code",
   "execution_count": 237,
   "metadata": {},
   "outputs": [],
   "source": [
    "from Modules import models\n",
    "importlib.reload(models)\n",
    "model = models.build_model('inception_dna_paired_v1')"
   ]
  },
  {
   "cell_type": "code",
   "execution_count": 240,
   "metadata": {},
   "outputs": [
    {
     "data": {
      "text/plain": [
       "array([[0.68842316],\n",
       "       [0.62810767],\n",
       "       [0.5163134 ],\n",
       "       [0.56415707]], dtype=float32)"
      ]
     },
     "execution_count": 240,
     "metadata": {},
     "output_type": "execute_result"
    }
   ],
   "source": [
    "model.predict([one_hots1, one_hots2])"
   ]
  },
  {
   "cell_type": "code",
   "execution_count": 28,
   "metadata": {},
   "outputs": [
    {
     "data": {
      "text/plain": [
       "(2, 3, 1, 4)"
      ]
     },
     "execution_count": 28,
     "metadata": {},
     "output_type": "execute_result"
    }
   ],
   "source": [
    "one_hots.shape"
   ]
  },
  {
   "cell_type": "code",
   "execution_count": 29,
   "metadata": {},
   "outputs": [
    {
     "ename": "ValueError",
     "evalue": "matmul: Input operand 1 has a mismatch in its core dimension 0, with gufunc signature (n?,k),(k,m?)->(n?,m?) (size 1 is different from 2)",
     "output_type": "error",
     "traceback": [
      "\u001b[0;31m---------------------------------------------------------------------------\u001b[0m",
      "\u001b[0;31mValueError\u001b[0m                                Traceback (most recent call last)",
      "\u001b[0;32m/tmp/ipykernel_517148/2742432151.py\u001b[0m in \u001b[0;36m<module>\u001b[0;34m\u001b[0m\n\u001b[1;32m      1\u001b[0m \u001b[0mmult\u001b[0m \u001b[0;34m=\u001b[0m \u001b[0mnp\u001b[0m\u001b[0;34m.\u001b[0m\u001b[0marray\u001b[0m\u001b[0;34m(\u001b[0m\u001b[0;34m[\u001b[0m\u001b[0;36m1\u001b[0m\u001b[0;34m,\u001b[0m \u001b[0;36m1\u001b[0m\u001b[0;34m]\u001b[0m\u001b[0;34m)\u001b[0m\u001b[0;34m.\u001b[0m\u001b[0mreshape\u001b[0m\u001b[0;34m(\u001b[0m\u001b[0;36m1\u001b[0m\u001b[0;34m,\u001b[0m \u001b[0;36m2\u001b[0m\u001b[0;34m)\u001b[0m\u001b[0;34m\u001b[0m\u001b[0;34m\u001b[0m\u001b[0m\n\u001b[0;32m----> 2\u001b[0;31m \u001b[0mmult\u001b[0m \u001b[0;34m@\u001b[0m \u001b[0mone_hots\u001b[0m\u001b[0;34m\u001b[0m\u001b[0;34m\u001b[0m\u001b[0m\n\u001b[0m",
      "\u001b[0;31mValueError\u001b[0m: matmul: Input operand 1 has a mismatch in its core dimension 0, with gufunc signature (n?,k),(k,m?)->(n?,m?) (size 1 is different from 2)"
     ]
    }
   ],
   "source": [
    "mult = np.ones([1, 1]).reshape(1, 1, 1, 1)\n"
   ]
  }
 ],
 "metadata": {
  "kernelspec": {
   "display_name": "Python 3.8.0 ('tf2.5': conda)",
   "language": "python",
   "name": "python3"
  },
  "language_info": {
   "codemirror_mode": {
    "name": "ipython",
    "version": 3
   },
   "file_extension": ".py",
   "mimetype": "text/x-python",
   "name": "python",
   "nbconvert_exporter": "python",
   "pygments_lexer": "ipython3",
   "version": "3.8.0"
  },
  "orig_nbformat": 4,
  "vscode": {
   "interpreter": {
    "hash": "00e7424330818c90ac25a9eb217b83ab19236ec3c884b7e4b78b97ecfb399601"
   }
  }
 },
 "nbformat": 4,
 "nbformat_minor": 2
}
